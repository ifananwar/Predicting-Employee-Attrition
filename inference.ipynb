{
 "cells": [
  {
   "cell_type": "code",
   "execution_count": 1,
   "id": "e8a8fc39",
   "metadata": {},
   "outputs": [],
   "source": [
    "# Import Library\n",
    "import pandas as pd\n",
    "import pickle"
   ]
  },
  {
   "cell_type": "code",
   "execution_count": null,
   "id": "5b5c8cd9",
   "metadata": {},
   "outputs": [
    {
     "data": {
      "text/html": [
       "<div>\n",
       "<style scoped>\n",
       "    .dataframe tbody tr th:only-of-type {\n",
       "        vertical-align: middle;\n",
       "    }\n",
       "\n",
       "    .dataframe tbody tr th {\n",
       "        vertical-align: top;\n",
       "    }\n",
       "\n",
       "    .dataframe thead th {\n",
       "        text-align: right;\n",
       "    }\n",
       "</style>\n",
       "<table border=\"1\" class=\"dataframe\">\n",
       "  <thead>\n",
       "    <tr style=\"text-align: right;\">\n",
       "      <th></th>\n",
       "      <th>Age</th>\n",
       "      <th>Attrition</th>\n",
       "      <th>BusinessTravel</th>\n",
       "      <th>DailyRate</th>\n",
       "      <th>Department</th>\n",
       "      <th>DistanceFromHome</th>\n",
       "      <th>Education</th>\n",
       "      <th>EducationField</th>\n",
       "      <th>EmployeeNumber</th>\n",
       "      <th>EnvironmentSatisfaction</th>\n",
       "      <th>...</th>\n",
       "      <th>PerformanceRating</th>\n",
       "      <th>RelationshipSatisfaction</th>\n",
       "      <th>StockOptionLevel</th>\n",
       "      <th>TotalWorkingYears</th>\n",
       "      <th>TrainingTimesLastYear</th>\n",
       "      <th>WorkLifeBalance</th>\n",
       "      <th>YearsAtCompany</th>\n",
       "      <th>YearsInCurrentRole</th>\n",
       "      <th>YearsSinceLastPromotion</th>\n",
       "      <th>YearsWithCurrManager</th>\n",
       "    </tr>\n",
       "  </thead>\n",
       "  <tbody>\n",
       "    <tr>\n",
       "      <th>0</th>\n",
       "      <td>41</td>\n",
       "      <td>1</td>\n",
       "      <td>Travel_Rarely</td>\n",
       "      <td>1102</td>\n",
       "      <td>Sales</td>\n",
       "      <td>1</td>\n",
       "      <td>2</td>\n",
       "      <td>Life Sciences</td>\n",
       "      <td>1</td>\n",
       "      <td>2</td>\n",
       "      <td>...</td>\n",
       "      <td>3</td>\n",
       "      <td>1</td>\n",
       "      <td>0</td>\n",
       "      <td>8</td>\n",
       "      <td>0</td>\n",
       "      <td>1</td>\n",
       "      <td>6</td>\n",
       "      <td>4</td>\n",
       "      <td>0</td>\n",
       "      <td>5</td>\n",
       "    </tr>\n",
       "  </tbody>\n",
       "</table>\n",
       "<p>1 rows × 32 columns</p>\n",
       "</div>"
      ],
      "text/plain": [
       "   Age  Attrition BusinessTravel  DailyRate Department  DistanceFromHome  \\\n",
       "0   41          1  Travel_Rarely       1102      Sales                 1   \n",
       "\n",
       "   Education EducationField  EmployeeNumber  EnvironmentSatisfaction  ...  \\\n",
       "0          2  Life Sciences               1                        2  ...   \n",
       "\n",
       "  PerformanceRating  RelationshipSatisfaction  StockOptionLevel  \\\n",
       "0                 3                         1                 0   \n",
       "\n",
       "   TotalWorkingYears TrainingTimesLastYear  WorkLifeBalance YearsAtCompany  \\\n",
       "0                  8                     0                1              6   \n",
       "\n",
       "   YearsInCurrentRole  YearsSinceLastPromotion  YearsWithCurrManager  \n",
       "0                   4                        0                     5  \n",
       "\n",
       "[1 rows x 32 columns]"
      ]
     },
     "execution_count": 2,
     "metadata": {},
     "output_type": "execute_result"
    }
   ],
   "source": [
    "# Create new data to predict\n",
    "data_inf = {\n",
    "    'Age' : 41,\n",
    "    'Attrition' : 1,\n",
    "    'BusinessTravel' : 'Travel_Rarely',\n",
    "    'DailyRate' : 1102,\n",
    "    'Department' : 'Sales',\n",
    "    'DistanceFromHome' : 1,\n",
    "    'Education' : 2,\n",
    "    'EducationField' : 'Life Sciences',\n",
    "    'EmployeeNumber' : 1,\n",
    "    'EnvironmentSatisfaction' : 2,\n",
    "    'Gender' : 'Female',\n",
    "    'HourlyRate' : 94,\n",
    "    'JobInvolvement' : 3,\n",
    "    'JobLevel' : 2,\n",
    "    'JobRole' : 'Sales Executive',\n",
    "    'JobSatisfaction' : 4,\n",
    "    'MaritalStatus' : 'Single',\n",
    "    'MonthlyIncome' : 6000,\n",
    "    'MonthlyRate' : 19500,\n",
    "    'NumCompaniesWorked' : 8,\n",
    "    'OverTime' : 'Yes',\n",
    "    'PercentSalaryHike' : 11,\n",
    "    'PerformanceRating' : 3,\n",
    "    'RelationshipSatisfaction' : 1,\n",
    "    'StockOptionLevel' : 0,\n",
    "    'TotalWorkingYears' : 8,\n",
    "    'TrainingTimesLastYear' : 0,\n",
    "    'WorkLifeBalance' : 1,\n",
    "    'YearsAtCompany' : 6,\n",
    "    'YearsInCurrentRole' : 4,\n",
    "    'YearsSinceLastPromotion' : 0,\n",
    "    'YearsWithCurrManager' : 5\n",
    "}\n",
    "\n",
    "# Make dataframe\n",
    "data_inf = pd.DataFrame([data_inf])\n",
    "data_inf"
   ]
  },
  {
   "cell_type": "code",
   "execution_count": null,
   "id": "1f417e8b",
   "metadata": {},
   "outputs": [],
   "source": [
    "# Load model\n",
    "with open('best_model.pkl', 'rb') as file:\n",
    "    best_model = pickle.load(file)"
   ]
  },
  {
   "cell_type": "code",
   "execution_count": null,
   "id": "c3621571",
   "metadata": {},
   "outputs": [
    {
     "data": {
      "text/plain": [
       "array([1])"
      ]
     },
     "execution_count": 4,
     "metadata": {},
     "output_type": "execute_result"
    }
   ],
   "source": [
    "# Prediction\n",
    "y_pred_inf = best_model.predict(data_inf)\n",
    "y_pred_inf"
   ]
  }
 ],
 "metadata": {
  "kernelspec": {
   "display_name": "base",
   "language": "python",
   "name": "python3"
  },
  "language_info": {
   "codemirror_mode": {
    "name": "ipython",
    "version": 3
   },
   "file_extension": ".py",
   "mimetype": "text/x-python",
   "name": "python",
   "nbconvert_exporter": "python",
   "pygments_lexer": "ipython3",
   "version": "3.12.7"
  }
 },
 "nbformat": 4,
 "nbformat_minor": 5
}
