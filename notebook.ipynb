{
 "cells": [
  {
   "cell_type": "markdown",
   "id": "4029af7a",
   "metadata": {},
   "source": [
    "# I. Introduction"
   ]
  },
  {
   "cell_type": "markdown",
   "id": "852988d7",
   "metadata": {},
   "source": [
    "## Problem"
   ]
  },
  {
   "cell_type": "markdown",
   "id": "941b2988",
   "metadata": {},
   "source": [
    "### Background"
   ]
  },
  {
   "cell_type": "markdown",
   "id": "524b4d5d",
   "metadata": {},
   "source": [
    "## 🧠 What is HR Analytics?\n",
    "\n",
    "**HR Analytics** is the process of analyzing human resources data to improve organizational performance. It involves examining talent, current employees, and job candidates to generate objective, measurable insights into how human capital contributes to organizational success.\n",
    "\n",
    "Organizational performance is strongly tied to the **quality and stability of its workforce**. One of the biggest challenges in HR management is **employee attrition**, which brings significant negative impacts such as:\n",
    "\n",
    "- 💸 **Training costs** and onboarding time for new hires  \n",
    "- 🧠 Loss of **experience and productivity**  \n",
    "- 📉 Decline in **team morale and overall performance**  \n",
    "- 💼 Disruption to a stable **working environment**\n",
    "\n",
    "\n",
    "## 🔍 Why is HR Analytics Important?\n",
    "\n",
    "By leveraging HR analytics, organizations can:\n",
    "\n",
    "- 📊 Identify **patterns among employees at risk of leaving**  \n",
    "- 🤝 Take **proactive and human-centered actions**, such as informal check-ins or stay interviews  \n",
    "- 🛠️ Perform **root cause analysis** and implement systemic improvements like career development paths, role rotation, or reward systems\n",
    "\n",
    "> With this approach, HR transforms from being reactive to turnover into a **strategic partner** for improving retention and organizational productivity."
   ]
  },
  {
   "cell_type": "markdown",
   "id": "b4a10d68",
   "metadata": {},
   "source": [
    "### 🧩 Problem Statement\n",
    "\n",
    "Develop a classification model to predict employee attrition using HR analytics. The model is considered successful if it can detect at least **80% of employees who leave** (recall ≥ 0.80), enabling HR to make **proactive, data-driven decisions**. The project is expected to be completed within a **one-week timeline**, with a target deadline of **June 18, 2025**."
   ]
  },
  {
   "cell_type": "markdown",
   "id": "7eb73558",
   "metadata": {},
   "source": [
    "### 🎯 Evaluation Metric\n",
    "The primary evaluation metric used is **Recall**, as the main objective is to detect employees who are likely to leave.  \n",
    "Recall is the most suitable metric in this context because:\n",
    "\n",
    "- It focuses on minimizing **False Negatives** (i.e., employees predicted to stay but actually leave).  \n",
    "- High recall ensures **better coverage of at-risk employees**, which is crucial for retention strategies."
   ]
  },
  {
   "cell_type": "markdown",
   "id": "539788a7",
   "metadata": {},
   "source": [
    "## Dataset"
   ]
  },
  {
   "cell_type": "markdown",
   "id": "4e90599b",
   "metadata": {},
   "source": [
    "### Reference"
   ]
  },
  {
   "cell_type": "markdown",
   "id": "161917b0",
   "metadata": {},
   "source": [
    "File    : dataset.csv\n",
    "\n",
    "Source  : https://www.kaggle.com/code/faressayah/ibm-hr-analytics-employee-attrition-performance"
   ]
  },
  {
   "cell_type": "markdown",
   "id": "03581314",
   "metadata": {},
   "source": [
    "### Description"
   ]
  },
  {
   "cell_type": "markdown",
   "id": "bad0de0a",
   "metadata": {},
   "source": [
    "| **Column** | **Type** | **Description** |\n",
    "|------------|----------|-----------------|\n",
    "| Age | Numeric | Employee’s age |\n",
    "| Attrition | Categorical (nominal) | Whether the employee left the company |\n",
    "| BusinessTravel | Categorical (nominal) | Frequency of business travel |\n",
    "| DailyRate | Numeric | Daily internal rate or cost estimate |\n",
    "| Department | Categorical (nominal) | Department the employee works in |\n",
    "| DistanceFromHome | Numeric | Distance from home to office |\n",
    "| Education | Categorical (ordinal) | Education level (1–5): 1=High School, 5=Doctorate |\n",
    "| EducationField | Categorical (nominal) | Field of education |\n",
    "| EmployeeNumber | Numeric (ID) | Unique employee ID |\n",
    "| EnvironmentSatisfaction | Categorical (ordinal) | Satisfaction with the work environment (1–4) |\n",
    "| Gender | Categorical (nominal) | Gender (Female, Male) |\n",
    "| HourlyRate | Numeric | Hourly rate or estimate |\n",
    "| JobInvolvement | Categorical (ordinal) | Level of job involvement (1–4) |\n",
    "| JobLevel | Categorical (ordinal) | Job seniority level (1–5) |\n",
    "| JobRole | Categorical (nominal) | Job role title (e.g., Sales Executive, Manager) |\n",
    "| JobSatisfaction | Categorical (ordinal) | Job satisfaction (1–4) |\n",
    "| MaritalStatus | Categorical (nominal) | Marital status (Single, Married, Divorced) |\n",
    "| MonthlyIncome | Numeric | Monthly salary |\n",
    "| MonthlyRate | Numeric | Monthly project cost allocation |\n",
    "| NumCompaniesWorked | Numeric | Number of previous employers |\n",
    "| OverTime | Categorical (nominal) | Whether the employee works overtime |\n",
    "| Over18 | Categorical | Whether employee is over 18 (Y/N) |\n",
    "| PercentSalaryHike | Numeric | Percentage of last salary increase |\n",
    "| PerformanceRating | Categorical (ordinal) | Performance rating (3=Good, 4=Excellent) |\n",
    "| RelationshipSatisfaction | Categorical (ordinal) | Satisfaction with work relationships (1–4) |\n",
    "| StockOptionLevel | Categorical (ordinal) | Stock option level (0–3) |\n",
    "| TotalWorkingYears | Numeric | Total years of work experience |\n",
    "| TrainingTimesLastYear | Numeric | Number of trainings in the past year |\n",
    "| WorkLifeBalance | Categorical (ordinal) | Work-life balance score (1–4) |\n",
    "| YearsAtCompany | Numeric | Years spent at the current company |\n",
    "| YearsInCurrentRole | Numeric | Years in current role |\n",
    "| YearsSinceLastPromotion | Numeric | Years since last promotion |\n",
    "| YearsWithCurrManager | Numeric | Years working with the current manager |"
   ]
  },
  {
   "cell_type": "markdown",
   "id": "27b93db8",
   "metadata": {},
   "source": [
    "# II. Import Library"
   ]
  },
  {
   "cell_type": "markdown",
   "id": "1c315ae6",
   "metadata": {},
   "source": [
    "All libraries that will be used are collected in this section"
   ]
  },
  {
   "cell_type": "code",
   "execution_count": 1,
   "id": "3119d043",
   "metadata": {},
   "outputs": [],
   "source": [
    "# Import all libraries that will be used\n",
    "import pandas as pd\n",
    "import matplotlib.pyplot as plt\n",
    "import seaborn as sns\n",
    "import numpy as np\n",
    "import pickle\n",
    "from scipy import stats\n",
    "from sklearn.preprocessing import LabelEncoder, MinMaxScaler, OneHotEncoder, OrdinalEncoder\n",
    "from sklearn.model_selection import train_test_split, RandomizedSearchCV, cross_validate\n",
    "from sklearn.linear_model import LogisticRegression\n",
    "from sklearn.ensemble import RandomForestClassifier, GradientBoostingClassifier, AdaBoostClassifier, HistGradientBoostingClassifier\n",
    "from sklearn.neighbors import KNeighborsClassifier\n",
    "from sklearn.svm import SVC\n",
    "from sklearn.tree import DecisionTreeClassifier\n",
    "from feature_engine.outliers import Winsorizer\n",
    "from sklearn.compose import ColumnTransformer\n",
    "from imblearn.pipeline import Pipeline as ImbPipeline\n",
    "from imblearn.over_sampling import SMOTENC\n",
    "from sklearn.metrics import recall_score, roc_auc_score, classification_report, ConfusionMatrixDisplay\n",
    "from sklearn.preprocessing import FunctionTransformer\n",
    "from sklearn.base import BaseEstimator, TransformerMixin"
   ]
  },
  {
   "cell_type": "markdown",
   "id": "e05a92a9",
   "metadata": {},
   "source": [
    "# III. Data Loading"
   ]
  },
  {
   "cell_type": "markdown",
   "id": "1ef514c4",
   "metadata": {},
   "source": [
    "Data loading is the process of loading data, cleaning it, and understanding the structure and general information about the data."
   ]
  },
  {
   "cell_type": "code",
   "execution_count": 2,
   "id": "14ec1b73",
   "metadata": {},
   "outputs": [
    {
     "data": {
      "text/html": [
       "<div>\n",
       "<style scoped>\n",
       "    .dataframe tbody tr th:only-of-type {\n",
       "        vertical-align: middle;\n",
       "    }\n",
       "\n",
       "    .dataframe tbody tr th {\n",
       "        vertical-align: top;\n",
       "    }\n",
       "\n",
       "    .dataframe thead th {\n",
       "        text-align: right;\n",
       "    }\n",
       "</style>\n",
       "<table border=\"1\" class=\"dataframe\">\n",
       "  <thead>\n",
       "    <tr style=\"text-align: right;\">\n",
       "      <th></th>\n",
       "      <th>Age</th>\n",
       "      <th>Attrition</th>\n",
       "      <th>BusinessTravel</th>\n",
       "      <th>DailyRate</th>\n",
       "      <th>Department</th>\n",
       "      <th>DistanceFromHome</th>\n",
       "      <th>Education</th>\n",
       "      <th>EducationField</th>\n",
       "      <th>EmployeeCount</th>\n",
       "      <th>EmployeeNumber</th>\n",
       "      <th>...</th>\n",
       "      <th>RelationshipSatisfaction</th>\n",
       "      <th>StandardHours</th>\n",
       "      <th>StockOptionLevel</th>\n",
       "      <th>TotalWorkingYears</th>\n",
       "      <th>TrainingTimesLastYear</th>\n",
       "      <th>WorkLifeBalance</th>\n",
       "      <th>YearsAtCompany</th>\n",
       "      <th>YearsInCurrentRole</th>\n",
       "      <th>YearsSinceLastPromotion</th>\n",
       "      <th>YearsWithCurrManager</th>\n",
       "    </tr>\n",
       "  </thead>\n",
       "  <tbody>\n",
       "    <tr>\n",
       "      <th>0</th>\n",
       "      <td>41</td>\n",
       "      <td>Yes</td>\n",
       "      <td>Travel_Rarely</td>\n",
       "      <td>1102</td>\n",
       "      <td>Sales</td>\n",
       "      <td>1</td>\n",
       "      <td>2</td>\n",
       "      <td>Life Sciences</td>\n",
       "      <td>1</td>\n",
       "      <td>1</td>\n",
       "      <td>...</td>\n",
       "      <td>1</td>\n",
       "      <td>80</td>\n",
       "      <td>0</td>\n",
       "      <td>8</td>\n",
       "      <td>0</td>\n",
       "      <td>1</td>\n",
       "      <td>6</td>\n",
       "      <td>4</td>\n",
       "      <td>0</td>\n",
       "      <td>5</td>\n",
       "    </tr>\n",
       "    <tr>\n",
       "      <th>1</th>\n",
       "      <td>49</td>\n",
       "      <td>No</td>\n",
       "      <td>Travel_Frequently</td>\n",
       "      <td>279</td>\n",
       "      <td>Research &amp; Development</td>\n",
       "      <td>8</td>\n",
       "      <td>1</td>\n",
       "      <td>Life Sciences</td>\n",
       "      <td>1</td>\n",
       "      <td>2</td>\n",
       "      <td>...</td>\n",
       "      <td>4</td>\n",
       "      <td>80</td>\n",
       "      <td>1</td>\n",
       "      <td>10</td>\n",
       "      <td>3</td>\n",
       "      <td>3</td>\n",
       "      <td>10</td>\n",
       "      <td>7</td>\n",
       "      <td>1</td>\n",
       "      <td>7</td>\n",
       "    </tr>\n",
       "    <tr>\n",
       "      <th>2</th>\n",
       "      <td>37</td>\n",
       "      <td>Yes</td>\n",
       "      <td>Travel_Rarely</td>\n",
       "      <td>1373</td>\n",
       "      <td>Research &amp; Development</td>\n",
       "      <td>2</td>\n",
       "      <td>2</td>\n",
       "      <td>Other</td>\n",
       "      <td>1</td>\n",
       "      <td>4</td>\n",
       "      <td>...</td>\n",
       "      <td>2</td>\n",
       "      <td>80</td>\n",
       "      <td>0</td>\n",
       "      <td>7</td>\n",
       "      <td>3</td>\n",
       "      <td>3</td>\n",
       "      <td>0</td>\n",
       "      <td>0</td>\n",
       "      <td>0</td>\n",
       "      <td>0</td>\n",
       "    </tr>\n",
       "    <tr>\n",
       "      <th>3</th>\n",
       "      <td>33</td>\n",
       "      <td>No</td>\n",
       "      <td>Travel_Frequently</td>\n",
       "      <td>1392</td>\n",
       "      <td>Research &amp; Development</td>\n",
       "      <td>3</td>\n",
       "      <td>4</td>\n",
       "      <td>Life Sciences</td>\n",
       "      <td>1</td>\n",
       "      <td>5</td>\n",
       "      <td>...</td>\n",
       "      <td>3</td>\n",
       "      <td>80</td>\n",
       "      <td>0</td>\n",
       "      <td>8</td>\n",
       "      <td>3</td>\n",
       "      <td>3</td>\n",
       "      <td>8</td>\n",
       "      <td>7</td>\n",
       "      <td>3</td>\n",
       "      <td>0</td>\n",
       "    </tr>\n",
       "    <tr>\n",
       "      <th>4</th>\n",
       "      <td>27</td>\n",
       "      <td>No</td>\n",
       "      <td>Travel_Rarely</td>\n",
       "      <td>591</td>\n",
       "      <td>Research &amp; Development</td>\n",
       "      <td>2</td>\n",
       "      <td>1</td>\n",
       "      <td>Medical</td>\n",
       "      <td>1</td>\n",
       "      <td>7</td>\n",
       "      <td>...</td>\n",
       "      <td>4</td>\n",
       "      <td>80</td>\n",
       "      <td>1</td>\n",
       "      <td>6</td>\n",
       "      <td>3</td>\n",
       "      <td>3</td>\n",
       "      <td>2</td>\n",
       "      <td>2</td>\n",
       "      <td>2</td>\n",
       "      <td>2</td>\n",
       "    </tr>\n",
       "  </tbody>\n",
       "</table>\n",
       "<p>5 rows × 35 columns</p>\n",
       "</div>"
      ],
      "text/plain": [
       "   Age Attrition     BusinessTravel  DailyRate              Department  \\\n",
       "0   41       Yes      Travel_Rarely       1102                   Sales   \n",
       "1   49        No  Travel_Frequently        279  Research & Development   \n",
       "2   37       Yes      Travel_Rarely       1373  Research & Development   \n",
       "3   33        No  Travel_Frequently       1392  Research & Development   \n",
       "4   27        No      Travel_Rarely        591  Research & Development   \n",
       "\n",
       "   DistanceFromHome  Education EducationField  EmployeeCount  EmployeeNumber  \\\n",
       "0                 1          2  Life Sciences              1               1   \n",
       "1                 8          1  Life Sciences              1               2   \n",
       "2                 2          2          Other              1               4   \n",
       "3                 3          4  Life Sciences              1               5   \n",
       "4                 2          1        Medical              1               7   \n",
       "\n",
       "   ...  RelationshipSatisfaction StandardHours  StockOptionLevel  \\\n",
       "0  ...                         1            80                 0   \n",
       "1  ...                         4            80                 1   \n",
       "2  ...                         2            80                 0   \n",
       "3  ...                         3            80                 0   \n",
       "4  ...                         4            80                 1   \n",
       "\n",
       "   TotalWorkingYears  TrainingTimesLastYear WorkLifeBalance  YearsAtCompany  \\\n",
       "0                  8                      0               1               6   \n",
       "1                 10                      3               3              10   \n",
       "2                  7                      3               3               0   \n",
       "3                  8                      3               3               8   \n",
       "4                  6                      3               3               2   \n",
       "\n",
       "  YearsInCurrentRole  YearsSinceLastPromotion  YearsWithCurrManager  \n",
       "0                  4                        0                     5  \n",
       "1                  7                        1                     7  \n",
       "2                  0                        0                     0  \n",
       "3                  7                        3                     0  \n",
       "4                  2                        2                     2  \n",
       "\n",
       "[5 rows x 35 columns]"
      ]
     },
     "execution_count": 2,
     "metadata": {},
     "output_type": "execute_result"
    }
   ],
   "source": [
    "# Process of loading data into a dataframe df\n",
    "df = pd.read_csv('dataset.csv')\n",
    "df.head()"
   ]
  },
  {
   "cell_type": "code",
   "execution_count": 3,
   "id": "31525dba",
   "metadata": {},
   "outputs": [
    {
     "name": "stdout",
     "output_type": "stream",
     "text": [
      "<class 'pandas.core.frame.DataFrame'>\n",
      "RangeIndex: 1470 entries, 0 to 1469\n",
      "Data columns (total 35 columns):\n",
      " #   Column                    Non-Null Count  Dtype \n",
      "---  ------                    --------------  ----- \n",
      " 0   Age                       1470 non-null   int64 \n",
      " 1   Attrition                 1470 non-null   object\n",
      " 2   BusinessTravel            1470 non-null   object\n",
      " 3   DailyRate                 1470 non-null   int64 \n",
      " 4   Department                1470 non-null   object\n",
      " 5   DistanceFromHome          1470 non-null   int64 \n",
      " 6   Education                 1470 non-null   int64 \n",
      " 7   EducationField            1470 non-null   object\n",
      " 8   EmployeeCount             1470 non-null   int64 \n",
      " 9   EmployeeNumber            1470 non-null   int64 \n",
      " 10  EnvironmentSatisfaction   1470 non-null   int64 \n",
      " 11  Gender                    1470 non-null   object\n",
      " 12  HourlyRate                1470 non-null   int64 \n",
      " 13  JobInvolvement            1470 non-null   int64 \n",
      " 14  JobLevel                  1470 non-null   int64 \n",
      " 15  JobRole                   1470 non-null   object\n",
      " 16  JobSatisfaction           1470 non-null   int64 \n",
      " 17  MaritalStatus             1470 non-null   object\n",
      " 18  MonthlyIncome             1470 non-null   int64 \n",
      " 19  MonthlyRate               1470 non-null   int64 \n",
      " 20  NumCompaniesWorked        1470 non-null   int64 \n",
      " 21  Over18                    1470 non-null   object\n",
      " 22  OverTime                  1470 non-null   object\n",
      " 23  PercentSalaryHike         1470 non-null   int64 \n",
      " 24  PerformanceRating         1470 non-null   int64 \n",
      " 25  RelationshipSatisfaction  1470 non-null   int64 \n",
      " 26  StandardHours             1470 non-null   int64 \n",
      " 27  StockOptionLevel          1470 non-null   int64 \n",
      " 28  TotalWorkingYears         1470 non-null   int64 \n",
      " 29  TrainingTimesLastYear     1470 non-null   int64 \n",
      " 30  WorkLifeBalance           1470 non-null   int64 \n",
      " 31  YearsAtCompany            1470 non-null   int64 \n",
      " 32  YearsInCurrentRole        1470 non-null   int64 \n",
      " 33  YearsSinceLastPromotion   1470 non-null   int64 \n",
      " 34  YearsWithCurrManager      1470 non-null   int64 \n",
      "dtypes: int64(26), object(9)\n",
      "memory usage: 402.1+ KB\n"
     ]
    }
   ],
   "source": [
    "# Displays a summary of dataframe information\n",
    "df.info()"
   ]
  },
  {
   "cell_type": "markdown",
   "id": "fe964163",
   "metadata": {},
   "source": [
    "Structurally there are no data type errors, there is no None data, Column naming uses Pascal case"
   ]
  },
  {
   "cell_type": "code",
   "execution_count": 4,
   "id": "01aff3dd",
   "metadata": {},
   "outputs": [
    {
     "data": {
      "text/html": [
       "<div>\n",
       "<style scoped>\n",
       "    .dataframe tbody tr th:only-of-type {\n",
       "        vertical-align: middle;\n",
       "    }\n",
       "\n",
       "    .dataframe tbody tr th {\n",
       "        vertical-align: top;\n",
       "    }\n",
       "\n",
       "    .dataframe thead th {\n",
       "        text-align: right;\n",
       "    }\n",
       "</style>\n",
       "<table border=\"1\" class=\"dataframe\">\n",
       "  <thead>\n",
       "    <tr style=\"text-align: right;\">\n",
       "      <th></th>\n",
       "      <th>count</th>\n",
       "      <th>mean</th>\n",
       "      <th>std</th>\n",
       "      <th>min</th>\n",
       "      <th>25%</th>\n",
       "      <th>50%</th>\n",
       "      <th>75%</th>\n",
       "      <th>max</th>\n",
       "    </tr>\n",
       "  </thead>\n",
       "  <tbody>\n",
       "    <tr>\n",
       "      <th>Age</th>\n",
       "      <td>1470.0</td>\n",
       "      <td>36.923810</td>\n",
       "      <td>9.135373</td>\n",
       "      <td>18.0</td>\n",
       "      <td>30.00</td>\n",
       "      <td>36.0</td>\n",
       "      <td>43.00</td>\n",
       "      <td>60.0</td>\n",
       "    </tr>\n",
       "    <tr>\n",
       "      <th>DailyRate</th>\n",
       "      <td>1470.0</td>\n",
       "      <td>802.485714</td>\n",
       "      <td>403.509100</td>\n",
       "      <td>102.0</td>\n",
       "      <td>465.00</td>\n",
       "      <td>802.0</td>\n",
       "      <td>1157.00</td>\n",
       "      <td>1499.0</td>\n",
       "    </tr>\n",
       "    <tr>\n",
       "      <th>DistanceFromHome</th>\n",
       "      <td>1470.0</td>\n",
       "      <td>9.192517</td>\n",
       "      <td>8.106864</td>\n",
       "      <td>1.0</td>\n",
       "      <td>2.00</td>\n",
       "      <td>7.0</td>\n",
       "      <td>14.00</td>\n",
       "      <td>29.0</td>\n",
       "    </tr>\n",
       "    <tr>\n",
       "      <th>Education</th>\n",
       "      <td>1470.0</td>\n",
       "      <td>2.912925</td>\n",
       "      <td>1.024165</td>\n",
       "      <td>1.0</td>\n",
       "      <td>2.00</td>\n",
       "      <td>3.0</td>\n",
       "      <td>4.00</td>\n",
       "      <td>5.0</td>\n",
       "    </tr>\n",
       "    <tr>\n",
       "      <th>EmployeeCount</th>\n",
       "      <td>1470.0</td>\n",
       "      <td>1.000000</td>\n",
       "      <td>0.000000</td>\n",
       "      <td>1.0</td>\n",
       "      <td>1.00</td>\n",
       "      <td>1.0</td>\n",
       "      <td>1.00</td>\n",
       "      <td>1.0</td>\n",
       "    </tr>\n",
       "    <tr>\n",
       "      <th>EmployeeNumber</th>\n",
       "      <td>1470.0</td>\n",
       "      <td>1024.865306</td>\n",
       "      <td>602.024335</td>\n",
       "      <td>1.0</td>\n",
       "      <td>491.25</td>\n",
       "      <td>1020.5</td>\n",
       "      <td>1555.75</td>\n",
       "      <td>2068.0</td>\n",
       "    </tr>\n",
       "    <tr>\n",
       "      <th>EnvironmentSatisfaction</th>\n",
       "      <td>1470.0</td>\n",
       "      <td>2.721769</td>\n",
       "      <td>1.093082</td>\n",
       "      <td>1.0</td>\n",
       "      <td>2.00</td>\n",
       "      <td>3.0</td>\n",
       "      <td>4.00</td>\n",
       "      <td>4.0</td>\n",
       "    </tr>\n",
       "    <tr>\n",
       "      <th>HourlyRate</th>\n",
       "      <td>1470.0</td>\n",
       "      <td>65.891156</td>\n",
       "      <td>20.329428</td>\n",
       "      <td>30.0</td>\n",
       "      <td>48.00</td>\n",
       "      <td>66.0</td>\n",
       "      <td>83.75</td>\n",
       "      <td>100.0</td>\n",
       "    </tr>\n",
       "    <tr>\n",
       "      <th>JobInvolvement</th>\n",
       "      <td>1470.0</td>\n",
       "      <td>2.729932</td>\n",
       "      <td>0.711561</td>\n",
       "      <td>1.0</td>\n",
       "      <td>2.00</td>\n",
       "      <td>3.0</td>\n",
       "      <td>3.00</td>\n",
       "      <td>4.0</td>\n",
       "    </tr>\n",
       "    <tr>\n",
       "      <th>JobLevel</th>\n",
       "      <td>1470.0</td>\n",
       "      <td>2.063946</td>\n",
       "      <td>1.106940</td>\n",
       "      <td>1.0</td>\n",
       "      <td>1.00</td>\n",
       "      <td>2.0</td>\n",
       "      <td>3.00</td>\n",
       "      <td>5.0</td>\n",
       "    </tr>\n",
       "    <tr>\n",
       "      <th>JobSatisfaction</th>\n",
       "      <td>1470.0</td>\n",
       "      <td>2.728571</td>\n",
       "      <td>1.102846</td>\n",
       "      <td>1.0</td>\n",
       "      <td>2.00</td>\n",
       "      <td>3.0</td>\n",
       "      <td>4.00</td>\n",
       "      <td>4.0</td>\n",
       "    </tr>\n",
       "    <tr>\n",
       "      <th>MonthlyIncome</th>\n",
       "      <td>1470.0</td>\n",
       "      <td>6502.931293</td>\n",
       "      <td>4707.956783</td>\n",
       "      <td>1009.0</td>\n",
       "      <td>2911.00</td>\n",
       "      <td>4919.0</td>\n",
       "      <td>8379.00</td>\n",
       "      <td>19999.0</td>\n",
       "    </tr>\n",
       "    <tr>\n",
       "      <th>MonthlyRate</th>\n",
       "      <td>1470.0</td>\n",
       "      <td>14313.103401</td>\n",
       "      <td>7117.786044</td>\n",
       "      <td>2094.0</td>\n",
       "      <td>8047.00</td>\n",
       "      <td>14235.5</td>\n",
       "      <td>20461.50</td>\n",
       "      <td>26999.0</td>\n",
       "    </tr>\n",
       "    <tr>\n",
       "      <th>NumCompaniesWorked</th>\n",
       "      <td>1470.0</td>\n",
       "      <td>2.693197</td>\n",
       "      <td>2.498009</td>\n",
       "      <td>0.0</td>\n",
       "      <td>1.00</td>\n",
       "      <td>2.0</td>\n",
       "      <td>4.00</td>\n",
       "      <td>9.0</td>\n",
       "    </tr>\n",
       "    <tr>\n",
       "      <th>PercentSalaryHike</th>\n",
       "      <td>1470.0</td>\n",
       "      <td>15.209524</td>\n",
       "      <td>3.659938</td>\n",
       "      <td>11.0</td>\n",
       "      <td>12.00</td>\n",
       "      <td>14.0</td>\n",
       "      <td>18.00</td>\n",
       "      <td>25.0</td>\n",
       "    </tr>\n",
       "    <tr>\n",
       "      <th>PerformanceRating</th>\n",
       "      <td>1470.0</td>\n",
       "      <td>3.153741</td>\n",
       "      <td>0.360824</td>\n",
       "      <td>3.0</td>\n",
       "      <td>3.00</td>\n",
       "      <td>3.0</td>\n",
       "      <td>3.00</td>\n",
       "      <td>4.0</td>\n",
       "    </tr>\n",
       "    <tr>\n",
       "      <th>RelationshipSatisfaction</th>\n",
       "      <td>1470.0</td>\n",
       "      <td>2.712245</td>\n",
       "      <td>1.081209</td>\n",
       "      <td>1.0</td>\n",
       "      <td>2.00</td>\n",
       "      <td>3.0</td>\n",
       "      <td>4.00</td>\n",
       "      <td>4.0</td>\n",
       "    </tr>\n",
       "    <tr>\n",
       "      <th>StandardHours</th>\n",
       "      <td>1470.0</td>\n",
       "      <td>80.000000</td>\n",
       "      <td>0.000000</td>\n",
       "      <td>80.0</td>\n",
       "      <td>80.00</td>\n",
       "      <td>80.0</td>\n",
       "      <td>80.00</td>\n",
       "      <td>80.0</td>\n",
       "    </tr>\n",
       "    <tr>\n",
       "      <th>StockOptionLevel</th>\n",
       "      <td>1470.0</td>\n",
       "      <td>0.793878</td>\n",
       "      <td>0.852077</td>\n",
       "      <td>0.0</td>\n",
       "      <td>0.00</td>\n",
       "      <td>1.0</td>\n",
       "      <td>1.00</td>\n",
       "      <td>3.0</td>\n",
       "    </tr>\n",
       "    <tr>\n",
       "      <th>TotalWorkingYears</th>\n",
       "      <td>1470.0</td>\n",
       "      <td>11.279592</td>\n",
       "      <td>7.780782</td>\n",
       "      <td>0.0</td>\n",
       "      <td>6.00</td>\n",
       "      <td>10.0</td>\n",
       "      <td>15.00</td>\n",
       "      <td>40.0</td>\n",
       "    </tr>\n",
       "    <tr>\n",
       "      <th>TrainingTimesLastYear</th>\n",
       "      <td>1470.0</td>\n",
       "      <td>2.799320</td>\n",
       "      <td>1.289271</td>\n",
       "      <td>0.0</td>\n",
       "      <td>2.00</td>\n",
       "      <td>3.0</td>\n",
       "      <td>3.00</td>\n",
       "      <td>6.0</td>\n",
       "    </tr>\n",
       "    <tr>\n",
       "      <th>WorkLifeBalance</th>\n",
       "      <td>1470.0</td>\n",
       "      <td>2.761224</td>\n",
       "      <td>0.706476</td>\n",
       "      <td>1.0</td>\n",
       "      <td>2.00</td>\n",
       "      <td>3.0</td>\n",
       "      <td>3.00</td>\n",
       "      <td>4.0</td>\n",
       "    </tr>\n",
       "    <tr>\n",
       "      <th>YearsAtCompany</th>\n",
       "      <td>1470.0</td>\n",
       "      <td>7.008163</td>\n",
       "      <td>6.126525</td>\n",
       "      <td>0.0</td>\n",
       "      <td>3.00</td>\n",
       "      <td>5.0</td>\n",
       "      <td>9.00</td>\n",
       "      <td>40.0</td>\n",
       "    </tr>\n",
       "    <tr>\n",
       "      <th>YearsInCurrentRole</th>\n",
       "      <td>1470.0</td>\n",
       "      <td>4.229252</td>\n",
       "      <td>3.623137</td>\n",
       "      <td>0.0</td>\n",
       "      <td>2.00</td>\n",
       "      <td>3.0</td>\n",
       "      <td>7.00</td>\n",
       "      <td>18.0</td>\n",
       "    </tr>\n",
       "    <tr>\n",
       "      <th>YearsSinceLastPromotion</th>\n",
       "      <td>1470.0</td>\n",
       "      <td>2.187755</td>\n",
       "      <td>3.222430</td>\n",
       "      <td>0.0</td>\n",
       "      <td>0.00</td>\n",
       "      <td>1.0</td>\n",
       "      <td>3.00</td>\n",
       "      <td>15.0</td>\n",
       "    </tr>\n",
       "    <tr>\n",
       "      <th>YearsWithCurrManager</th>\n",
       "      <td>1470.0</td>\n",
       "      <td>4.123129</td>\n",
       "      <td>3.568136</td>\n",
       "      <td>0.0</td>\n",
       "      <td>2.00</td>\n",
       "      <td>3.0</td>\n",
       "      <td>7.00</td>\n",
       "      <td>17.0</td>\n",
       "    </tr>\n",
       "  </tbody>\n",
       "</table>\n",
       "</div>"
      ],
      "text/plain": [
       "                           count          mean          std     min      25%  \\\n",
       "Age                       1470.0     36.923810     9.135373    18.0    30.00   \n",
       "DailyRate                 1470.0    802.485714   403.509100   102.0   465.00   \n",
       "DistanceFromHome          1470.0      9.192517     8.106864     1.0     2.00   \n",
       "Education                 1470.0      2.912925     1.024165     1.0     2.00   \n",
       "EmployeeCount             1470.0      1.000000     0.000000     1.0     1.00   \n",
       "EmployeeNumber            1470.0   1024.865306   602.024335     1.0   491.25   \n",
       "EnvironmentSatisfaction   1470.0      2.721769     1.093082     1.0     2.00   \n",
       "HourlyRate                1470.0     65.891156    20.329428    30.0    48.00   \n",
       "JobInvolvement            1470.0      2.729932     0.711561     1.0     2.00   \n",
       "JobLevel                  1470.0      2.063946     1.106940     1.0     1.00   \n",
       "JobSatisfaction           1470.0      2.728571     1.102846     1.0     2.00   \n",
       "MonthlyIncome             1470.0   6502.931293  4707.956783  1009.0  2911.00   \n",
       "MonthlyRate               1470.0  14313.103401  7117.786044  2094.0  8047.00   \n",
       "NumCompaniesWorked        1470.0      2.693197     2.498009     0.0     1.00   \n",
       "PercentSalaryHike         1470.0     15.209524     3.659938    11.0    12.00   \n",
       "PerformanceRating         1470.0      3.153741     0.360824     3.0     3.00   \n",
       "RelationshipSatisfaction  1470.0      2.712245     1.081209     1.0     2.00   \n",
       "StandardHours             1470.0     80.000000     0.000000    80.0    80.00   \n",
       "StockOptionLevel          1470.0      0.793878     0.852077     0.0     0.00   \n",
       "TotalWorkingYears         1470.0     11.279592     7.780782     0.0     6.00   \n",
       "TrainingTimesLastYear     1470.0      2.799320     1.289271     0.0     2.00   \n",
       "WorkLifeBalance           1470.0      2.761224     0.706476     1.0     2.00   \n",
       "YearsAtCompany            1470.0      7.008163     6.126525     0.0     3.00   \n",
       "YearsInCurrentRole        1470.0      4.229252     3.623137     0.0     2.00   \n",
       "YearsSinceLastPromotion   1470.0      2.187755     3.222430     0.0     0.00   \n",
       "YearsWithCurrManager      1470.0      4.123129     3.568136     0.0     2.00   \n",
       "\n",
       "                              50%       75%      max  \n",
       "Age                          36.0     43.00     60.0  \n",
       "DailyRate                   802.0   1157.00   1499.0  \n",
       "DistanceFromHome              7.0     14.00     29.0  \n",
       "Education                     3.0      4.00      5.0  \n",
       "EmployeeCount                 1.0      1.00      1.0  \n",
       "EmployeeNumber             1020.5   1555.75   2068.0  \n",
       "EnvironmentSatisfaction       3.0      4.00      4.0  \n",
       "HourlyRate                   66.0     83.75    100.0  \n",
       "JobInvolvement                3.0      3.00      4.0  \n",
       "JobLevel                      2.0      3.00      5.0  \n",
       "JobSatisfaction               3.0      4.00      4.0  \n",
       "MonthlyIncome              4919.0   8379.00  19999.0  \n",
       "MonthlyRate               14235.5  20461.50  26999.0  \n",
       "NumCompaniesWorked            2.0      4.00      9.0  \n",
       "PercentSalaryHike            14.0     18.00     25.0  \n",
       "PerformanceRating             3.0      3.00      4.0  \n",
       "RelationshipSatisfaction      3.0      4.00      4.0  \n",
       "StandardHours                80.0     80.00     80.0  \n",
       "StockOptionLevel              1.0      1.00      3.0  \n",
       "TotalWorkingYears            10.0     15.00     40.0  \n",
       "TrainingTimesLastYear         3.0      3.00      6.0  \n",
       "WorkLifeBalance               3.0      3.00      4.0  \n",
       "YearsAtCompany                5.0      9.00     40.0  \n",
       "YearsInCurrentRole            3.0      7.00     18.0  \n",
       "YearsSinceLastPromotion       1.0      3.00     15.0  \n",
       "YearsWithCurrManager          3.0      7.00     17.0  "
      ]
     },
     "execution_count": 4,
     "metadata": {},
     "output_type": "execute_result"
    }
   ],
   "source": [
    "# Displays statistical descriptions of numeric data\n",
    "df.describe().T"
   ]
  },
  {
   "cell_type": "markdown",
   "id": "116da255",
   "metadata": {},
   "source": [
    "It is necessary to pay attention to several columns that have a variation of 0 because they contain only one data (EmployeeCount, StandardHours), a small min max range indicates that the data is not numeric, but is categorical such as (Education, EnvironmentSatisfaction, JobInvolvement, JobLevel, JobSatisfaction, PerformanceRating, RelationshipSatisfaction, StockOptionLevel, WorkLifeBalance), the value needs to be seen again in feature engineering to cross check again."
   ]
  },
  {
   "cell_type": "code",
   "execution_count": 5,
   "id": "6df55e5f",
   "metadata": {},
   "outputs": [
    {
     "data": {
      "text/html": [
       "<div>\n",
       "<style scoped>\n",
       "    .dataframe tbody tr th:only-of-type {\n",
       "        vertical-align: middle;\n",
       "    }\n",
       "\n",
       "    .dataframe tbody tr th {\n",
       "        vertical-align: top;\n",
       "    }\n",
       "\n",
       "    .dataframe thead th {\n",
       "        text-align: right;\n",
       "    }\n",
       "</style>\n",
       "<table border=\"1\" class=\"dataframe\">\n",
       "  <thead>\n",
       "    <tr style=\"text-align: right;\">\n",
       "      <th></th>\n",
       "      <th>count</th>\n",
       "      <th>unique</th>\n",
       "      <th>top</th>\n",
       "      <th>freq</th>\n",
       "    </tr>\n",
       "  </thead>\n",
       "  <tbody>\n",
       "    <tr>\n",
       "      <th>Attrition</th>\n",
       "      <td>1470</td>\n",
       "      <td>2</td>\n",
       "      <td>No</td>\n",
       "      <td>1233</td>\n",
       "    </tr>\n",
       "    <tr>\n",
       "      <th>BusinessTravel</th>\n",
       "      <td>1470</td>\n",
       "      <td>3</td>\n",
       "      <td>Travel_Rarely</td>\n",
       "      <td>1043</td>\n",
       "    </tr>\n",
       "    <tr>\n",
       "      <th>Department</th>\n",
       "      <td>1470</td>\n",
       "      <td>3</td>\n",
       "      <td>Research &amp; Development</td>\n",
       "      <td>961</td>\n",
       "    </tr>\n",
       "    <tr>\n",
       "      <th>EducationField</th>\n",
       "      <td>1470</td>\n",
       "      <td>6</td>\n",
       "      <td>Life Sciences</td>\n",
       "      <td>606</td>\n",
       "    </tr>\n",
       "    <tr>\n",
       "      <th>Gender</th>\n",
       "      <td>1470</td>\n",
       "      <td>2</td>\n",
       "      <td>Male</td>\n",
       "      <td>882</td>\n",
       "    </tr>\n",
       "    <tr>\n",
       "      <th>JobRole</th>\n",
       "      <td>1470</td>\n",
       "      <td>9</td>\n",
       "      <td>Sales Executive</td>\n",
       "      <td>326</td>\n",
       "    </tr>\n",
       "    <tr>\n",
       "      <th>MaritalStatus</th>\n",
       "      <td>1470</td>\n",
       "      <td>3</td>\n",
       "      <td>Married</td>\n",
       "      <td>673</td>\n",
       "    </tr>\n",
       "    <tr>\n",
       "      <th>Over18</th>\n",
       "      <td>1470</td>\n",
       "      <td>1</td>\n",
       "      <td>Y</td>\n",
       "      <td>1470</td>\n",
       "    </tr>\n",
       "    <tr>\n",
       "      <th>OverTime</th>\n",
       "      <td>1470</td>\n",
       "      <td>2</td>\n",
       "      <td>No</td>\n",
       "      <td>1054</td>\n",
       "    </tr>\n",
       "  </tbody>\n",
       "</table>\n",
       "</div>"
      ],
      "text/plain": [
       "               count unique                     top  freq\n",
       "Attrition       1470      2                      No  1233\n",
       "BusinessTravel  1470      3           Travel_Rarely  1043\n",
       "Department      1470      3  Research & Development   961\n",
       "EducationField  1470      6           Life Sciences   606\n",
       "Gender          1470      2                    Male   882\n",
       "JobRole         1470      9         Sales Executive   326\n",
       "MaritalStatus   1470      3                 Married   673\n",
       "Over18          1470      1                       Y  1470\n",
       "OverTime        1470      2                      No  1054"
      ]
     },
     "execution_count": 5,
     "metadata": {},
     "output_type": "execute_result"
    }
   ],
   "source": [
    "# Categorical data description\n",
    "df.describe(include=['O']).T"
   ]
  },
  {
   "cell_type": "markdown",
   "id": "c300976b",
   "metadata": {},
   "source": [
    "Attrition here forgets the predicted label, all data here is strings that are certain to be categorical data. Over18 has only one data type"
   ]
  },
  {
   "cell_type": "code",
   "execution_count": 6,
   "id": "26f6fea3",
   "metadata": {},
   "outputs": [],
   "source": [
    "# Duplicate the dataframe as a data backup\n",
    "df_copy = df.copy()"
   ]
  },
  {
   "cell_type": "markdown",
   "id": "3abe085d",
   "metadata": {},
   "source": [
    "# IV Exploratory Data Analysis"
   ]
  },
  {
   "cell_type": "markdown",
   "id": "5c97a77b",
   "metadata": {},
   "source": [
    "Here we will find patterns in data through visualization and reveal hidden secrets through graphs, analysis, and diagrams.\n",
    "\n",
    "**Data without analysis is just noise.**"
   ]
  },
  {
   "cell_type": "markdown",
   "id": "554baf85",
   "metadata": {},
   "source": [
    "## Is income the main reason for someone to leave?"
   ]
  },
  {
   "cell_type": "code",
   "execution_count": 7,
   "id": "de849455",
   "metadata": {},
   "outputs": [
    {
     "data": {
      "image/png": "[encoded data removed]",
      "text/plain": [
       "<Figure size 640x480 with 1 Axes>"
      ]
     },
     "metadata": {},
     "output_type": "display_data"
    }
   ],
   "source": [
    "# Table filter\n",
    "attrition_yes = df[df['Attrition'] == 'Yes']['MonthlyIncome']\n",
    "attrition_no = df[df['Attrition'] == 'No']['MonthlyIncome']\n",
    "\n",
    "# Creating a histogram visualization\n",
    "plt.hist(attrition_no, bins=50, color='skyblue', edgecolor='black', alpha=0.6, label='Attrition = No')\n",
    "plt.hist(attrition_yes, bins=50, color='red', edgecolor='black', alpha=0.6, label='Attrition = Yes')\n",
    "plt.title('MonthlyIncome vs Attrition')\n",
    "plt.xlabel('MonthlyIncome')\n",
    "plt.ylabel('Count')\n",
    "plt.legend(title='Keterangan')\n",
    "plt.show()"
   ]
  },
  {
   "cell_type": "markdown",
   "id": "13a9f224",
   "metadata": {},
   "source": [
    "**Analysis:**  Employees with a **monthly income below 6,000** tend to have a **higher attrition rate**, likely due to the pursuit of better-paying opportunities. This suggests that **low-income employees are more likely to leave** for financial reasons.\n",
    "\n",
    "Interestingly, there is a **small spike in attrition around the 10,000 mark**, which may indicate that **mid-level earners** are also seeking to improve their standard of living or aiming for higher career advancement.\n",
    "\n",
    "> This insight highlights the importance of income satisfaction as a potential driver of employee turnover.\n"
   ]
  },
  {
   "cell_type": "markdown",
   "id": "bf2f051f",
   "metadata": {},
   "source": [
    "## Does a bad work environment affect employee turnover?"
   ]
  },
  {
   "cell_type": "code",
   "execution_count": 8,
   "id": "fb46feaf",
   "metadata": {},
   "outputs": [
    {
     "data": {
      "image/png": "[encoded data removed]",
      "text/plain": [
       "<Figure size 640x480 with 1 Axes>"
      ]
     },
     "metadata": {},
     "output_type": "display_data"
    }
   ],
   "source": [
    "# Filter and count the amount of data\n",
    "envi = df[df['Attrition'] == 'Yes']\n",
    "envi_count = envi.groupby('EnvironmentSatisfaction')['Attrition'].count().reset_index(name='count_enviroment')\n",
    "\n",
    "# Creating a barplot visualization\n",
    "sns.barplot(data=envi_count, x='EnvironmentSatisfaction', y='count_enviroment', hue='EnvironmentSatisfaction')\n",
    "plt.title('Environment Satisfaction vs Attrition')\n",
    "plt.legend(loc='upper left', bbox_to_anchor=(1, 1))\n",
    "plt.xlabel('Environment Satisfaction')\n",
    "plt.ylabel('Count')\n",
    "plt.show()"
   ]
  },
  {
   "cell_type": "markdown",
   "id": "db4d4933",
   "metadata": {},
   "source": [
    "information :\n",
    "- Low : 1\n",
    "- Medium : 2\n",
    "- High : 3\n",
    "- Very High : 4"
   ]
  },
  {
   "cell_type": "markdown",
   "id": "31c16231",
   "metadata": {},
   "source": [
    "**Analysis:**  Approximately **70 employees who left the company reported low environment satisfaction**, indicating that a **poor work environment** can be a strong factor in employee turnover.\n",
    "\n",
    "Interestingly, attrition is also observed among those who reported **high or very high satisfaction** with their environment. This suggests that even in **comfortable or overly stable environments**, some employees may leave in search of **new challenges or growth opportunities**.\n",
    "\n",
    "> A good environment is important, but not always enough to retain employees who seek continuous development or stimulation.\n"
   ]
  },
  {
   "cell_type": "markdown",
   "id": "b5624645",
   "metadata": {},
   "source": [
    "## Which department does the most people leave?"
   ]
  },
  {
   "cell_type": "code",
   "execution_count": 9,
   "id": "0743595a",
   "metadata": {},
   "outputs": [
    {
     "data": {
      "image/png": "[encoded data removed]",
      "text/plain": [
       "<Figure size 640x480 with 1 Axes>"
      ]
     },
     "metadata": {},
     "output_type": "display_data"
    }
   ],
   "source": [
    "# Filter and count the amount of data\n",
    "department = df[df['Attrition'] == 'Yes']\n",
    "department_count = department.groupby('Department')['Attrition'].count().reset_index(name='count_departement')\n",
    "\n",
    "# Creating a barplot visualization\n",
    "plt.pie(x = department_count['count_departement'], labels =department_count['Department'], autopct='%1.1f%%') \n",
    "plt.show()"
   ]
  },
  {
   "cell_type": "markdown",
   "id": "d81d3f8a",
   "metadata": {},
   "source": [
    "**Analysis:**  Unfortunately, the dataset includes only **three departments** for analysis. However, among employees who left the company, the **highest attrition rates are observed in the R&D and Sales departments**. This could be due to the **high-pressure nature of target-driven roles** in these areas, leading to increased stress and burnout.\n",
    "\n",
    "In contrast, the **Human Resources department** shows the **lowest attrition**, likely because it primarily involves **administrative tasks** with relatively lower work intensity and performance pressure.\n",
    "\n",
    "> This suggests that job nature and workload significantly influence employee retention across departments.\n"
   ]
  },
  {
   "cell_type": "markdown",
   "id": "b23d158d",
   "metadata": {},
   "source": [
    "## How does the current work duration impact employee turnover?"
   ]
  },
  {
   "cell_type": "code",
   "execution_count": 10,
   "id": "5d16f241",
   "metadata": {},
   "outputs": [
    {
     "data": {
      "image/png": "[encoded data removed]",
      "text/plain": [
       "<Figure size 640x480 with 1 Axes>"
      ]
     },
     "metadata": {},
     "output_type": "display_data"
    }
   ],
   "source": [
    "# Filter and count the amount of data\n",
    "duration = df[df['Attrition'] == 'Yes']\n",
    "duration_count = duration.groupby('YearsInCurrentRole')['Attrition'].count().reset_index(name='Count_YearsInCurrentRole')\n",
    "\n",
    "# Visualization with lineplot\n",
    "sns.lineplot(x=duration_count['YearsInCurrentRole'], y=duration_count['Count_YearsInCurrentRole'])\n",
    "plt.title('Years In Current Role')\n",
    "plt.xlabel('Years')\n",
    "plt.ylabel('Count')\n",
    "plt.show()"
   ]
  },
  {
   "cell_type": "markdown",
   "id": "58e6db6c",
   "metadata": {},
   "source": [
    "**Analysis:**  Employees with **less than 1 year of tenure** show a **high attrition rate**, likely due to the challenges of onboarding and adjusting to the company culture. This period is often marked by uncertainty and potential **early mismatch** between employee expectations and the actual work environment.\n",
    "\n",
    "Attrition then **decreases after the first year**, but **rises again around the second year**, possibly due to **one-year contract expirations** or reassessments of long-term fit.\n",
    "\n",
    "After the second year, attrition tends to **decline steadily**, indicating growing stability and job satisfaction. However, there is **another spike around year 7**, likely because **experienced employees begin seeking new opportunities** for growth or advancement outside the company.\n",
    "\n",
    "> Employee attrition appears to follow distinct phases: early mismatch, contract-based exits, stabilization, and mid-career mobility.\n"
   ]
  },
  {
   "cell_type": "markdown",
   "id": "09f4772f",
   "metadata": {},
   "source": [
    "## Do people resign because of the long distance from home?"
   ]
  },
  {
   "cell_type": "code",
   "execution_count": 11,
   "id": "d8362a56",
   "metadata": {},
   "outputs": [
    {
     "data": {
      "image/png": "[encoded data removed]",
      "text/plain": [
       "<Figure size 640x480 with 1 Axes>"
      ]
     },
     "metadata": {},
     "output_type": "display_data"
    }
   ],
   "source": [
    "# Data filters\n",
    "attrition_yes = df[df['Attrition'] == 'Yes']['DistanceFromHome']\n",
    "attrition_no = df[df['Attrition'] == 'No']['DistanceFromHome']\n",
    "\n",
    "# Creating a histogram visualization\n",
    "plt.hist(attrition_no, bins=30, color='skyblue', edgecolor='black', alpha=1, label='Attrition = No')\n",
    "plt.hist(attrition_yes, bins=30, color='red', edgecolor='black', alpha=1, label='Attrition = Yes')\n",
    "plt.title('DistanceFromHome vs Attrition')\n",
    "plt.xlabel('DistanceFromHome')\n",
    "plt.ylabel('Count')\n",
    "plt.legend(title='Keterangan')\n",
    "plt.show()"
   ]
  },
  {
   "cell_type": "markdown",
   "id": "5b1b2ef0",
   "metadata": {},
   "source": [
    "**Analysis:**  Distance from home does not appear to have a strong influence on employee attrition in this company. Interestingly, attrition is relatively **high for employees living within 1–2 km**, but this is likely due to the **higher concentration of employees living at that distance**, rather than distance being a causal factor.\n",
    "\n",
    "It’s also important to note that the dataset is **imbalanced** between employees who stayed and those who left, which may affect the interpretation of this feature.\n",
    "\n",
    "> In this case, proximity to the workplace is **not a significant driver** of employee turnover.\n"
   ]
  },
  {
   "cell_type": "markdown",
   "id": "1a784b90",
   "metadata": {},
   "source": [
    "## Is worklife balance a problem?"
   ]
  },
  {
   "cell_type": "code",
   "execution_count": 12,
   "id": "4604e49b",
   "metadata": {},
   "outputs": [
    {
     "data": {
      "image/png": "[encoded data removed]",
      "text/plain": [
       "<Figure size 640x480 with 1 Axes>"
      ]
     },
     "metadata": {},
     "output_type": "display_data"
    }
   ],
   "source": [
    "# Data filter and grouping\n",
    "worklifebalance = df[df['Attrition'] == 'Yes']\n",
    "worklifebalance_count = worklifebalance.groupby('WorkLifeBalance')['Attrition'].count().reset_index(name='count_WorkLifeBalance')\n",
    "\n",
    "# Creating visualizations with barplots\n",
    "sns.barplot(data=worklifebalance_count, x='WorkLifeBalance', y='count_WorkLifeBalance', hue='WorkLifeBalance')\n",
    "plt.title('WorkLifeBalance vs Attrition')\n",
    "plt.legend(loc='upper left', bbox_to_anchor=(1, 1))\n",
    "plt.xlabel('WorkLifeBalance')\n",
    "plt.ylabel('Count')\n",
    "plt.show()"
   ]
  },
  {
   "cell_type": "markdown",
   "id": "bf5a2b74",
   "metadata": {},
   "source": [
    "Information :\n",
    "- Low : 1\n",
    "- Medium : 2\n",
    "- High : 3\n",
    "- Very High : 4"
   ]
  },
  {
   "cell_type": "markdown",
   "id": "be043f80",
   "metadata": {},
   "source": [
    "**Analysis:**  Interestingly, both **low and high work-life balance ratings** are associated with **lower attrition rates**.\n",
    "\n",
    "- Employees with **low work-life balance** may be more focused on their work and may have already adapted to the demands of the job, reducing the likelihood of leaving.  \n",
    "- On the other hand, employees with a **moderate work-life balance** might still seek better conditions elsewhere, which can explain the **increase in attrition in the middle range**.  \n",
    "- When work-life balance reaches a **very high level**, employees tend to feel satisfied, and **attrition drops again**.\n",
    "\n",
    "> This suggests that perceived balance alone is not the only factor—**expectation and personal ambition** may also influence turnover behavior.\n"
   ]
  },
  {
   "cell_type": "markdown",
   "id": "9318093e",
   "metadata": {},
   "source": [
    "## Are salary increases effective in keeping employees?"
   ]
  },
  {
   "cell_type": "code",
   "execution_count": 13,
   "id": "94f78529",
   "metadata": {},
   "outputs": [
    {
     "data": {
      "image/png": "[encoded data removed]",
      "text/plain": [
       "<Figure size 640x480 with 1 Axes>"
      ]
     },
     "metadata": {},
     "output_type": "display_data"
    }
   ],
   "source": [
    "# Data filters\n",
    "attrition_yes = df[df['Attrition'] == 'Yes']['PercentSalaryHike']\n",
    "attrition_no = df[df['Attrition'] == 'No']['PercentSalaryHike']\n",
    "\n",
    "# Creating visualizations with histograms\n",
    "plt.hist(attrition_no, bins=15, color='skyblue', edgecolor='black', alpha=1, label='Attrition = No')\n",
    "plt.hist(attrition_yes, bins=15, color='red', edgecolor='black', alpha=1, label='Attrition = Yes')\n",
    "plt.title('Percent Salary Hike vs Attrition')\n",
    "plt.xlabel('Percent Salary Hike')\n",
    "plt.ylabel('Count')\n",
    "plt.legend(title='Keterangan')\n",
    "plt.show()"
   ]
  },
  {
   "cell_type": "markdown",
   "id": "98a8391a",
   "metadata": {},
   "source": [
    "**Analysis:**  A **higher percentage of salary increase** appears to **motivate employees to stay** with the company. This can be observed in the trend where **attrition rates decrease as salary hike percentages increase**.\n",
    "\n",
    "Employees who receive significant salary increases may feel more **valued and financially secure**, reducing their intent to seek opportunities elsewhere.\n",
    "\n",
    "> Compensation plays a key role in retention—**rewarding performance with meaningful salary adjustments** can lower the risk of attrition.\n"
   ]
  },
  {
   "cell_type": "markdown",
   "id": "c2cfe161",
   "metadata": {},
   "source": [
    "# V. Feature Engineering"
   ]
  },
  {
   "cell_type": "markdown",
   "id": "644a40fd",
   "metadata": {},
   "source": [
    "Feature engineering is all processes for handling sequences (features) so that they are relevant to the model."
   ]
  },
  {
   "cell_type": "markdown",
   "id": "e29ed7f4",
   "metadata": {},
   "source": [
    "## Handling Duplicate"
   ]
  },
  {
   "cell_type": "markdown",
   "id": "62e2b786",
   "metadata": {},
   "source": [
    "Duplicate data should be removed because it can cause data redundancy and the model only memorizes the data and does not find patterns."
   ]
  },
  {
   "cell_type": "code",
   "execution_count": 14,
   "id": "46a5aa91",
   "metadata": {},
   "outputs": [],
   "source": [
    "# Drop data duplicate\n",
    "df = df.drop_duplicates()"
   ]
  },
  {
   "cell_type": "markdown",
   "id": "721d9c5a",
   "metadata": {},
   "source": [
    "## Change label"
   ]
  },
  {
   "cell_type": "markdown",
   "id": "f7aa4dda",
   "metadata": {},
   "source": [
    "The label data is still in the Yes and No string format and will be replaced so that it can be run in the modeling with scikit-learn."
   ]
  },
  {
   "cell_type": "code",
   "execution_count": 15,
   "id": "c44edafe",
   "metadata": {},
   "outputs": [
    {
     "data": {
      "text/plain": [
       "0    Yes\n",
       "1     No\n",
       "2    Yes\n",
       "3     No\n",
       "4     No\n",
       "Name: Attrition, dtype: object"
      ]
     },
     "execution_count": 15,
     "metadata": {},
     "output_type": "execute_result"
    }
   ],
   "source": [
    "# Before\n",
    "df[\"Attrition\"].head()"
   ]
  },
  {
   "cell_type": "code",
   "execution_count": 16,
   "id": "7dbac245",
   "metadata": {},
   "outputs": [
    {
     "data": {
      "text/plain": [
       "0    1\n",
       "1    0\n",
       "2    1\n",
       "3    0\n",
       "4    0\n",
       "Name: Attrition, dtype: int32"
      ]
     },
     "execution_count": 16,
     "metadata": {},
     "output_type": "execute_result"
    }
   ],
   "source": [
    "# Pergantian label ke angka dengan label encoder\n",
    "label = LabelEncoder()\n",
    "df[\"Attrition\"] = label.fit_transform(df[\"Attrition\"])\n",
    "\n",
    "# After\n",
    "df[\"Attrition\"].head()"
   ]
  },
  {
   "cell_type": "markdown",
   "id": "5c948447",
   "metadata": {},
   "source": [
    "## Handling Cardinality"
   ]
  },
  {
   "cell_type": "markdown",
   "id": "f7652402",
   "metadata": {},
   "source": [
    "Cardinality is a unique value that is owned by a data. Few unique values ​​indicate the type is included in the categorical type, it is important to know the data type so that the model is relevant, to check it you can understand the data and see the number of unique data owned by each column"
   ]
  },
  {
   "cell_type": "markdown",
   "id": "31d7dbaa",
   "metadata": {},
   "source": [
    "### Define Column"
   ]
  },
  {
   "cell_type": "markdown",
   "id": "d8c49644",
   "metadata": {},
   "source": [
    "This definition is by looking at the explanation related to the data owned."
   ]
  },
  {
   "cell_type": "markdown",
   "id": "e19e1a21",
   "metadata": {},
   "source": [
    "| **Kolom**                | **Tipe**                  | **Jenis Encoding**     |\n",
    "| ------------------------ | ------------------------- | ---------------------- |\n",
    "| BusinessTravel           | Categorical (ordered)     | Ordinal encoding       |\n",
    "| Department               | Categorical (not ordered) | One-hot encoding       |\n",
    "| Education                | Categorical (ordered)     | Ordinal encoding       |\n",
    "| EducationField           | Categorical (not ordered) | One-hot encoding       |\n",
    "| EnvironmentSatisfaction  | Categorical (ordered)     | Ordinal encoding       |\n",
    "| Gender                   | Categorical (not ordered) | One-hot encoding       |\n",
    "| JobInvolvement           | Categorical (ordered)     | Ordinal encoding       |\n",
    "| JobLevel                 | Categorical (ordered)     | Ordinal encoding       |\n",
    "| JobRole                  | Categorical (not ordered) | One-hot encoding       |\n",
    "| JobSatisfaction          | Categorical (ordered)     | Ordinal encoding       |\n",
    "| MaritalStatus            | Categorical (not ordered) | One-hot encoding       |\n",
    "| OverTime                 | Categorical (not ordered) | One-hot encoding       |\n",
    "| PerformanceRating        | Categorical (ordered)     | Ordinal encoding       |\n",
    "| RelationshipSatisfaction | Categorical (ordered)     | Ordinal encoding       |\n",
    "| StockOptionLevel         | Categorical (ordered)     | Ordinal encoding       |\n",
    "| WorkLifeBalance          | Categorical (ordered)     | Ordinal encoding       |\n"
   ]
  },
  {
   "cell_type": "markdown",
   "id": "3a7f2b48",
   "metadata": {},
   "source": [
    "Data will be divided and defined based on its type. This definition is important for use in various processes that request numeric or categorical data types."
   ]
  },
  {
   "cell_type": "code",
   "execution_count": 17,
   "id": "38829aca",
   "metadata": {},
   "outputs": [],
   "source": [
    "# Creating categorical column data\n",
    "ordinal_column = ['BusinessTravel','Education','EnvironmentSatisfaction','PerformanceRating','JobInvolvement','JobLevel','JobSatisfaction','RelationshipSatisfaction', 'StockOptionLevel', 'WorkLifeBalance']\n",
    "onehot_column = ['Department','EducationField','Gender','JobRole','MaritalStatus','OverTime']\n",
    "categorical_column = ordinal_column + onehot_column\n",
    "\n",
    "# Creating numeric column data\n",
    "numerical_column = list(df.select_dtypes(include='number').drop(columns=categorical_column, errors='ignore'))\n",
    "numerical_column.remove('StandardHours')\n",
    "numerical_column.remove('EmployeeCount')\n",
    "numerical_column.remove('EmployeeNumber')"
   ]
  },
  {
   "cell_type": "markdown",
   "id": "0cd35d1a",
   "metadata": {},
   "source": [
    "As explained in the data loading StandardHours and EmployeeCount are only one data that has no variation so it becomes useless when used, so the column will be deleted because it is not used. EmployeeNumber is a unique employee ID, it is useless for modeling and can cause the model to misjudge so it will be deleted. Column Over18 data string only contains the value Y, this column is administrative which shows all employees are over 18 years old and are said to be adults, this column will not be used because it is not informative"
   ]
  },
  {
   "cell_type": "markdown",
   "id": "93176387",
   "metadata": {},
   "source": [
    "### View Cardinality Data Category"
   ]
  },
  {
   "cell_type": "markdown",
   "id": "bc19af03",
   "metadata": {},
   "source": [
    "Displaying categorical data for cross validation"
   ]
  },
  {
   "cell_type": "code",
   "execution_count": 18,
   "id": "1098d5f6",
   "metadata": {},
   "outputs": [
    {
     "data": {
      "text/html": [
       "<div>\n",
       "<style scoped>\n",
       "    .dataframe tbody tr th:only-of-type {\n",
       "        vertical-align: middle;\n",
       "    }\n",
       "\n",
       "    .dataframe tbody tr th {\n",
       "        vertical-align: top;\n",
       "    }\n",
       "\n",
       "    .dataframe thead th {\n",
       "        text-align: right;\n",
       "    }\n",
       "</style>\n",
       "<table border=\"1\" class=\"dataframe\">\n",
       "  <thead>\n",
       "    <tr style=\"text-align: right;\">\n",
       "      <th></th>\n",
       "      <th>column</th>\n",
       "      <th>value_counts</th>\n",
       "      <th>unique_value</th>\n",
       "    </tr>\n",
       "  </thead>\n",
       "  <tbody>\n",
       "    <tr>\n",
       "      <th>0</th>\n",
       "      <td>BusinessTravel</td>\n",
       "      <td>3</td>\n",
       "      <td>[Travel_Rarely, Travel_Frequently, Non-Travel]</td>\n",
       "    </tr>\n",
       "    <tr>\n",
       "      <th>1</th>\n",
       "      <td>Education</td>\n",
       "      <td>5</td>\n",
       "      <td>[2, 1, 4, 3, 5]</td>\n",
       "    </tr>\n",
       "    <tr>\n",
       "      <th>2</th>\n",
       "      <td>EnvironmentSatisfaction</td>\n",
       "      <td>4</td>\n",
       "      <td>[2, 3, 4, 1]</td>\n",
       "    </tr>\n",
       "    <tr>\n",
       "      <th>3</th>\n",
       "      <td>PerformanceRating</td>\n",
       "      <td>2</td>\n",
       "      <td>[3, 4]</td>\n",
       "    </tr>\n",
       "    <tr>\n",
       "      <th>4</th>\n",
       "      <td>JobInvolvement</td>\n",
       "      <td>4</td>\n",
       "      <td>[3, 2, 4, 1]</td>\n",
       "    </tr>\n",
       "    <tr>\n",
       "      <th>5</th>\n",
       "      <td>JobLevel</td>\n",
       "      <td>5</td>\n",
       "      <td>[2, 1, 3, 4, 5]</td>\n",
       "    </tr>\n",
       "    <tr>\n",
       "      <th>6</th>\n",
       "      <td>JobSatisfaction</td>\n",
       "      <td>4</td>\n",
       "      <td>[4, 2, 3, 1]</td>\n",
       "    </tr>\n",
       "    <tr>\n",
       "      <th>7</th>\n",
       "      <td>RelationshipSatisfaction</td>\n",
       "      <td>4</td>\n",
       "      <td>[1, 4, 2, 3]</td>\n",
       "    </tr>\n",
       "    <tr>\n",
       "      <th>8</th>\n",
       "      <td>StockOptionLevel</td>\n",
       "      <td>4</td>\n",
       "      <td>[0, 1, 3, 2]</td>\n",
       "    </tr>\n",
       "    <tr>\n",
       "      <th>9</th>\n",
       "      <td>WorkLifeBalance</td>\n",
       "      <td>4</td>\n",
       "      <td>[1, 3, 2, 4]</td>\n",
       "    </tr>\n",
       "    <tr>\n",
       "      <th>10</th>\n",
       "      <td>Department</td>\n",
       "      <td>3</td>\n",
       "      <td>[Sales, Research &amp; Development, Human Resources]</td>\n",
       "    </tr>\n",
       "    <tr>\n",
       "      <th>11</th>\n",
       "      <td>EducationField</td>\n",
       "      <td>6</td>\n",
       "      <td>[Life Sciences, Other, Medical, Marketing, Technical Degree, Human Resources]</td>\n",
       "    </tr>\n",
       "    <tr>\n",
       "      <th>12</th>\n",
       "      <td>Gender</td>\n",
       "      <td>2</td>\n",
       "      <td>[Female, Male]</td>\n",
       "    </tr>\n",
       "    <tr>\n",
       "      <th>13</th>\n",
       "      <td>JobRole</td>\n",
       "      <td>9</td>\n",
       "      <td>[Sales Executive, Research Scientist, Laboratory Technician, Manufacturing Director, Healthcare Representative, Manager, Sales Representative, Research Director, Human Resources]</td>\n",
       "    </tr>\n",
       "    <tr>\n",
       "      <th>14</th>\n",
       "      <td>MaritalStatus</td>\n",
       "      <td>3</td>\n",
       "      <td>[Single, Married, Divorced]</td>\n",
       "    </tr>\n",
       "    <tr>\n",
       "      <th>15</th>\n",
       "      <td>OverTime</td>\n",
       "      <td>2</td>\n",
       "      <td>[Yes, No]</td>\n",
       "    </tr>\n",
       "  </tbody>\n",
       "</table>\n",
       "</div>"
      ],
      "text/plain": [
       "                      column  value_counts  \\\n",
       "0             BusinessTravel             3   \n",
       "1                  Education             5   \n",
       "2    EnvironmentSatisfaction             4   \n",
       "3          PerformanceRating             2   \n",
       "4             JobInvolvement             4   \n",
       "5                   JobLevel             5   \n",
       "6            JobSatisfaction             4   \n",
       "7   RelationshipSatisfaction             4   \n",
       "8           StockOptionLevel             4   \n",
       "9            WorkLifeBalance             4   \n",
       "10                Department             3   \n",
       "11            EducationField             6   \n",
       "12                    Gender             2   \n",
       "13                   JobRole             9   \n",
       "14             MaritalStatus             3   \n",
       "15                  OverTime             2   \n",
       "\n",
       "                                                                                                                                                                          unique_value  \n",
       "0                                                                                                                                       [Travel_Rarely, Travel_Frequently, Non-Travel]  \n",
       "1                                                                                                                                                                      [2, 1, 4, 3, 5]  \n",
       "2                                                                                                                                                                         [2, 3, 4, 1]  \n",
       "3                                                                                                                                                                               [3, 4]  \n",
       "4                                                                                                                                                                         [3, 2, 4, 1]  \n",
       "5                                                                                                                                                                      [2, 1, 3, 4, 5]  \n",
       "6                                                                                                                                                                         [4, 2, 3, 1]  \n",
       "7                                                                                                                                                                         [1, 4, 2, 3]  \n",
       "8                                                                                                                                                                         [0, 1, 3, 2]  \n",
       "9                                                                                                                                                                         [1, 3, 2, 4]  \n",
       "10                                                                                                                                    [Sales, Research & Development, Human Resources]  \n",
       "11                                                                                                       [Life Sciences, Other, Medical, Marketing, Technical Degree, Human Resources]  \n",
       "12                                                                                                                                                                      [Female, Male]  \n",
       "13  [Sales Executive, Research Scientist, Laboratory Technician, Manufacturing Director, Healthcare Representative, Manager, Sales Representative, Research Director, Human Resources]  \n",
       "14                                                                                                                                                         [Single, Married, Divorced]  \n",
       "15                                                                                                                                                                           [Yes, No]  "
      ]
     },
     "execution_count": 18,
     "metadata": {},
     "output_type": "execute_result"
    }
   ],
   "source": [
    "# Displays columns, number of unique data, and unique data\n",
    "pd.set_option('display.max_colwidth', None)\n",
    "list_ordinality = []\n",
    "for col in categorical_column:\n",
    "    list_ordinality.append([col, df[col].nunique(), df[col].unique()])\n",
    "pd.DataFrame(columns=['column','value_counts', 'unique_value'], data=list_ordinality)"
   ]
  },
  {
   "cell_type": "markdown",
   "id": "b03d77b9",
   "metadata": {},
   "source": [
    "For performance rating, it is usually in the range of 1-4, but in this dataset it is only in 3-4, if inference is done with other data, the model may not recognize it, as well as department and jobrole data. All data in validation is category data with a few unique values"
   ]
  },
  {
   "cell_type": "markdown",
   "id": "6f08c6f5",
   "metadata": {},
   "source": [
    "## Correlation Matrics"
   ]
  },
  {
   "cell_type": "markdown",
   "id": "74a61221",
   "metadata": {},
   "source": [
    "Correlation has various tests that have advantages and disadvantages in general chi-square is tested for category data with categories, categories with numerics can use kendals.\n",
    "\n",
    "Correlation hypothesis:\n",
    "\n",
    "H0: There is a correlation (p-value <= 0.05)\n",
    "\n",
    "H1: There is no correlation (p-value> 0.05)"
   ]
  },
  {
   "cell_type": "code",
   "execution_count": 19,
   "id": "e03ced09",
   "metadata": {},
   "outputs": [
    {
     "data": {
      "text/html": [
       "<div>\n",
       "<style scoped>\n",
       "    .dataframe tbody tr th:only-of-type {\n",
       "        vertical-align: middle;\n",
       "    }\n",
       "\n",
       "    .dataframe tbody tr th {\n",
       "        vertical-align: top;\n",
       "    }\n",
       "\n",
       "    .dataframe thead th {\n",
       "        text-align: right;\n",
       "    }\n",
       "</style>\n",
       "<table border=\"1\" class=\"dataframe\">\n",
       "  <thead>\n",
       "    <tr style=\"text-align: right;\">\n",
       "      <th></th>\n",
       "      <th>column</th>\n",
       "      <th>correlation</th>\n",
       "      <th>hipotesis</th>\n",
       "    </tr>\n",
       "  </thead>\n",
       "  <tbody>\n",
       "    <tr>\n",
       "      <th>1</th>\n",
       "      <td>Attrition</td>\n",
       "      <td>0.000000e+00</td>\n",
       "      <td>correlation</td>\n",
       "    </tr>\n",
       "    <tr>\n",
       "      <th>13</th>\n",
       "      <td>TotalWorkingYears</td>\n",
       "      <td>2.398012e-14</td>\n",
       "      <td>correlation</td>\n",
       "    </tr>\n",
       "    <tr>\n",
       "      <th>7</th>\n",
       "      <td>MonthlyIncome</td>\n",
       "      <td>2.948926e-14</td>\n",
       "      <td>correlation</td>\n",
       "    </tr>\n",
       "    <tr>\n",
       "      <th>15</th>\n",
       "      <td>YearsAtCompany</td>\n",
       "      <td>2.914375e-13</td>\n",
       "      <td>correlation</td>\n",
       "    </tr>\n",
       "    <tr>\n",
       "      <th>16</th>\n",
       "      <td>YearsInCurrentRole</td>\n",
       "      <td>4.426913e-12</td>\n",
       "      <td>correlation</td>\n",
       "    </tr>\n",
       "    <tr>\n",
       "      <th>18</th>\n",
       "      <td>YearsWithCurrManager</td>\n",
       "      <td>1.805706e-11</td>\n",
       "      <td>correlation</td>\n",
       "    </tr>\n",
       "    <tr>\n",
       "      <th>0</th>\n",
       "      <td>Age</td>\n",
       "      <td>5.301368e-11</td>\n",
       "      <td>correlation</td>\n",
       "    </tr>\n",
       "    <tr>\n",
       "      <th>3</th>\n",
       "      <td>DistanceFromHome</td>\n",
       "      <td>2.386383e-03</td>\n",
       "      <td>correlation</td>\n",
       "    </tr>\n",
       "    <tr>\n",
       "      <th>2</th>\n",
       "      <td>DailyRate</td>\n",
       "      <td>2.899843e-02</td>\n",
       "      <td>correlation</td>\n",
       "    </tr>\n",
       "    <tr>\n",
       "      <th>17</th>\n",
       "      <td>YearsSinceLastPromotion</td>\n",
       "      <td>4.117047e-02</td>\n",
       "      <td>correlation</td>\n",
       "    </tr>\n",
       "    <tr>\n",
       "      <th>14</th>\n",
       "      <td>TrainingTimesLastYear</td>\n",
       "      <td>4.728594e-02</td>\n",
       "      <td>correlation</td>\n",
       "    </tr>\n",
       "    <tr>\n",
       "      <th>9</th>\n",
       "      <td>NumCompaniesWorked</td>\n",
       "      <td>2.423305e-01</td>\n",
       "      <td>don't have correlation</td>\n",
       "    </tr>\n",
       "    <tr>\n",
       "      <th>11</th>\n",
       "      <td>PercentSalaryHike</td>\n",
       "      <td>3.654701e-01</td>\n",
       "      <td>don't have correlation</td>\n",
       "    </tr>\n",
       "    <tr>\n",
       "      <th>8</th>\n",
       "      <td>MonthlyRate</td>\n",
       "      <td>5.586919e-01</td>\n",
       "      <td>don't have correlation</td>\n",
       "    </tr>\n",
       "    <tr>\n",
       "      <th>5</th>\n",
       "      <td>EmployeeNumber</td>\n",
       "      <td>6.910699e-01</td>\n",
       "      <td>don't have correlation</td>\n",
       "    </tr>\n",
       "    <tr>\n",
       "      <th>6</th>\n",
       "      <td>HourlyRate</td>\n",
       "      <td>7.975658e-01</td>\n",
       "      <td>don't have correlation</td>\n",
       "    </tr>\n",
       "    <tr>\n",
       "      <th>4</th>\n",
       "      <td>EmployeeCount</td>\n",
       "      <td>NaN</td>\n",
       "      <td>don't have correlation</td>\n",
       "    </tr>\n",
       "    <tr>\n",
       "      <th>10</th>\n",
       "      <td>Over18</td>\n",
       "      <td>NaN</td>\n",
       "      <td>don't have correlation</td>\n",
       "    </tr>\n",
       "    <tr>\n",
       "      <th>12</th>\n",
       "      <td>StandardHours</td>\n",
       "      <td>NaN</td>\n",
       "      <td>don't have correlation</td>\n",
       "    </tr>\n",
       "  </tbody>\n",
       "</table>\n",
       "</div>"
      ],
      "text/plain": [
       "                     column   correlation               hipotesis\n",
       "1                 Attrition  0.000000e+00             correlation\n",
       "13        TotalWorkingYears  2.398012e-14             correlation\n",
       "7             MonthlyIncome  2.948926e-14             correlation\n",
       "15           YearsAtCompany  2.914375e-13             correlation\n",
       "16       YearsInCurrentRole  4.426913e-12             correlation\n",
       "18     YearsWithCurrManager  1.805706e-11             correlation\n",
       "0                       Age  5.301368e-11             correlation\n",
       "3          DistanceFromHome  2.386383e-03             correlation\n",
       "2                 DailyRate  2.899843e-02             correlation\n",
       "17  YearsSinceLastPromotion  4.117047e-02             correlation\n",
       "14    TrainingTimesLastYear  4.728594e-02             correlation\n",
       "9        NumCompaniesWorked  2.423305e-01  don't have correlation\n",
       "11        PercentSalaryHike  3.654701e-01  don't have correlation\n",
       "8               MonthlyRate  5.586919e-01  don't have correlation\n",
       "5            EmployeeNumber  6.910699e-01  don't have correlation\n",
       "6                HourlyRate  7.975658e-01  don't have correlation\n",
       "4             EmployeeCount           NaN  don't have correlation\n",
       "10                   Over18           NaN  don't have correlation\n",
       "12            StandardHours           NaN  don't have correlation"
      ]
     },
     "metadata": {},
     "output_type": "display_data"
    },
    {
     "data": {
      "text/html": [
       "<div>\n",
       "<style scoped>\n",
       "    .dataframe tbody tr th:only-of-type {\n",
       "        vertical-align: middle;\n",
       "    }\n",
       "\n",
       "    .dataframe tbody tr th {\n",
       "        vertical-align: top;\n",
       "    }\n",
       "\n",
       "    .dataframe thead th {\n",
       "        text-align: right;\n",
       "    }\n",
       "</style>\n",
       "<table border=\"1\" class=\"dataframe\">\n",
       "  <thead>\n",
       "    <tr style=\"text-align: right;\">\n",
       "      <th></th>\n",
       "      <th>column</th>\n",
       "      <th>p-value</th>\n",
       "      <th>hipotesis</th>\n",
       "    </tr>\n",
       "  </thead>\n",
       "  <tbody>\n",
       "    <tr>\n",
       "      <th>11</th>\n",
       "      <td>OverTime</td>\n",
       "      <td>8.158424e-21</td>\n",
       "      <td>correlation</td>\n",
       "    </tr>\n",
       "    <tr>\n",
       "      <th>8</th>\n",
       "      <td>JobRole</td>\n",
       "      <td>2.752482e-15</td>\n",
       "      <td>correlation</td>\n",
       "    </tr>\n",
       "    <tr>\n",
       "      <th>7</th>\n",
       "      <td>JobLevel</td>\n",
       "      <td>6.634685e-15</td>\n",
       "      <td>correlation</td>\n",
       "    </tr>\n",
       "    <tr>\n",
       "      <th>14</th>\n",
       "      <td>StockOptionLevel</td>\n",
       "      <td>4.379390e-13</td>\n",
       "      <td>correlation</td>\n",
       "    </tr>\n",
       "    <tr>\n",
       "      <th>10</th>\n",
       "      <td>MaritalStatus</td>\n",
       "      <td>9.455511e-11</td>\n",
       "      <td>correlation</td>\n",
       "    </tr>\n",
       "    <tr>\n",
       "      <th>6</th>\n",
       "      <td>JobInvolvement</td>\n",
       "      <td>2.863181e-06</td>\n",
       "      <td>correlation</td>\n",
       "    </tr>\n",
       "    <tr>\n",
       "      <th>0</th>\n",
       "      <td>BusinessTravel</td>\n",
       "      <td>5.608614e-06</td>\n",
       "      <td>correlation</td>\n",
       "    </tr>\n",
       "    <tr>\n",
       "      <th>4</th>\n",
       "      <td>EnvironmentSatisfaction</td>\n",
       "      <td>5.123469e-05</td>\n",
       "      <td>correlation</td>\n",
       "    </tr>\n",
       "    <tr>\n",
       "      <th>9</th>\n",
       "      <td>JobSatisfaction</td>\n",
       "      <td>5.563005e-04</td>\n",
       "      <td>correlation</td>\n",
       "    </tr>\n",
       "    <tr>\n",
       "      <th>15</th>\n",
       "      <td>WorkLifeBalance</td>\n",
       "      <td>9.725699e-04</td>\n",
       "      <td>correlation</td>\n",
       "    </tr>\n",
       "    <tr>\n",
       "      <th>1</th>\n",
       "      <td>Department</td>\n",
       "      <td>4.525607e-03</td>\n",
       "      <td>correlation</td>\n",
       "    </tr>\n",
       "    <tr>\n",
       "      <th>3</th>\n",
       "      <td>EducationField</td>\n",
       "      <td>6.773980e-03</td>\n",
       "      <td>correlation</td>\n",
       "    </tr>\n",
       "    <tr>\n",
       "      <th>13</th>\n",
       "      <td>RelationshipSatisfaction</td>\n",
       "      <td>1.549724e-01</td>\n",
       "      <td>don't have correlation</td>\n",
       "    </tr>\n",
       "    <tr>\n",
       "      <th>5</th>\n",
       "      <td>Gender</td>\n",
       "      <td>2.905724e-01</td>\n",
       "      <td>don't have correlation</td>\n",
       "    </tr>\n",
       "    <tr>\n",
       "      <th>2</th>\n",
       "      <td>Education</td>\n",
       "      <td>5.455253e-01</td>\n",
       "      <td>don't have correlation</td>\n",
       "    </tr>\n",
       "    <tr>\n",
       "      <th>12</th>\n",
       "      <td>PerformanceRating</td>\n",
       "      <td>9.900745e-01</td>\n",
       "      <td>don't have correlation</td>\n",
       "    </tr>\n",
       "  </tbody>\n",
       "</table>\n",
       "</div>"
      ],
      "text/plain": [
       "                      column       p-value               hipotesis\n",
       "11                  OverTime  8.158424e-21             correlation\n",
       "8                    JobRole  2.752482e-15             correlation\n",
       "7                   JobLevel  6.634685e-15             correlation\n",
       "14          StockOptionLevel  4.379390e-13             correlation\n",
       "10             MaritalStatus  9.455511e-11             correlation\n",
       "6             JobInvolvement  2.863181e-06             correlation\n",
       "0             BusinessTravel  5.608614e-06             correlation\n",
       "4    EnvironmentSatisfaction  5.123469e-05             correlation\n",
       "9            JobSatisfaction  5.563005e-04             correlation\n",
       "15           WorkLifeBalance  9.725699e-04             correlation\n",
       "1                 Department  4.525607e-03             correlation\n",
       "3             EducationField  6.773980e-03             correlation\n",
       "13  RelationshipSatisfaction  1.549724e-01  don't have correlation\n",
       "5                     Gender  2.905724e-01  don't have correlation\n",
       "2                  Education  5.455253e-01  don't have correlation\n",
       "12         PerformanceRating  9.900745e-01  don't have correlation"
      ]
     },
     "metadata": {},
     "output_type": "display_data"
    }
   ],
   "source": [
    "# Save chi square correlation value\n",
    "list_corr_chi = []\n",
    "# Save Kendals correlation value\n",
    "list_corr = []\n",
    "\n",
    "# Looping to fill the correlation list\n",
    "for col in list(df.columns):\n",
    "    if col in categorical_column and col != 'Attrition':\n",
    "        contingency_table = pd.crosstab(df[col], df['Attrition'])\n",
    "        corr, p, dof, expected = stats.chi2_contingency(contingency_table)\n",
    "        if p <= 0.05:\n",
    "            h = 'correlation'\n",
    "        else:\n",
    "            h = \"don't have correlation\"\n",
    "        list_corr_chi.append([col, p, h])\n",
    "    else:\n",
    "        corr, p = stats.kendalltau(df[col], df['Attrition'])\n",
    "        if p <= 0.05:\n",
    "            h = 'correlation'\n",
    "        else:\n",
    "            h = \"don't have correlation\"\n",
    "        list_corr.append([col, p, h])\n",
    "\n",
    "# Create a dataframe from the list of control correlations\n",
    "corr = pd.DataFrame(columns=['column','correlation','hipotesis'], data=list_corr)\n",
    "corr.sort_values(by='correlation',ascending=True  ,inplace=True)\n",
    "display(corr)\n",
    "\n",
    "# Create a dataframe from the chi square correlation list\n",
    "corr_chi = pd.DataFrame(columns=['column','p-value','hipotesis'], data=list_corr_chi)\n",
    "corr_chi.sort_values(by='p-value',ascending=True  ,inplace=True)\n",
    "display(corr_chi)"
   ]
  },
  {
   "cell_type": "markdown",
   "id": "eb4e8384",
   "metadata": {},
   "source": [
    "**Analysis** So statistically, the p-value shows several features that are not correlated with the attrition target, namely NumCompaniesWorked, PercentSalaryHike, MonthlyRate, HourlyRate, RelationshipSatisfaction, Gender, Education, PerformanceRating"
   ]
  },
  {
   "cell_type": "code",
   "execution_count": 20,
   "id": "ff422d1c",
   "metadata": {},
   "outputs": [
    {
     "data": {
      "image/png": "[encoded data removed]",
      "text/plain": [
       "<Figure size 1500x1500 with 2 Axes>"
      ]
     },
     "metadata": {},
     "output_type": "display_data"
    }
   ],
   "source": [
    "# To see how strong the relationship is, only on numeric data\n",
    "plt.figure(figsize=(15, 15))\n",
    "sns.heatmap(df[numerical_column].corr(method='kendall'), annot=True, cmap='RdYlGn', fmt=\".2f\")\n",
    "plt.title(\"Korelasi Fitur terhadap Attrition\")\n",
    "plt.xticks(rotation=45)\n",
    "plt.tight_layout()\n",
    "plt.show()"
   ]
  },
  {
   "cell_type": "markdown",
   "id": "1c157cdc",
   "metadata": {},
   "source": [
    "**Analysis:** All data related to the year such as age, YearsAtcompany, etc. have a moderate to strong relationship, this is normal because all are affected by the year. Monthly income has a strong effect on the length of time worked, which can be interpreted as monthly salary increases with work experience. While the relationship between Attrition and other variables is very weak to weak. For the year I will choose Year Company as another representative year, because it causes multicollinearity problems when using the logistic regression model."
   ]
  },
  {
   "cell_type": "code",
   "execution_count": null,
   "id": "12755b9b",
   "metadata": {},
   "outputs": [
    {
     "name": "stderr",
     "output_type": "stream",
     "text": [
      "C:\\Users\\THINKPAD\\AppData\\Local\\Temp\\ipykernel_6728\\707532751.py:14: FutureWarning: \n",
      "\n",
      "Passing `palette` without assigning `hue` is deprecated and will be removed in v0.14.0. Assign the `y` variable to `hue` and set `legend=False` for the same effect.\n",
      "\n",
      "  sns.barplot(data=chi_df, x='Chi2', y='Feature', palette='RdYlGn')\n"
     ]
    },
    {
     "data": {
      "image/png": "[encoded data removed]",
      "text/plain": [
       "<Figure size 640x480 with 1 Axes>"
      ]
     },
     "metadata": {},
     "output_type": "display_data"
    }
   ],
   "source": [
    "def chi2_test(df, col1, col2):\n",
    "    \"\"\"Function to make crosstable and return chi2 and p\"\"\"\n",
    "    table = pd.crosstab(df[col1], df[col2])\n",
    "    chi2, p, dof, expected = stats.chi2_contingency(table)\n",
    "    return chi2, p\n",
    "\n",
    "# Looping test chi-square ordinal column\n",
    "results = []\n",
    "for col in ordinal_column:\n",
    "    chi2, p = chi2_test(df, 'Attrition', col)\n",
    "    results.append({'Feature': col, 'Chi2': chi2, 'p-value': p})\n",
    "\n",
    "# Make dataframe\n",
    "pd.DataFrame(results).sort_values('Chi2', ascending=False)\n",
    "\n",
    "# Visualisation\n",
    "chi_df = pd.DataFrame(results)\n",
    "sns.barplot(data=chi_df, x='Chi2', y='Feature', palette='RdYlGn')\n",
    "plt.title('Chi-Square Statistic Between Categorical And Attrition')\n",
    "plt.show()"
   ]
  },
  {
   "cell_type": "markdown",
   "id": "104163e5",
   "metadata": {},
   "source": [
    "**Analysis:**\n",
    "1. Features with the largest influence (high Chi2):\n",
    "- JobLevel (largest) → very likely to be strongly related to attrition.\n",
    "- StockOptionLevel → also has a strong relationship.\n",
    "- BusinessTravel, JobInvolvement, EnvironmentSatisfaction → moderate to high influence.\n",
    "2. Features with small influence (low Chi2):\n",
    "- Education, RelationshipSatisfaction, PerformanceRating → likely to have little influence on attrition.\n",
    "\n",
    "Features with low Chi2 values could be considered for elimination from the model due to their small influence, but since I don't have many other features, I'll keep them."
   ]
  },
  {
   "cell_type": "markdown",
   "id": "b2808ab3",
   "metadata": {},
   "source": [
    "## Split Data Train and Test"
   ]
  },
  {
   "cell_type": "markdown",
   "id": "ea702d2b",
   "metadata": {},
   "source": [
    "Splitting to divide data into train data and test data, train data is used for the machine to learn patterns from its data, to create a model. Test data is used to test the results of the machine pattern, by testing the model to the test data."
   ]
  },
  {
   "cell_type": "code",
   "execution_count": 22,
   "id": "0ef008f4",
   "metadata": {},
   "outputs": [
    {
     "name": "stdout",
     "output_type": "stream",
     "text": [
      "Train size : (1176, 34)\n",
      "Test size : (294, 34)\n"
     ]
    }
   ],
   "source": [
    "# Split feature and target\n",
    "X_data = df.drop(columns=['Attrition'], axis=1)\n",
    "y_data = df['Attrition']\n",
    "\n",
    "# Split data train and test\n",
    "X_train, X_test, y_train, y_test = train_test_split(X_data, y_data, train_size=0.8, random_state=9)\n",
    "print(f'Train size : {X_train.shape}')\n",
    "print(f'Test size : {X_test.shape}')"
   ]
  },
  {
   "cell_type": "markdown",
   "id": "e9384350",
   "metadata": {},
   "source": [
    "Proportion of train data division 80%, test data 20%"
   ]
  },
  {
   "cell_type": "markdown",
   "id": "a6b66f02",
   "metadata": {},
   "source": [
    "## Handling Outlier"
   ]
  },
  {
   "cell_type": "markdown",
   "id": "ce82cd2c",
   "metadata": {},
   "source": [
    "Outliers are values ​​that deviate significantly from the data distribution. Outliers can occur due to various possibilities, such as human error, sensor error, etc. Outliers must be removed to make statistical results undistorted."
   ]
  },
  {
   "cell_type": "code",
   "execution_count": 23,
   "id": "c02a0ea5",
   "metadata": {},
   "outputs": [],
   "source": [
    "# Function to output lower and upper outlier values\n",
    "def outlier(dataframe, series):\n",
    "    data = dataframe[series]\n",
    "    skewness = data.skew()\n",
    "    if -0.5 <= skewness <= 0.5:\n",
    "        lower = data.mean() - (3 * data.std())\n",
    "        upper = data.mean() + (3 * data.std())\n",
    "    else:\n",
    "        iqr = data.quantile(0.75) -  data.quantile(0.25)\n",
    "        lower = data.quantile(0.25) - (1.5 * iqr)\n",
    "        upper = data.quantile(0.75) + (1.5 *iqr)\n",
    "    return lower, upper"
   ]
  },
  {
   "cell_type": "markdown",
   "id": "16090b6a",
   "metadata": {},
   "source": [
    "Here using two methods namely turkey's rule and Z-score, assuming if the data is distributed close to normal it will be handled with Z-score because Z-score is good at cutting large variations based on standard variation, if the data is skewed it will be handled with turkey's rule because turkey's rule cuts data based on the interquartile range is suitable for skewed data. Z-score uses 3 times the standard deviation, and turkey's rule uses 1.5 times the iqr."
   ]
  },
  {
   "cell_type": "code",
   "execution_count": 24,
   "id": "08cc93d5",
   "metadata": {},
   "outputs": [
    {
     "data": {
      "text/html": [
       "<div>\n",
       "<style scoped>\n",
       "    .dataframe tbody tr th:only-of-type {\n",
       "        vertical-align: middle;\n",
       "    }\n",
       "\n",
       "    .dataframe tbody tr th {\n",
       "        vertical-align: top;\n",
       "    }\n",
       "\n",
       "    .dataframe thead th {\n",
       "        text-align: right;\n",
       "    }\n",
       "</style>\n",
       "<table border=\"1\" class=\"dataframe\">\n",
       "  <thead>\n",
       "    <tr style=\"text-align: right;\">\n",
       "      <th></th>\n",
       "      <th>column</th>\n",
       "      <th>lower</th>\n",
       "      <th>upper</th>\n",
       "      <th>percentage_outlier</th>\n",
       "    </tr>\n",
       "  </thead>\n",
       "  <tbody>\n",
       "    <tr>\n",
       "      <th>0</th>\n",
       "      <td>Age</td>\n",
       "      <td>9.167597</td>\n",
       "      <td>64.580703</td>\n",
       "      <td>0.000000</td>\n",
       "    </tr>\n",
       "    <tr>\n",
       "      <th>1</th>\n",
       "      <td>DailyRate</td>\n",
       "      <td>-424.148937</td>\n",
       "      <td>2028.387032</td>\n",
       "      <td>0.000000</td>\n",
       "    </tr>\n",
       "    <tr>\n",
       "      <th>2</th>\n",
       "      <td>DistanceFromHome</td>\n",
       "      <td>-16.000000</td>\n",
       "      <td>32.000000</td>\n",
       "      <td>0.000000</td>\n",
       "    </tr>\n",
       "    <tr>\n",
       "      <th>3</th>\n",
       "      <td>HourlyRate</td>\n",
       "      <td>4.172091</td>\n",
       "      <td>126.933351</td>\n",
       "      <td>0.000000</td>\n",
       "    </tr>\n",
       "    <tr>\n",
       "      <th>4</th>\n",
       "      <td>MonthlyIncome</td>\n",
       "      <td>-4801.250000</td>\n",
       "      <td>15752.750000</td>\n",
       "      <td>8.758503</td>\n",
       "    </tr>\n",
       "    <tr>\n",
       "      <th>5</th>\n",
       "      <td>MonthlyRate</td>\n",
       "      <td>-6793.704261</td>\n",
       "      <td>35774.336914</td>\n",
       "      <td>0.000000</td>\n",
       "    </tr>\n",
       "    <tr>\n",
       "      <th>6</th>\n",
       "      <td>NumCompaniesWorked</td>\n",
       "      <td>-3.500000</td>\n",
       "      <td>8.500000</td>\n",
       "      <td>3.401361</td>\n",
       "    </tr>\n",
       "    <tr>\n",
       "      <th>7</th>\n",
       "      <td>PercentSalaryHike</td>\n",
       "      <td>3.000000</td>\n",
       "      <td>27.000000</td>\n",
       "      <td>0.000000</td>\n",
       "    </tr>\n",
       "    <tr>\n",
       "      <th>8</th>\n",
       "      <td>TotalWorkingYears</td>\n",
       "      <td>-7.500000</td>\n",
       "      <td>28.500000</td>\n",
       "      <td>4.506803</td>\n",
       "    </tr>\n",
       "    <tr>\n",
       "      <th>9</th>\n",
       "      <td>TrainingTimesLastYear</td>\n",
       "      <td>0.500000</td>\n",
       "      <td>4.500000</td>\n",
       "      <td>15.816327</td>\n",
       "    </tr>\n",
       "    <tr>\n",
       "      <th>10</th>\n",
       "      <td>YearsAtCompany</td>\n",
       "      <td>-6.000000</td>\n",
       "      <td>18.000000</td>\n",
       "      <td>6.717687</td>\n",
       "    </tr>\n",
       "    <tr>\n",
       "      <th>11</th>\n",
       "      <td>YearsInCurrentRole</td>\n",
       "      <td>-5.500000</td>\n",
       "      <td>14.500000</td>\n",
       "      <td>1.190476</td>\n",
       "    </tr>\n",
       "    <tr>\n",
       "      <th>12</th>\n",
       "      <td>YearsSinceLastPromotion</td>\n",
       "      <td>-3.000000</td>\n",
       "      <td>5.000000</td>\n",
       "      <td>14.285714</td>\n",
       "    </tr>\n",
       "    <tr>\n",
       "      <th>13</th>\n",
       "      <td>YearsWithCurrManager</td>\n",
       "      <td>-5.500000</td>\n",
       "      <td>14.500000</td>\n",
       "      <td>1.020408</td>\n",
       "    </tr>\n",
       "  </tbody>\n",
       "</table>\n",
       "</div>"
      ],
      "text/plain": [
       "                     column        lower         upper  percentage_outlier\n",
       "0                       Age     9.167597     64.580703            0.000000\n",
       "1                 DailyRate  -424.148937   2028.387032            0.000000\n",
       "2          DistanceFromHome   -16.000000     32.000000            0.000000\n",
       "3                HourlyRate     4.172091    126.933351            0.000000\n",
       "4             MonthlyIncome -4801.250000  15752.750000            8.758503\n",
       "5               MonthlyRate -6793.704261  35774.336914            0.000000\n",
       "6        NumCompaniesWorked    -3.500000      8.500000            3.401361\n",
       "7         PercentSalaryHike     3.000000     27.000000            0.000000\n",
       "8         TotalWorkingYears    -7.500000     28.500000            4.506803\n",
       "9     TrainingTimesLastYear     0.500000      4.500000           15.816327\n",
       "10           YearsAtCompany    -6.000000     18.000000            6.717687\n",
       "11       YearsInCurrentRole    -5.500000     14.500000            1.190476\n",
       "12  YearsSinceLastPromotion    -3.000000      5.000000           14.285714\n",
       "13     YearsWithCurrManager    -5.500000     14.500000            1.020408"
      ]
     },
     "execution_count": 24,
     "metadata": {},
     "output_type": "execute_result"
    }
   ],
   "source": [
    "# Here it is removed because the label does not need to be handled\n",
    "numerical_column.remove('Attrition')\n",
    "\n",
    "# Empty list for outlier data\n",
    "list_outlier = []\n",
    "\n",
    "# Empty list for outlier data\n",
    "for col in numerical_column:\n",
    "    lower, upper = outlier(X_train, col)\n",
    "    outlier_data = X_train[(X_train[col] < lower) | (X_train[col] > upper)]\n",
    "    percentage = (len(outlier_data) / len(X_train[col])) * 100\n",
    "    list_outlier.append([col, lower, upper, percentage])\n",
    "    \n",
    "# Create a dataframe to display\n",
    "pd.DataFrame(columns=['column', 'lower', 'upper', 'percentage_outlier'], data=list_outlier)"
   ]
  },
  {
   "cell_type": "markdown",
   "id": "57f76084",
   "metadata": {},
   "source": [
    "Outliers have two ways of handling them, namely by deleting them and using the capping method. Both methods have their advantages and disadvantages, such as deleting them will remove information, which may be important information, while capping changes the information and can make the information irrelevant. In this dataset, a threshold of 5% is created, where below 5% is an indication of low-value data and can be deleted. Looking at the outlier percentage, there are 4 features that exceed 5% and 4 features below 5%, because data is an important asset, the capping method will be used on outlier data."
   ]
  },
  {
   "cell_type": "code",
   "execution_count": 25,
   "id": "ca36839b",
   "metadata": {},
   "outputs": [],
   "source": [
    "# List save methods\n",
    "gaussian_cols = []\n",
    "iqr_cols = []\n",
    "\n",
    "# Looping to fill the method column\n",
    "for col in numerical_column:\n",
    "    skewness = X_train[col].skew()\n",
    "    if -0.5 <= skewness <= 0.5:\n",
    "        gaussian_cols.append(col)\n",
    "    else:\n",
    "        iqr_cols.append(col)\n",
    "\n",
    "# Capping for near normal features\n",
    "if gaussian_cols:\n",
    "    winsor_gauss = Winsorizer(capping_method='gaussian', tail='both', fold=3, variables=gaussian_cols, missing_values='ignore')\n",
    "    X_train = winsor_gauss.fit_transform(X_train)\n",
    "\n",
    "# Capping for skewed features\n",
    "if iqr_cols:\n",
    "    winsor_iqr = Winsorizer(capping_method='iqr', tail='both', fold=1.5, variables=iqr_cols, missing_values='ignore')\n",
    "    X_train = winsor_iqr.fit_transform(X_train)\n"
   ]
  },
  {
   "cell_type": "markdown",
   "id": "d60152ed",
   "metadata": {},
   "source": [
    "If the skewness approaches normal, it will be capped using the Z-score/Gaussian method, whereas if it is skewed, it will use Turkey's rule/IQR."
   ]
  },
  {
   "cell_type": "markdown",
   "id": "968b019a",
   "metadata": {},
   "source": [
    "## Handling Missing Value"
   ]
  },
  {
   "cell_type": "markdown",
   "id": "277b9128",
   "metadata": {},
   "source": [
    "Missing values ​​need to be handled and the cause investigated so that the model does not experience errors or mistakes in model interpretation."
   ]
  },
  {
   "cell_type": "code",
   "execution_count": 26,
   "id": "9432a725",
   "metadata": {},
   "outputs": [
    {
     "data": {
      "text/plain": [
       "Age                         0.0\n",
       "BusinessTravel              0.0\n",
       "DailyRate                   0.0\n",
       "Department                  0.0\n",
       "DistanceFromHome            0.0\n",
       "Education                   0.0\n",
       "EducationField              0.0\n",
       "EmployeeCount               0.0\n",
       "EmployeeNumber              0.0\n",
       "EnvironmentSatisfaction     0.0\n",
       "Gender                      0.0\n",
       "HourlyRate                  0.0\n",
       "JobInvolvement              0.0\n",
       "JobLevel                    0.0\n",
       "JobRole                     0.0\n",
       "JobSatisfaction             0.0\n",
       "MaritalStatus               0.0\n",
       "MonthlyIncome               0.0\n",
       "MonthlyRate                 0.0\n",
       "NumCompaniesWorked          0.0\n",
       "Over18                      0.0\n",
       "OverTime                    0.0\n",
       "PercentSalaryHike           0.0\n",
       "PerformanceRating           0.0\n",
       "RelationshipSatisfaction    0.0\n",
       "StandardHours               0.0\n",
       "StockOptionLevel            0.0\n",
       "TotalWorkingYears           0.0\n",
       "TrainingTimesLastYear       0.0\n",
       "WorkLifeBalance             0.0\n",
       "YearsAtCompany              0.0\n",
       "YearsInCurrentRole          0.0\n",
       "YearsSinceLastPromotion     0.0\n",
       "YearsWithCurrManager        0.0\n",
       "dtype: float64"
      ]
     },
     "execution_count": 26,
     "metadata": {},
     "output_type": "execute_result"
    }
   ],
   "source": [
    "# View the percentage of empty train data\n",
    "X_train.isnull().mean()*100"
   ]
  },
  {
   "cell_type": "code",
   "execution_count": 27,
   "id": "5206ee18",
   "metadata": {},
   "outputs": [
    {
     "data": {
      "text/plain": [
       "Age                         0.0\n",
       "BusinessTravel              0.0\n",
       "DailyRate                   0.0\n",
       "Department                  0.0\n",
       "DistanceFromHome            0.0\n",
       "Education                   0.0\n",
       "EducationField              0.0\n",
       "EmployeeCount               0.0\n",
       "EmployeeNumber              0.0\n",
       "EnvironmentSatisfaction     0.0\n",
       "Gender                      0.0\n",
       "HourlyRate                  0.0\n",
       "JobInvolvement              0.0\n",
       "JobLevel                    0.0\n",
       "JobRole                     0.0\n",
       "JobSatisfaction             0.0\n",
       "MaritalStatus               0.0\n",
       "MonthlyIncome               0.0\n",
       "MonthlyRate                 0.0\n",
       "NumCompaniesWorked          0.0\n",
       "Over18                      0.0\n",
       "OverTime                    0.0\n",
       "PercentSalaryHike           0.0\n",
       "PerformanceRating           0.0\n",
       "RelationshipSatisfaction    0.0\n",
       "StandardHours               0.0\n",
       "StockOptionLevel            0.0\n",
       "TotalWorkingYears           0.0\n",
       "TrainingTimesLastYear       0.0\n",
       "WorkLifeBalance             0.0\n",
       "YearsAtCompany              0.0\n",
       "YearsInCurrentRole          0.0\n",
       "YearsSinceLastPromotion     0.0\n",
       "YearsWithCurrManager        0.0\n",
       "dtype: float64"
      ]
     },
     "execution_count": 27,
     "metadata": {},
     "output_type": "execute_result"
    }
   ],
   "source": [
    "# View the percentage of empty test data\n",
    "X_test.isnull().mean()*100"
   ]
  },
  {
   "cell_type": "markdown",
   "id": "12a7d89b",
   "metadata": {},
   "source": [
    "Both train and test data did not find any empty data."
   ]
  },
  {
   "cell_type": "markdown",
   "id": "80768ba1",
   "metadata": {},
   "source": [
    "## Feature Selection"
   ]
  },
  {
   "cell_type": "markdown",
   "id": "7c76476e",
   "metadata": {},
   "source": [
    "Feature selection is the process of selecting the most relevant subset of data features from an existing dataset to be used in a machine learning model. Data that will not be used is data that is uncorrelated or considered uninformative."
   ]
  },
  {
   "cell_type": "markdown",
   "id": "d64bd71e",
   "metadata": {},
   "source": [
    "Unused feature selection:\n",
    "\n",
    "- MonthlyRate, Not correlated, cost rate can be represented by daily rate\n",
    "- HourlyRate, Not correlated, cost rate can be represented by daily rate\n",
    "- PerformanceRating, Not correlated, data only consists of 3-4 majority of high employee assessments, less varied in providing information\n",
    "- EmployeeCount, number of employees, not informative because there must be only 1 employee who has a unique id\n",
    "- Over18, Only adult employee administration only 'Y' data, not varied so it does not provide information\n",
    "- StandardHours, Working hours, not varied so it does not provide information\n",
    "- EmployeeNumber, unique participant id number is not informative and can mislead the model\n",
    "\n",
    "Uncorrelated feature selection that is maintained\n",
    "\n",
    "- NumCompaniesWorked, Not correlated, but will still be used because it affects other features such as Age, MonthlyIncome, TotalWorkingYears. - RelationshipSatisfaction, Not correlated, but will still be used because it describes satisfaction with coworkers.\n",
    "- Gender, Not correlated, but will still be used because it can describe equality analysis.\n",
    "- Education, Not correlated, but will still be used because education can impact career aspirations and expectations."
   ]
  },
  {
   "cell_type": "code",
   "execution_count": 28,
   "id": "c60f2bf3",
   "metadata": {},
   "outputs": [],
   "source": [
    "# Remove unused column features\n",
    "numerical_column.remove('MonthlyRate')\n",
    "numerical_column.remove('YearsInCurrentRole')\n",
    "numerical_column.remove('YearsSinceLastPromotion')\n",
    "numerical_column.remove('YearsWithCurrManager')\n",
    "numerical_column.remove('HourlyRate')\n",
    "ordinal_column.remove('PerformanceRating')\n",
    "\n",
    "# Create all the features that will be used\n",
    "categorical_column = ordinal_column + onehot_column\n",
    "selected_features = numerical_column + categorical_column\n",
    "\n",
    "# Filter features of train and test data\n",
    "X_train = X_train[selected_features]\n",
    "X_test = X_test[selected_features]"
   ]
  },
  {
   "cell_type": "code",
   "execution_count": 29,
   "id": "34914ef4",
   "metadata": {},
   "outputs": [
    {
     "name": "stdout",
     "output_type": "stream",
     "text": [
      "Categorical Column\n",
      "['BusinessTravel', 'Education', 'EnvironmentSatisfaction', 'JobInvolvement', 'JobLevel', 'JobSatisfaction', 'RelationshipSatisfaction', 'StockOptionLevel', 'WorkLifeBalance', 'Department', 'EducationField', 'Gender', 'JobRole', 'MaritalStatus', 'OverTime']\n",
      "Numerical Column\n",
      "['Age', 'DailyRate', 'DistanceFromHome', 'MonthlyIncome', 'NumCompaniesWorked', 'PercentSalaryHike', 'TotalWorkingYears', 'TrainingTimesLastYear', 'YearsAtCompany']\n"
     ]
    }
   ],
   "source": [
    "print(\"Categorical Column\")\n",
    "print(categorical_column)\n",
    "print(\"Numerical Column\")\n",
    "print(numerical_column)"
   ]
  },
  {
   "cell_type": "markdown",
   "id": "da6dff7f",
   "metadata": {},
   "source": [
    "## Transformation"
   ]
  },
  {
   "cell_type": "markdown",
   "id": "6433d31c",
   "metadata": {},
   "source": [
    "| Skewness Range       | Category                | Transformation Suggestions           | Note                                                                |\n",
    "| ----------------------- | ------------------------ | ---------------------------- | ---------------------------------------------------------------------- |\n",
    "| skewness < -1         | Very skew to the left      | cube root (np.cbrt)        | Cube root transformation is safe for negative values                        |\n",
    "| -1 ≤ skewness < -0.5  | Moderate skew to the left      | sqrt then times -1          | Not common, but can be tried if the model is sensitive                       |\n",
    "| -0.5 ≤ skewness ≤ 0.5 | Almost symmetrical / normal | No transformation needed | Distribution is quite normal, leave it as is                            |\n",
    "| 0.5 < skewness ≤ 1    | Medium skew to the right     | sqrt (np.sqrt)             | Fairly soft, suitable for light skew                                  |\n",
    "| 1 < skewness ≤ 2      | High skew to the right     | log (np.log1p)             | Logs are very effective for suppressing long right tails                    |\n",
    "| skewness > 2          | Very skew to the right     | cube root (np.cbrt)        | Cube root can stabilize very high values and remain safe for 0 |\n"
   ]
  },
  {
   "cell_type": "code",
   "execution_count": null,
   "id": "6dd35acd",
   "metadata": {},
   "outputs": [
    {
     "data": {
      "text/html": [
       "<div>\n",
       "<style scoped>\n",
       "    .dataframe tbody tr th:only-of-type {\n",
       "        vertical-align: middle;\n",
       "    }\n",
       "\n",
       "    .dataframe tbody tr th {\n",
       "        vertical-align: top;\n",
       "    }\n",
       "\n",
       "    .dataframe thead th {\n",
       "        text-align: right;\n",
       "    }\n",
       "</style>\n",
       "<table border=\"1\" class=\"dataframe\">\n",
       "  <thead>\n",
       "    <tr style=\"text-align: right;\">\n",
       "      <th></th>\n",
       "      <th>column</th>\n",
       "      <th>transform_function</th>\n",
       "    </tr>\n",
       "  </thead>\n",
       "  <tbody>\n",
       "    <tr>\n",
       "      <th>0</th>\n",
       "      <td>Age</td>\n",
       "      <td>normal</td>\n",
       "    </tr>\n",
       "    <tr>\n",
       "      <th>1</th>\n",
       "      <td>DailyRate</td>\n",
       "      <td>normal</td>\n",
       "    </tr>\n",
       "    <tr>\n",
       "      <th>2</th>\n",
       "      <td>DistanceFromHome</td>\n",
       "      <td>sqrt</td>\n",
       "    </tr>\n",
       "    <tr>\n",
       "      <th>3</th>\n",
       "      <td>MonthlyIncome</td>\n",
       "      <td>log1p</td>\n",
       "    </tr>\n",
       "    <tr>\n",
       "      <th>4</th>\n",
       "      <td>NumCompaniesWorked</td>\n",
       "      <td>sqrt</td>\n",
       "    </tr>\n",
       "    <tr>\n",
       "      <th>5</th>\n",
       "      <td>PercentSalaryHike</td>\n",
       "      <td>sqrt</td>\n",
       "    </tr>\n",
       "    <tr>\n",
       "      <th>6</th>\n",
       "      <td>TotalWorkingYears</td>\n",
       "      <td>sqrt</td>\n",
       "    </tr>\n",
       "    <tr>\n",
       "      <th>7</th>\n",
       "      <td>TrainingTimesLastYear</td>\n",
       "      <td>normal</td>\n",
       "    </tr>\n",
       "    <tr>\n",
       "      <th>8</th>\n",
       "      <td>YearsAtCompany</td>\n",
       "      <td>sqrt</td>\n",
       "    </tr>\n",
       "  </tbody>\n",
       "</table>\n",
       "</div>"
      ],
      "text/plain": [
       "                  column transform_function\n",
       "0                    Age             normal\n",
       "1              DailyRate             normal\n",
       "2       DistanceFromHome               sqrt\n",
       "3          MonthlyIncome              log1p\n",
       "4     NumCompaniesWorked               sqrt\n",
       "5      PercentSalaryHike               sqrt\n",
       "6      TotalWorkingYears               sqrt\n",
       "7  TrainingTimesLastYear             normal\n",
       "8         YearsAtCompany               sqrt"
      ]
     },
     "metadata": {},
     "output_type": "display_data"
    }
   ],
   "source": [
    "# Save transformation function per column based on training\n",
    "transform_funcs = {}\n",
    "\n",
    "for col in numerical_column:\n",
    "    skew = X_train[col].skew()\n",
    "    \n",
    "    if skew < -1:\n",
    "        func = \"cbrt\"\n",
    "    elif -1 <= skew <= -0.5:\n",
    "        func =\"-1 * np.sqrt\"\n",
    "    elif 0.5 <= skew <= 1:\n",
    "        func = \"sqrt\"\n",
    "    elif 1 < skew <= 2:\n",
    "        func = \"log1p\"\n",
    "    elif skew > 2:\n",
    "        func = \"cbrt\"\n",
    "    else:\n",
    "        func = \"normal\"\n",
    "    \n",
    "    # Save function to dict\n",
    "    transform_funcs[col] = func\n",
    "    \n",
    "# Create a DataFrame with the function name\n",
    "df_transform = pd.DataFrame({\n",
    "    'column': list(transform_funcs.keys()),\n",
    "    'transform_function': transform_funcs.values()\n",
    "})\n",
    "display(df_transform)"
   ]
  },
  {
   "cell_type": "markdown",
   "id": "cc4e4018",
   "metadata": {},
   "source": [
    "**Analys:** The majority of columns are in the skewness range of 0.5-1"
   ]
  },
  {
   "cell_type": "code",
   "execution_count": null,
   "id": "32352dcc",
   "metadata": {},
   "outputs": [],
   "source": [
    "class SkewTransformer(BaseEstimator, TransformerMixin):\n",
    "    \"\"\"\n",
    "    Transform numerical columns based on skewness measured at fit time.\n",
    "    \n",
    "    transform_map_: dict column -> str code in {'identity','sqrt','neg_sqrt','log1p','cbrt'}\n",
    "    \"\"\"\n",
    "    def __init__(self, clip_negative=True):\n",
    "        \"\"\" Clip negativ prevent null data \"\"\"\n",
    "        self.clip_negative = clip_negative \n",
    "\n",
    "    def _decide_rule(self, skew):\n",
    "        \"\"\"Give skewness series\"\"\"\n",
    "        if skew < -1:\n",
    "            return 'cbrt'\n",
    "        elif -1 <= skew < -0.5:\n",
    "            return 'neg_sqrt'\n",
    "        elif 0.5 < skew <= 1:\n",
    "            return 'sqrt'\n",
    "        elif 1 < skew <= 2:\n",
    "            return 'log1p'\n",
    "        elif skew > 2:\n",
    "            return 'cbrt'\n",
    "        else:\n",
    "            return 'identity'\n",
    "    \n",
    "    def fit(self, X, y=None):\n",
    "        \"\"\"Get datafram column and skewness\"\"\"\n",
    "        # Check dataframe or array\n",
    "        if isinstance(X, np.ndarray):\n",
    "            X = pd.DataFrame(X)\n",
    "            \n",
    "        # Get column\n",
    "        self.columns_ = X.columns if hasattr(X, \"columns\") else np.arange(X.shape[1])\n",
    "        \n",
    "        # Make dataframe column and skew\n",
    "        self.transform_map_ = {}\n",
    "        \n",
    "        # Looping for fill transform_map_ \n",
    "        for col in self.columns_:\n",
    "            skew = pd.Series(X[col]).skew()\n",
    "            self.transform_map_[col] = self._decide_rule(skew)\n",
    "        return self\n",
    "    \n",
    "    def _apply_rule(self, s, rule):\n",
    "        \"\"\"Form rule clip not negative and return transformation\"\"\"\n",
    "        if rule == 'identity':\n",
    "            return s\n",
    "        elif rule == 'sqrt':\n",
    "            if self.clip_negative:\n",
    "                s = np.clip(s, 0, None)\n",
    "            return np.sqrt(s)\n",
    "        elif rule == 'neg_sqrt':\n",
    "            if self.clip_negative:\n",
    "                s = np.clip(s, 0, None)\n",
    "            return -np.sqrt(s)\n",
    "        elif rule == 'log1p':\n",
    "            if self.clip_negative:\n",
    "                s = np.clip(s, 0, None)\n",
    "            return np.log1p(s)\n",
    "        elif rule == 'cbrt':\n",
    "            return np.cbrt(s)\n",
    "        else:\n",
    "            return s\n",
    "    \n",
    "    def transform(self, X):\n",
    "        \"\"\"Tranformation base on skew\"\"\"\n",
    "        # Check datafreame or array\n",
    "        is_df = hasattr(X, \"columns\")\n",
    "        if not is_df:\n",
    "            X = pd.DataFrame(X, columns=self.columns_)\n",
    "        X_out = X.copy()\n",
    "        \n",
    "        # Looping to apply rule\n",
    "        for col in self.columns_:\n",
    "            rule = self.transform_map_.get(col, 'identity')\n",
    "            X_out[col] = self._apply_rule(X_out[col], rule)\n",
    "        return X_out if is_df else X_out.values"
   ]
  },
  {
   "cell_type": "markdown",
   "id": "72924abe",
   "metadata": {},
   "source": [
    "## Scaling"
   ]
  },
  {
   "cell_type": "markdown",
   "id": "84a970d2",
   "metadata": {},
   "source": [
    "Scaling/normalization is the process of equalizing the scale of features."
   ]
  },
  {
   "cell_type": "code",
   "execution_count": 32,
   "id": "40b7aad3",
   "metadata": {},
   "outputs": [
    {
     "data": {
      "text/plain": [
       "['Age', 'DailyRate', 'HourlyRate', 'MonthlyRate']"
      ]
     },
     "execution_count": 32,
     "metadata": {},
     "output_type": "execute_result"
    }
   ],
   "source": [
    "# columns are distributed approximately normally\n",
    "gaussian_cols"
   ]
  },
  {
   "cell_type": "code",
   "execution_count": 33,
   "id": "e5f76e5c",
   "metadata": {},
   "outputs": [
    {
     "data": {
      "text/plain": [
       "['DistanceFromHome',\n",
       " 'MonthlyIncome',\n",
       " 'NumCompaniesWorked',\n",
       " 'PercentSalaryHike',\n",
       " 'TotalWorkingYears',\n",
       " 'TrainingTimesLastYear',\n",
       " 'YearsAtCompany',\n",
       " 'YearsInCurrentRole',\n",
       " 'YearsSinceLastPromotion',\n",
       " 'YearsWithCurrManager']"
      ]
     },
     "execution_count": 33,
     "metadata": {},
     "output_type": "execute_result"
    }
   ],
   "source": [
    "# Skewed distributed columns\n",
    "iqr_cols"
   ]
  },
  {
   "cell_type": "markdown",
   "id": "b8811188",
   "metadata": {},
   "source": [
    "Because much of the data is distributed skewed, we use MinMaxScaler because it is sensitive to absolute distance, compared to StandardScaler which is based on linear distance distribution."
   ]
  },
  {
   "cell_type": "code",
   "execution_count": 34,
   "id": "a52600a8",
   "metadata": {},
   "outputs": [],
   "source": [
    "# Save MinMaxScaler method\n",
    "scale = MinMaxScaler()"
   ]
  },
  {
   "cell_type": "markdown",
   "id": "b0fbc88b",
   "metadata": {},
   "source": [
    "## Handling Data Imbalance"
   ]
  },
  {
   "cell_type": "markdown",
   "id": "c41c3a86",
   "metadata": {},
   "source": [
    "Data imbalance needs to be handled so that the machine does not memorize data patterns from the majority of labels.\n",
    "\n",
    "| Degree of imbalance | Proportion of Minority Class |\n",
    "| --- | --- |\n",
    "| Mild | 20-40% of the data set |\n",
    "| Moderate | 1-20% of the data set |\n",
    "| Extreme | < 1% of the data set |\n"
   ]
  },
  {
   "cell_type": "code",
   "execution_count": 35,
   "id": "51ed1114",
   "metadata": {},
   "outputs": [
    {
     "name": "stdout",
     "output_type": "stream",
     "text": [
      "Amount yes :189, percentage 16.071428571428573%\n",
      "Amount no :987, percentage 83.92857142857143%\n"
     ]
    }
   ],
   "source": [
    "# Calculating the proportion of labels\n",
    "attraction_yes = y_train[y_train == 1].count()\n",
    "attraction_no = y_train[y_train == 0].count()\n",
    "print(f'Amount yes :{attraction_yes}, percentage {(attraction_yes/(y_train.count()))*100}%')\n",
    "print(f'Amount no :{attraction_no}, percentage {(attraction_no/(y_train.count()))*100}%')"
   ]
  },
  {
   "cell_type": "markdown",
   "id": "5a7c5c34",
   "metadata": {},
   "source": [
    "Here the minority only has 16% of the data, including moderate, so it is necessary to handle the imbalance."
   ]
  },
  {
   "cell_type": "code",
   "execution_count": 36,
   "id": "09533ab9",
   "metadata": {},
   "outputs": [],
   "source": [
    "# Store column index so that the order is correct in somtenc\n",
    "ordinal_index = []\n",
    "onehot_index = []\n",
    "numerical_index = []\n",
    "X_train_column = list(X_train.columns)\n",
    "\n",
    "# Lopping fills the index column\n",
    "for col in X_train_column:\n",
    "    if col in ordinal_column:\n",
    "        ordinal_index.append(X_train.columns.get_loc(col))\n",
    "    elif col in onehot_column:\n",
    "        onehot_index.append(X_train.columns.get_loc(col))\n",
    "    else:\n",
    "        numerical_index.append(X_train.columns.get_loc(col))\n",
    "\n",
    "# Final index of categorical column according to position in X_train\n",
    "categorical_index = ordinal_index + onehot_index"
   ]
  },
  {
   "cell_type": "markdown",
   "id": "a3f9c41d",
   "metadata": {},
   "source": [
    "This is important to know the appropriate data index in X_train"
   ]
  },
  {
   "cell_type": "code",
   "execution_count": 37,
   "id": "8d6934d2",
   "metadata": {},
   "outputs": [],
   "source": [
    "# Save smotenc variable\n",
    "smotenc = SMOTENC(categorical_features=categorical_index, random_state=9)"
   ]
  },
  {
   "cell_type": "markdown",
   "id": "b34d586c",
   "metadata": {},
   "source": [
    "## Encoding"
   ]
  },
  {
   "cell_type": "markdown",
   "id": "a34cad45",
   "metadata": {},
   "source": [
    "Since we already know the type of column to be encoded, here we will only declare the method. Ordinal encoding is used for data that has levels or sequences, while onehot encoding is used for equivalent data."
   ]
  },
  {
   "cell_type": "code",
   "execution_count": 38,
   "id": "90aaf12b",
   "metadata": {},
   "outputs": [],
   "source": [
    "# Declare method to variable\n",
    "ordinal_encoder = OrdinalEncoder()\n",
    "onehot_encoder = OneHotEncoder(handle_unknown='ignore')"
   ]
  },
  {
   "cell_type": "markdown",
   "id": "0ebe5b5b",
   "metadata": {},
   "source": [
    "## Transformer"
   ]
  },
  {
   "cell_type": "markdown",
   "id": "e0816655",
   "metadata": {},
   "source": [
    "Transformer or preprocessing process is useful for storing scaler methods, encoding, or other methods that change data types. For model selection, the outlier handle will be outside the transformer because it is done manually for deeper analysis."
   ]
  },
  {
   "cell_type": "code",
   "execution_count": 39,
   "id": "ba1415ca",
   "metadata": {},
   "outputs": [],
   "source": [
    "numerical_pipeline = ImbPipeline([\n",
    "    ('skew', SkewTransformer()),\n",
    "    ('scaler', scale)\n",
    "])"
   ]
  },
  {
   "cell_type": "code",
   "execution_count": 40,
   "id": "a889748c",
   "metadata": {},
   "outputs": [],
   "source": [
    "# Transform\n",
    "preproses = ColumnTransformer(transformers=[\n",
    "    ('num', numerical_pipeline, numerical_column),\n",
    "    ('ordinal', ordinal_encoder, ordinal_column),\n",
    "    ('onehot', onehot_encoder, onehot_column)\n",
    "], remainder='drop')"
   ]
  },
  {
   "cell_type": "markdown",
   "id": "bf5f9288",
   "metadata": {},
   "source": [
    "Here, use remainder='drop' to delete features that exist but are not used in the preprocessing that has been selected."
   ]
  },
  {
   "cell_type": "markdown",
   "id": "9d5a8384",
   "metadata": {},
   "source": [
    "# VI. Modeling Definition"
   ]
  },
  {
   "cell_type": "markdown",
   "id": "d261677f",
   "metadata": {},
   "source": [
    "Create a base model to validate the recall score"
   ]
  },
  {
   "cell_type": "code",
   "execution_count": 41,
   "id": "fc442d07",
   "metadata": {},
   "outputs": [],
   "source": [
    "# Dictionary contains the models used\n",
    "models = {\n",
    "    'logreg': LogisticRegression(),\n",
    "    'knn': KNeighborsClassifier(),\n",
    "    'rf': RandomForestClassifier(),\n",
    "    'svm': SVC(probability=True),\n",
    "    'tree': DecisionTreeClassifier(),\n",
    "    'gradient': GradientBoostingClassifier(),\n",
    "    'adaboost' : AdaBoostClassifier(),\n",
    "    'hist' : HistGradientBoostingClassifier()\n",
    "    }"
   ]
  },
  {
   "cell_type": "markdown",
   "id": "1611bcc6",
   "metadata": {},
   "source": [
    "### Finding the Best Model With Cross Validation"
   ]
  },
  {
   "cell_type": "markdown",
   "id": "8aa9b7c8",
   "metadata": {},
   "source": [
    "Score recall is chosen because the main focus is to find false negatives, or find the scores of all employees who actually leave, how many are detected?"
   ]
  },
  {
   "cell_type": "code",
   "execution_count": 42,
   "id": "33bdf29f",
   "metadata": {},
   "outputs": [
    {
     "name": "stderr",
     "output_type": "stream",
     "text": [
      "c:\\Users\\THINKPAD\\anaconda3\\envs\\h8_env\\lib\\site-packages\\sklearn\\base.py:484: FutureWarning: `BaseEstimator._check_n_features` is deprecated in 1.6 and will be removed in 1.7. Use `sklearn.utils.validation._check_n_features` instead.\n",
      "  warnings.warn(\n",
      "c:\\Users\\THINKPAD\\anaconda3\\envs\\h8_env\\lib\\site-packages\\sklearn\\base.py:493: FutureWarning: `BaseEstimator._check_feature_names` is deprecated in 1.6 and will be removed in 1.7. Use `sklearn.utils.validation._check_feature_names` instead.\n",
      "  warnings.warn(\n",
      "c:\\Users\\THINKPAD\\anaconda3\\envs\\h8_env\\lib\\site-packages\\sklearn\\base.py:484: FutureWarning: `BaseEstimator._check_n_features` is deprecated in 1.6 and will be removed in 1.7. Use `sklearn.utils.validation._check_n_features` instead.\n",
      "  warnings.warn(\n",
      "c:\\Users\\THINKPAD\\anaconda3\\envs\\h8_env\\lib\\site-packages\\sklearn\\base.py:493: FutureWarning: `BaseEstimator._check_feature_names` is deprecated in 1.6 and will be removed in 1.7. Use `sklearn.utils.validation._check_feature_names` instead.\n",
      "  warnings.warn(\n",
      "c:\\Users\\THINKPAD\\anaconda3\\envs\\h8_env\\lib\\site-packages\\sklearn\\base.py:484: FutureWarning: `BaseEstimator._check_n_features` is deprecated in 1.6 and will be removed in 1.7. Use `sklearn.utils.validation._check_n_features` instead.\n",
      "  warnings.warn(\n",
      "c:\\Users\\THINKPAD\\anaconda3\\envs\\h8_env\\lib\\site-packages\\sklearn\\base.py:493: FutureWarning: `BaseEstimator._check_feature_names` is deprecated in 1.6 and will be removed in 1.7. Use `sklearn.utils.validation._check_feature_names` instead.\n",
      "  warnings.warn(\n",
      "c:\\Users\\THINKPAD\\anaconda3\\envs\\h8_env\\lib\\site-packages\\sklearn\\linear_model\\_logistic.py:465: ConvergenceWarning: lbfgs failed to converge (status=1):\n",
      "STOP: TOTAL NO. of ITERATIONS REACHED LIMIT.\n",
      "\n",
      "Increase the number of iterations (max_iter) or scale the data as shown in:\n",
      "    https://scikit-learn.org/stable/modules/preprocessing.html\n",
      "Please also refer to the documentation for alternative solver options:\n",
      "    https://scikit-learn.org/stable/modules/linear_model.html#logistic-regression\n",
      "  n_iter_i = _check_optimize_result(\n",
      "c:\\Users\\THINKPAD\\anaconda3\\envs\\h8_env\\lib\\site-packages\\sklearn\\base.py:484: FutureWarning: `BaseEstimator._check_n_features` is deprecated in 1.6 and will be removed in 1.7. Use `sklearn.utils.validation._check_n_features` instead.\n",
      "  warnings.warn(\n",
      "c:\\Users\\THINKPAD\\anaconda3\\envs\\h8_env\\lib\\site-packages\\sklearn\\base.py:493: FutureWarning: `BaseEstimator._check_feature_names` is deprecated in 1.6 and will be removed in 1.7. Use `sklearn.utils.validation._check_feature_names` instead.\n",
      "  warnings.warn(\n",
      "c:\\Users\\THINKPAD\\anaconda3\\envs\\h8_env\\lib\\site-packages\\sklearn\\base.py:484: FutureWarning: `BaseEstimator._check_n_features` is deprecated in 1.6 and will be removed in 1.7. Use `sklearn.utils.validation._check_n_features` instead.\n",
      "  warnings.warn(\n",
      "c:\\Users\\THINKPAD\\anaconda3\\envs\\h8_env\\lib\\site-packages\\sklearn\\base.py:493: FutureWarning: `BaseEstimator._check_feature_names` is deprecated in 1.6 and will be removed in 1.7. Use `sklearn.utils.validation._check_feature_names` instead.\n",
      "  warnings.warn(\n",
      "c:\\Users\\THINKPAD\\anaconda3\\envs\\h8_env\\lib\\site-packages\\sklearn\\base.py:484: FutureWarning: `BaseEstimator._check_n_features` is deprecated in 1.6 and will be removed in 1.7. Use `sklearn.utils.validation._check_n_features` instead.\n",
      "  warnings.warn(\n",
      "c:\\Users\\THINKPAD\\anaconda3\\envs\\h8_env\\lib\\site-packages\\sklearn\\base.py:493: FutureWarning: `BaseEstimator._check_feature_names` is deprecated in 1.6 and will be removed in 1.7. Use `sklearn.utils.validation._check_feature_names` instead.\n",
      "  warnings.warn(\n",
      "c:\\Users\\THINKPAD\\anaconda3\\envs\\h8_env\\lib\\site-packages\\sklearn\\base.py:484: FutureWarning: `BaseEstimator._check_n_features` is deprecated in 1.6 and will be removed in 1.7. Use `sklearn.utils.validation._check_n_features` instead.\n",
      "  warnings.warn(\n",
      "c:\\Users\\THINKPAD\\anaconda3\\envs\\h8_env\\lib\\site-packages\\sklearn\\base.py:493: FutureWarning: `BaseEstimator._check_feature_names` is deprecated in 1.6 and will be removed in 1.7. Use `sklearn.utils.validation._check_feature_names` instead.\n",
      "  warnings.warn(\n",
      "c:\\Users\\THINKPAD\\anaconda3\\envs\\h8_env\\lib\\site-packages\\sklearn\\base.py:484: FutureWarning: `BaseEstimator._check_n_features` is deprecated in 1.6 and will be removed in 1.7. Use `sklearn.utils.validation._check_n_features` instead.\n",
      "  warnings.warn(\n",
      "c:\\Users\\THINKPAD\\anaconda3\\envs\\h8_env\\lib\\site-packages\\sklearn\\base.py:493: FutureWarning: `BaseEstimator._check_feature_names` is deprecated in 1.6 and will be removed in 1.7. Use `sklearn.utils.validation._check_feature_names` instead.\n",
      "  warnings.warn(\n",
      "c:\\Users\\THINKPAD\\anaconda3\\envs\\h8_env\\lib\\site-packages\\sklearn\\base.py:484: FutureWarning: `BaseEstimator._check_n_features` is deprecated in 1.6 and will be removed in 1.7. Use `sklearn.utils.validation._check_n_features` instead.\n",
      "  warnings.warn(\n",
      "c:\\Users\\THINKPAD\\anaconda3\\envs\\h8_env\\lib\\site-packages\\sklearn\\base.py:493: FutureWarning: `BaseEstimator._check_feature_names` is deprecated in 1.6 and will be removed in 1.7. Use `sklearn.utils.validation._check_feature_names` instead.\n",
      "  warnings.warn(\n",
      "c:\\Users\\THINKPAD\\anaconda3\\envs\\h8_env\\lib\\site-packages\\sklearn\\base.py:484: FutureWarning: `BaseEstimator._check_n_features` is deprecated in 1.6 and will be removed in 1.7. Use `sklearn.utils.validation._check_n_features` instead.\n",
      "  warnings.warn(\n",
      "c:\\Users\\THINKPAD\\anaconda3\\envs\\h8_env\\lib\\site-packages\\sklearn\\base.py:493: FutureWarning: `BaseEstimator._check_feature_names` is deprecated in 1.6 and will be removed in 1.7. Use `sklearn.utils.validation._check_feature_names` instead.\n",
      "  warnings.warn(\n",
      "c:\\Users\\THINKPAD\\anaconda3\\envs\\h8_env\\lib\\site-packages\\sklearn\\base.py:484: FutureWarning: `BaseEstimator._check_n_features` is deprecated in 1.6 and will be removed in 1.7. Use `sklearn.utils.validation._check_n_features` instead.\n",
      "  warnings.warn(\n",
      "c:\\Users\\THINKPAD\\anaconda3\\envs\\h8_env\\lib\\site-packages\\sklearn\\base.py:493: FutureWarning: `BaseEstimator._check_feature_names` is deprecated in 1.6 and will be removed in 1.7. Use `sklearn.utils.validation._check_feature_names` instead.\n",
      "  warnings.warn(\n",
      "c:\\Users\\THINKPAD\\anaconda3\\envs\\h8_env\\lib\\site-packages\\sklearn\\base.py:484: FutureWarning: `BaseEstimator._check_n_features` is deprecated in 1.6 and will be removed in 1.7. Use `sklearn.utils.validation._check_n_features` instead.\n",
      "  warnings.warn(\n",
      "c:\\Users\\THINKPAD\\anaconda3\\envs\\h8_env\\lib\\site-packages\\sklearn\\base.py:493: FutureWarning: `BaseEstimator._check_feature_names` is deprecated in 1.6 and will be removed in 1.7. Use `sklearn.utils.validation._check_feature_names` instead.\n",
      "  warnings.warn(\n",
      "c:\\Users\\THINKPAD\\anaconda3\\envs\\h8_env\\lib\\site-packages\\sklearn\\base.py:484: FutureWarning: `BaseEstimator._check_n_features` is deprecated in 1.6 and will be removed in 1.7. Use `sklearn.utils.validation._check_n_features` instead.\n",
      "  warnings.warn(\n",
      "c:\\Users\\THINKPAD\\anaconda3\\envs\\h8_env\\lib\\site-packages\\sklearn\\base.py:493: FutureWarning: `BaseEstimator._check_feature_names` is deprecated in 1.6 and will be removed in 1.7. Use `sklearn.utils.validation._check_feature_names` instead.\n",
      "  warnings.warn(\n",
      "c:\\Users\\THINKPAD\\anaconda3\\envs\\h8_env\\lib\\site-packages\\sklearn\\base.py:484: FutureWarning: `BaseEstimator._check_n_features` is deprecated in 1.6 and will be removed in 1.7. Use `sklearn.utils.validation._check_n_features` instead.\n",
      "  warnings.warn(\n",
      "c:\\Users\\THINKPAD\\anaconda3\\envs\\h8_env\\lib\\site-packages\\sklearn\\base.py:493: FutureWarning: `BaseEstimator._check_feature_names` is deprecated in 1.6 and will be removed in 1.7. Use `sklearn.utils.validation._check_feature_names` instead.\n",
      "  warnings.warn(\n",
      "c:\\Users\\THINKPAD\\anaconda3\\envs\\h8_env\\lib\\site-packages\\sklearn\\base.py:484: FutureWarning: `BaseEstimator._check_n_features` is deprecated in 1.6 and will be removed in 1.7. Use `sklearn.utils.validation._check_n_features` instead.\n",
      "  warnings.warn(\n",
      "c:\\Users\\THINKPAD\\anaconda3\\envs\\h8_env\\lib\\site-packages\\sklearn\\base.py:493: FutureWarning: `BaseEstimator._check_feature_names` is deprecated in 1.6 and will be removed in 1.7. Use `sklearn.utils.validation._check_feature_names` instead.\n",
      "  warnings.warn(\n",
      "c:\\Users\\THINKPAD\\anaconda3\\envs\\h8_env\\lib\\site-packages\\sklearn\\base.py:484: FutureWarning: `BaseEstimator._check_n_features` is deprecated in 1.6 and will be removed in 1.7. Use `sklearn.utils.validation._check_n_features` instead.\n",
      "  warnings.warn(\n",
      "c:\\Users\\THINKPAD\\anaconda3\\envs\\h8_env\\lib\\site-packages\\sklearn\\base.py:493: FutureWarning: `BaseEstimator._check_feature_names` is deprecated in 1.6 and will be removed in 1.7. Use `sklearn.utils.validation._check_feature_names` instead.\n",
      "  warnings.warn(\n",
      "c:\\Users\\THINKPAD\\anaconda3\\envs\\h8_env\\lib\\site-packages\\sklearn\\base.py:484: FutureWarning: `BaseEstimator._check_n_features` is deprecated in 1.6 and will be removed in 1.7. Use `sklearn.utils.validation._check_n_features` instead.\n",
      "  warnings.warn(\n",
      "c:\\Users\\THINKPAD\\anaconda3\\envs\\h8_env\\lib\\site-packages\\sklearn\\base.py:493: FutureWarning: `BaseEstimator._check_feature_names` is deprecated in 1.6 and will be removed in 1.7. Use `sklearn.utils.validation._check_feature_names` instead.\n",
      "  warnings.warn(\n",
      "c:\\Users\\THINKPAD\\anaconda3\\envs\\h8_env\\lib\\site-packages\\sklearn\\base.py:484: FutureWarning: `BaseEstimator._check_n_features` is deprecated in 1.6 and will be removed in 1.7. Use `sklearn.utils.validation._check_n_features` instead.\n",
      "  warnings.warn(\n",
      "c:\\Users\\THINKPAD\\anaconda3\\envs\\h8_env\\lib\\site-packages\\sklearn\\base.py:493: FutureWarning: `BaseEstimator._check_feature_names` is deprecated in 1.6 and will be removed in 1.7. Use `sklearn.utils.validation._check_feature_names` instead.\n",
      "  warnings.warn(\n",
      "c:\\Users\\THINKPAD\\anaconda3\\envs\\h8_env\\lib\\site-packages\\sklearn\\base.py:484: FutureWarning: `BaseEstimator._check_n_features` is deprecated in 1.6 and will be removed in 1.7. Use `sklearn.utils.validation._check_n_features` instead.\n",
      "  warnings.warn(\n",
      "c:\\Users\\THINKPAD\\anaconda3\\envs\\h8_env\\lib\\site-packages\\sklearn\\base.py:493: FutureWarning: `BaseEstimator._check_feature_names` is deprecated in 1.6 and will be removed in 1.7. Use `sklearn.utils.validation._check_feature_names` instead.\n",
      "  warnings.warn(\n",
      "c:\\Users\\THINKPAD\\anaconda3\\envs\\h8_env\\lib\\site-packages\\sklearn\\base.py:484: FutureWarning: `BaseEstimator._check_n_features` is deprecated in 1.6 and will be removed in 1.7. Use `sklearn.utils.validation._check_n_features` instead.\n",
      "  warnings.warn(\n",
      "c:\\Users\\THINKPAD\\anaconda3\\envs\\h8_env\\lib\\site-packages\\sklearn\\base.py:493: FutureWarning: `BaseEstimator._check_feature_names` is deprecated in 1.6 and will be removed in 1.7. Use `sklearn.utils.validation._check_feature_names` instead.\n",
      "  warnings.warn(\n",
      "c:\\Users\\THINKPAD\\anaconda3\\envs\\h8_env\\lib\\site-packages\\sklearn\\base.py:484: FutureWarning: `BaseEstimator._check_n_features` is deprecated in 1.6 and will be removed in 1.7. Use `sklearn.utils.validation._check_n_features` instead.\n",
      "  warnings.warn(\n",
      "c:\\Users\\THINKPAD\\anaconda3\\envs\\h8_env\\lib\\site-packages\\sklearn\\base.py:493: FutureWarning: `BaseEstimator._check_feature_names` is deprecated in 1.6 and will be removed in 1.7. Use `sklearn.utils.validation._check_feature_names` instead.\n",
      "  warnings.warn(\n",
      "c:\\Users\\THINKPAD\\anaconda3\\envs\\h8_env\\lib\\site-packages\\sklearn\\base.py:484: FutureWarning: `BaseEstimator._check_n_features` is deprecated in 1.6 and will be removed in 1.7. Use `sklearn.utils.validation._check_n_features` instead.\n",
      "  warnings.warn(\n",
      "c:\\Users\\THINKPAD\\anaconda3\\envs\\h8_env\\lib\\site-packages\\sklearn\\base.py:493: FutureWarning: `BaseEstimator._check_feature_names` is deprecated in 1.6 and will be removed in 1.7. Use `sklearn.utils.validation._check_feature_names` instead.\n",
      "  warnings.warn(\n",
      "c:\\Users\\THINKPAD\\anaconda3\\envs\\h8_env\\lib\\site-packages\\sklearn\\base.py:484: FutureWarning: `BaseEstimator._check_n_features` is deprecated in 1.6 and will be removed in 1.7. Use `sklearn.utils.validation._check_n_features` instead.\n",
      "  warnings.warn(\n",
      "c:\\Users\\THINKPAD\\anaconda3\\envs\\h8_env\\lib\\site-packages\\sklearn\\base.py:493: FutureWarning: `BaseEstimator._check_feature_names` is deprecated in 1.6 and will be removed in 1.7. Use `sklearn.utils.validation._check_feature_names` instead.\n",
      "  warnings.warn(\n",
      "c:\\Users\\THINKPAD\\anaconda3\\envs\\h8_env\\lib\\site-packages\\sklearn\\base.py:484: FutureWarning: `BaseEstimator._check_n_features` is deprecated in 1.6 and will be removed in 1.7. Use `sklearn.utils.validation._check_n_features` instead.\n",
      "  warnings.warn(\n",
      "c:\\Users\\THINKPAD\\anaconda3\\envs\\h8_env\\lib\\site-packages\\sklearn\\base.py:493: FutureWarning: `BaseEstimator._check_feature_names` is deprecated in 1.6 and will be removed in 1.7. Use `sklearn.utils.validation._check_feature_names` instead.\n",
      "  warnings.warn(\n",
      "c:\\Users\\THINKPAD\\anaconda3\\envs\\h8_env\\lib\\site-packages\\sklearn\\base.py:484: FutureWarning: `BaseEstimator._check_n_features` is deprecated in 1.6 and will be removed in 1.7. Use `sklearn.utils.validation._check_n_features` instead.\n",
      "  warnings.warn(\n",
      "c:\\Users\\THINKPAD\\anaconda3\\envs\\h8_env\\lib\\site-packages\\sklearn\\base.py:493: FutureWarning: `BaseEstimator._check_feature_names` is deprecated in 1.6 and will be removed in 1.7. Use `sklearn.utils.validation._check_feature_names` instead.\n",
      "  warnings.warn(\n",
      "c:\\Users\\THINKPAD\\anaconda3\\envs\\h8_env\\lib\\site-packages\\sklearn\\base.py:484: FutureWarning: `BaseEstimator._check_n_features` is deprecated in 1.6 and will be removed in 1.7. Use `sklearn.utils.validation._check_n_features` instead.\n",
      "  warnings.warn(\n",
      "c:\\Users\\THINKPAD\\anaconda3\\envs\\h8_env\\lib\\site-packages\\sklearn\\base.py:493: FutureWarning: `BaseEstimator._check_feature_names` is deprecated in 1.6 and will be removed in 1.7. Use `sklearn.utils.validation._check_feature_names` instead.\n",
      "  warnings.warn(\n",
      "c:\\Users\\THINKPAD\\anaconda3\\envs\\h8_env\\lib\\site-packages\\sklearn\\base.py:484: FutureWarning: `BaseEstimator._check_n_features` is deprecated in 1.6 and will be removed in 1.7. Use `sklearn.utils.validation._check_n_features` instead.\n",
      "  warnings.warn(\n",
      "c:\\Users\\THINKPAD\\anaconda3\\envs\\h8_env\\lib\\site-packages\\sklearn\\base.py:493: FutureWarning: `BaseEstimator._check_feature_names` is deprecated in 1.6 and will be removed in 1.7. Use `sklearn.utils.validation._check_feature_names` instead.\n",
      "  warnings.warn(\n",
      "c:\\Users\\THINKPAD\\anaconda3\\envs\\h8_env\\lib\\site-packages\\sklearn\\base.py:484: FutureWarning: `BaseEstimator._check_n_features` is deprecated in 1.6 and will be removed in 1.7. Use `sklearn.utils.validation._check_n_features` instead.\n",
      "  warnings.warn(\n",
      "c:\\Users\\THINKPAD\\anaconda3\\envs\\h8_env\\lib\\site-packages\\sklearn\\base.py:493: FutureWarning: `BaseEstimator._check_feature_names` is deprecated in 1.6 and will be removed in 1.7. Use `sklearn.utils.validation._check_feature_names` instead.\n",
      "  warnings.warn(\n",
      "c:\\Users\\THINKPAD\\anaconda3\\envs\\h8_env\\lib\\site-packages\\sklearn\\base.py:484: FutureWarning: `BaseEstimator._check_n_features` is deprecated in 1.6 and will be removed in 1.7. Use `sklearn.utils.validation._check_n_features` instead.\n",
      "  warnings.warn(\n",
      "c:\\Users\\THINKPAD\\anaconda3\\envs\\h8_env\\lib\\site-packages\\sklearn\\base.py:493: FutureWarning: `BaseEstimator._check_feature_names` is deprecated in 1.6 and will be removed in 1.7. Use `sklearn.utils.validation._check_feature_names` instead.\n",
      "  warnings.warn(\n",
      "c:\\Users\\THINKPAD\\anaconda3\\envs\\h8_env\\lib\\site-packages\\sklearn\\base.py:484: FutureWarning: `BaseEstimator._check_n_features` is deprecated in 1.6 and will be removed in 1.7. Use `sklearn.utils.validation._check_n_features` instead.\n",
      "  warnings.warn(\n",
      "c:\\Users\\THINKPAD\\anaconda3\\envs\\h8_env\\lib\\site-packages\\sklearn\\base.py:493: FutureWarning: `BaseEstimator._check_feature_names` is deprecated in 1.6 and will be removed in 1.7. Use `sklearn.utils.validation._check_feature_names` instead.\n",
      "  warnings.warn(\n",
      "c:\\Users\\THINKPAD\\anaconda3\\envs\\h8_env\\lib\\site-packages\\sklearn\\base.py:484: FutureWarning: `BaseEstimator._check_n_features` is deprecated in 1.6 and will be removed in 1.7. Use `sklearn.utils.validation._check_n_features` instead.\n",
      "  warnings.warn(\n",
      "c:\\Users\\THINKPAD\\anaconda3\\envs\\h8_env\\lib\\site-packages\\sklearn\\base.py:493: FutureWarning: `BaseEstimator._check_feature_names` is deprecated in 1.6 and will be removed in 1.7. Use `sklearn.utils.validation._check_feature_names` instead.\n",
      "  warnings.warn(\n",
      "c:\\Users\\THINKPAD\\anaconda3\\envs\\h8_env\\lib\\site-packages\\sklearn\\base.py:484: FutureWarning: `BaseEstimator._check_n_features` is deprecated in 1.6 and will be removed in 1.7. Use `sklearn.utils.validation._check_n_features` instead.\n",
      "  warnings.warn(\n",
      "c:\\Users\\THINKPAD\\anaconda3\\envs\\h8_env\\lib\\site-packages\\sklearn\\base.py:493: FutureWarning: `BaseEstimator._check_feature_names` is deprecated in 1.6 and will be removed in 1.7. Use `sklearn.utils.validation._check_feature_names` instead.\n",
      "  warnings.warn(\n",
      "c:\\Users\\THINKPAD\\anaconda3\\envs\\h8_env\\lib\\site-packages\\sklearn\\base.py:484: FutureWarning: `BaseEstimator._check_n_features` is deprecated in 1.6 and will be removed in 1.7. Use `sklearn.utils.validation._check_n_features` instead.\n",
      "  warnings.warn(\n",
      "c:\\Users\\THINKPAD\\anaconda3\\envs\\h8_env\\lib\\site-packages\\sklearn\\base.py:493: FutureWarning: `BaseEstimator._check_feature_names` is deprecated in 1.6 and will be removed in 1.7. Use `sklearn.utils.validation._check_feature_names` instead.\n",
      "  warnings.warn(\n",
      "c:\\Users\\THINKPAD\\anaconda3\\envs\\h8_env\\lib\\site-packages\\sklearn\\base.py:484: FutureWarning: `BaseEstimator._check_n_features` is deprecated in 1.6 and will be removed in 1.7. Use `sklearn.utils.validation._check_n_features` instead.\n",
      "  warnings.warn(\n",
      "c:\\Users\\THINKPAD\\anaconda3\\envs\\h8_env\\lib\\site-packages\\sklearn\\base.py:493: FutureWarning: `BaseEstimator._check_feature_names` is deprecated in 1.6 and will be removed in 1.7. Use `sklearn.utils.validation._check_feature_names` instead.\n",
      "  warnings.warn(\n",
      "c:\\Users\\THINKPAD\\anaconda3\\envs\\h8_env\\lib\\site-packages\\sklearn\\base.py:484: FutureWarning: `BaseEstimator._check_n_features` is deprecated in 1.6 and will be removed in 1.7. Use `sklearn.utils.validation._check_n_features` instead.\n",
      "  warnings.warn(\n",
      "c:\\Users\\THINKPAD\\anaconda3\\envs\\h8_env\\lib\\site-packages\\sklearn\\base.py:493: FutureWarning: `BaseEstimator._check_feature_names` is deprecated in 1.6 and will be removed in 1.7. Use `sklearn.utils.validation._check_feature_names` instead.\n",
      "  warnings.warn(\n",
      "c:\\Users\\THINKPAD\\anaconda3\\envs\\h8_env\\lib\\site-packages\\sklearn\\base.py:484: FutureWarning: `BaseEstimator._check_n_features` is deprecated in 1.6 and will be removed in 1.7. Use `sklearn.utils.validation._check_n_features` instead.\n",
      "  warnings.warn(\n",
      "c:\\Users\\THINKPAD\\anaconda3\\envs\\h8_env\\lib\\site-packages\\sklearn\\base.py:493: FutureWarning: `BaseEstimator._check_feature_names` is deprecated in 1.6 and will be removed in 1.7. Use `sklearn.utils.validation._check_feature_names` instead.\n",
      "  warnings.warn(\n",
      "c:\\Users\\THINKPAD\\anaconda3\\envs\\h8_env\\lib\\site-packages\\sklearn\\base.py:484: FutureWarning: `BaseEstimator._check_n_features` is deprecated in 1.6 and will be removed in 1.7. Use `sklearn.utils.validation._check_n_features` instead.\n",
      "  warnings.warn(\n",
      "c:\\Users\\THINKPAD\\anaconda3\\envs\\h8_env\\lib\\site-packages\\sklearn\\base.py:493: FutureWarning: `BaseEstimator._check_feature_names` is deprecated in 1.6 and will be removed in 1.7. Use `sklearn.utils.validation._check_feature_names` instead.\n",
      "  warnings.warn(\n",
      "c:\\Users\\THINKPAD\\anaconda3\\envs\\h8_env\\lib\\site-packages\\sklearn\\base.py:484: FutureWarning: `BaseEstimator._check_n_features` is deprecated in 1.6 and will be removed in 1.7. Use `sklearn.utils.validation._check_n_features` instead.\n",
      "  warnings.warn(\n",
      "c:\\Users\\THINKPAD\\anaconda3\\envs\\h8_env\\lib\\site-packages\\sklearn\\base.py:493: FutureWarning: `BaseEstimator._check_feature_names` is deprecated in 1.6 and will be removed in 1.7. Use `sklearn.utils.validation._check_feature_names` instead.\n",
      "  warnings.warn(\n",
      "c:\\Users\\THINKPAD\\anaconda3\\envs\\h8_env\\lib\\site-packages\\sklearn\\base.py:484: FutureWarning: `BaseEstimator._check_n_features` is deprecated in 1.6 and will be removed in 1.7. Use `sklearn.utils.validation._check_n_features` instead.\n",
      "  warnings.warn(\n",
      "c:\\Users\\THINKPAD\\anaconda3\\envs\\h8_env\\lib\\site-packages\\sklearn\\base.py:493: FutureWarning: `BaseEstimator._check_feature_names` is deprecated in 1.6 and will be removed in 1.7. Use `sklearn.utils.validation._check_feature_names` instead.\n",
      "  warnings.warn(\n",
      "c:\\Users\\THINKPAD\\anaconda3\\envs\\h8_env\\lib\\site-packages\\sklearn\\base.py:484: FutureWarning: `BaseEstimator._check_n_features` is deprecated in 1.6 and will be removed in 1.7. Use `sklearn.utils.validation._check_n_features` instead.\n",
      "  warnings.warn(\n",
      "c:\\Users\\THINKPAD\\anaconda3\\envs\\h8_env\\lib\\site-packages\\sklearn\\base.py:493: FutureWarning: `BaseEstimator._check_feature_names` is deprecated in 1.6 and will be removed in 1.7. Use `sklearn.utils.validation._check_feature_names` instead.\n",
      "  warnings.warn(\n"
     ]
    },
    {
     "data": {
      "text/html": [
       "<div>\n",
       "<style scoped>\n",
       "    .dataframe tbody tr th:only-of-type {\n",
       "        vertical-align: middle;\n",
       "    }\n",
       "\n",
       "    .dataframe tbody tr th {\n",
       "        vertical-align: top;\n",
       "    }\n",
       "\n",
       "    .dataframe thead th {\n",
       "        text-align: right;\n",
       "    }\n",
       "</style>\n",
       "<table border=\"1\" class=\"dataframe\">\n",
       "  <thead>\n",
       "    <tr style=\"text-align: right;\">\n",
       "      <th></th>\n",
       "      <th>train_recall_mean</th>\n",
       "      <th>train_recall_std</th>\n",
       "      <th>train_rocauc_mean</th>\n",
       "      <th>train_rocauc_std</th>\n",
       "    </tr>\n",
       "  </thead>\n",
       "  <tbody>\n",
       "    <tr>\n",
       "      <th>rf</th>\n",
       "      <td>1.000000</td>\n",
       "      <td>0.000000</td>\n",
       "      <td>1.000000</td>\n",
       "      <td>0.000000</td>\n",
       "    </tr>\n",
       "    <tr>\n",
       "      <th>tree</th>\n",
       "      <td>1.000000</td>\n",
       "      <td>0.000000</td>\n",
       "      <td>1.000000</td>\n",
       "      <td>0.000000</td>\n",
       "    </tr>\n",
       "    <tr>\n",
       "      <th>hist</th>\n",
       "      <td>1.000000</td>\n",
       "      <td>0.000000</td>\n",
       "      <td>1.000000</td>\n",
       "      <td>0.000000</td>\n",
       "    </tr>\n",
       "    <tr>\n",
       "      <th>knn</th>\n",
       "      <td>0.837287</td>\n",
       "      <td>0.013797</td>\n",
       "      <td>0.910582</td>\n",
       "      <td>0.009318</td>\n",
       "    </tr>\n",
       "    <tr>\n",
       "      <th>gradient</th>\n",
       "      <td>0.783060</td>\n",
       "      <td>0.023909</td>\n",
       "      <td>0.963481</td>\n",
       "      <td>0.003372</td>\n",
       "    </tr>\n",
       "    <tr>\n",
       "      <th>svm</th>\n",
       "      <td>0.690423</td>\n",
       "      <td>0.032170</td>\n",
       "      <td>0.874128</td>\n",
       "      <td>0.011643</td>\n",
       "    </tr>\n",
       "    <tr>\n",
       "      <th>adaboost</th>\n",
       "      <td>0.683818</td>\n",
       "      <td>0.022474</td>\n",
       "      <td>0.859295</td>\n",
       "      <td>0.015837</td>\n",
       "    </tr>\n",
       "    <tr>\n",
       "      <th>logreg</th>\n",
       "      <td>0.667959</td>\n",
       "      <td>0.014766</td>\n",
       "      <td>0.821428</td>\n",
       "      <td>0.014232</td>\n",
       "    </tr>\n",
       "  </tbody>\n",
       "</table>\n",
       "</div>"
      ],
      "text/plain": [
       "          train_recall_mean  train_recall_std  train_rocauc_mean  \\\n",
       "rf                 1.000000          0.000000           1.000000   \n",
       "tree               1.000000          0.000000           1.000000   \n",
       "hist               1.000000          0.000000           1.000000   \n",
       "knn                0.837287          0.013797           0.910582   \n",
       "gradient           0.783060          0.023909           0.963481   \n",
       "svm                0.690423          0.032170           0.874128   \n",
       "adaboost           0.683818          0.022474           0.859295   \n",
       "logreg             0.667959          0.014766           0.821428   \n",
       "\n",
       "          train_rocauc_std  \n",
       "rf                0.000000  \n",
       "tree              0.000000  \n",
       "hist              0.000000  \n",
       "knn               0.009318  \n",
       "gradient          0.003372  \n",
       "svm               0.011643  \n",
       "adaboost          0.015837  \n",
       "logreg            0.014232  "
      ]
     },
     "metadata": {},
     "output_type": "display_data"
    }
   ],
   "source": [
    "# The main score sought\n",
    "scoring = {\n",
    "    'recall': 'recall',\n",
    "    'rocauc': 'roc_auc'\n",
    "}\n",
    "\n",
    "# Save score results\n",
    "results = {}\n",
    "\n",
    "# Looping runs\n",
    "for name, model in models.items():\n",
    "    # Make pipeline: SMOTENC + Preprocessing + Model\n",
    "    pipeline = ImbPipeline([\n",
    "        ('smotenc', smotenc),\n",
    "        ('preproses', preproses),\n",
    "        ('classifier', model)\n",
    "    ])\n",
    "\n",
    "    # Cross-validation with 5-fold\n",
    "    scores = cross_validate(\n",
    "        pipeline,\n",
    "        X_train,\n",
    "        y_train,\n",
    "        scoring=scoring,\n",
    "        cv=5,\n",
    "        return_train_score=True\n",
    "    )\n",
    "\n",
    "    # Save cross validation and standar deviasi\n",
    "    results[name] = {\n",
    "        'train_recall_mean': scores['train_recall'].mean(),\n",
    "        'train_recall_std': scores['train_recall'].std(),\n",
    "        'train_rocauc_mean': scores['train_rocauc'].mean(),\n",
    "        'train_rocauc_std': scores['train_rocauc'].std()\n",
    "    }\n",
    "\n",
    "# T# Display DataFrame\n",
    "df_results = pd.DataFrame(results).T.sort_values(by='train_recall_mean', ascending=False)\n",
    "display(df_results)"
   ]
  },
  {
   "cell_type": "code",
   "execution_count": 43,
   "id": "174ddefc",
   "metadata": {},
   "outputs": [],
   "source": [
    "df_results = pd.DataFrame(results).T"
   ]
  },
  {
   "cell_type": "code",
   "execution_count": 44,
   "id": "bf29bd39",
   "metadata": {},
   "outputs": [
    {
     "name": "stderr",
     "output_type": "stream",
     "text": [
      "C:\\Users\\THINKPAD\\AppData\\Local\\Temp\\ipykernel_6728\\1851256990.py:4: UserWarning: No artists with labels found to put in legend.  Note that artists whose label start with an underscore are ignored when legend() is called with no argument.\n",
      "  plt.legend(loc='upper left', bbox_to_anchor=(1, 1))\n"
     ]
    },
    {
     "data": {
      "image/png": "[encoded data removed]",
      "text/plain": [
       "<Figure size 640x480 with 1 Axes>"
      ]
     },
     "metadata": {},
     "output_type": "display_data"
    }
   ],
   "source": [
    "# Creating a barplot visualization\n",
    "sns.barplot(data=df_results, x=df_results.index , y='train_recall_mean', hue=df_results.index)\n",
    "plt.title('Evaluation Matriks Mean Recall Train')\n",
    "plt.legend(loc='upper left', bbox_to_anchor=(1, 1))\n",
    "plt.xlabel('Models')\n",
    "plt.ylabel('Mean Recall')\n",
    "plt.show()"
   ]
  },
  {
   "cell_type": "markdown",
   "id": "7a3a8117",
   "metadata": {},
   "source": [
    "**Analyst:**\n",
    "Recall measures the model's ability to find all true positives.\n",
    "\n",
    "| Model | Recall | Analysis |\n",
    "| -------------------------------------- | -------- | ----------------------------------------------------------------------------------------------------------------------------------------------------------------------------------------------------------------------- |\n",
    "| rf (Random Forest) | 1.00 | Very high, tends to overfit. This is normal because Random Forest is a collection of Decision Trees, which are very flexible and can memorize training data if not limited (e.g., the number of trees is too large, or the maximum depth is too deep). |\n",
    "| tree (Decision Tree) | 1.00 | Identical to Random Forest (without ensemble), and usually more easily overfit because a single tree Can grow to pure leaf (each leaf only has one data point). |\n",
    "| hist (Histogram Gradient Boosting) | 1.00 | Equally flexible, because HGB is a boosted tree with histogram binning techniques. Boosting makes the model highly adaptive to data — so when unconstrained, it can also overfit like a tree. |\n",
    "| knn (K-Nearest Neighbors) | 0.837 | Good results but not extreme. KNN is based on Euclidean distance or something similar, and performance is heavily influenced by local distributions. Overfit can occur if k is too small, but this score is fairly balanced. |\n",
    "| gradient (Gradient Boosting) | 0.783 | A boosting model that tends to be more controlled than HGB, because it uses gradient loss and regularization. It doesn't overfit, but it's quite flexible. |\n",
    "| svm (Support Vector Machine) | 0.690 | Tends to be moderate. SVM is a separating hyperplane-based model, and avoids too many margin violations. It rarely overfits in recall because its underlying structure is not a tree/boost, but a margin (and therefore more \"rigid\"). |\n",
    "| adaboost | 0.684 | Also a type of boosting, but it works by increasing the weight of previous errors. The results are not as extreme as HGB or regular Gradient Boosting, because the weak learner is sometimes simple. |\n",
    "| logreg | 0.668 | Lowest. Pure linear model, with a linear decision boundary → difficult to capture non-linearity. Underfit is normal, especially if the data is complex or not linearly separable. |"
   ]
  },
  {
   "cell_type": "code",
   "execution_count": 45,
   "id": "9ab19729",
   "metadata": {},
   "outputs": [
    {
     "name": "stderr",
     "output_type": "stream",
     "text": [
      "C:\\Users\\THINKPAD\\AppData\\Local\\Temp\\ipykernel_6728\\1282626871.py:4: UserWarning: No artists with labels found to put in legend.  Note that artists whose label start with an underscore are ignored when legend() is called with no argument.\n",
      "  plt.legend(loc='upper left', bbox_to_anchor=(1, 1))\n"
     ]
    },
    {
     "data": {
      "image/png": "[encoded data removed]",
      "text/plain": [
       "<Figure size 640x480 with 1 Axes>"
      ]
     },
     "metadata": {},
     "output_type": "display_data"
    }
   ],
   "source": [
    "# Creating a barplot visualization\n",
    "sns.barplot(data=df_results, x=df_results.index , y='train_rocauc_mean', hue=df_results.index)\n",
    "plt.title('Evaluation Matriks Mean ROC AUC Train')\n",
    "plt.legend(loc='upper left', bbox_to_anchor=(1, 1))\n",
    "plt.xlabel('Models')\n",
    "plt.ylabel('Mean ROC AUC')\n",
    "plt.show()"
   ]
  },
  {
   "cell_type": "markdown",
   "id": "465ef967",
   "metadata": {},
   "source": [
    "| Model | AUC | Analysis |\n",
    "| -------------------------------------- | -------- | ------------------------------------------------------------------------------------------------------- |\n",
    "| rf (Random Forest) | 1.00 | Perfect score. Random Forest often achieves a high AUC because it captures all patterns, even if it overfits. |\n",
    "| tree (Decision Tree) | 1.00 | Similar to RF — despite being a simple model (single tree), it can fit the data very accurately (training). |\n",
    "| hist (Histogram Gradient Boosting) | 1.00 | Very high results. HGB is very flexible and tends to learn from noise as well, especially during training. |\n",
    "| knn (K-Nearest Neighbors) | 0.910 | Still very high. This indicates that KNN is quite good at separating the two classes, although not as precise as tree-based. |\n",
    "| gradient (Gradient Boosting) | 0.963 | A very high AUC score indicates the model is very good at distinguishing classes. Boosting improves performance. |\n",
    "| svm (Support Vector Machine) | 0.874 | Fairly good. SVM works to optimize the margin between classes, and this is reflected in the fairly stable AUC. |\n",
    "| adaboost | 0.859 | Slightly below SVM, which is understandable since Adaboost is sometimes not as precise as the more modern gradient boosting. |\n",
    "| logreg | 0.821 | Still acceptable. This shows that, despite being linear, logreg can capture the direction of separation between classes. |"
   ]
  },
  {
   "cell_type": "markdown",
   "id": "90b2f13a",
   "metadata": {},
   "source": [
    "**General Conclusions:**\n",
    "\n",
    "- Decision tree-based models (RF, Tree, HGB) tend to overfit if not constrained, so even with perfect recall and AUC, performance on unseen data can drop drastically.\n",
    "\n",
    "- Distance-based models like KNN can overfit if not carefully selected in their parameter (k), but they more naturally capture nonlinear data.\n",
    "\n",
    "- Models like SVM and Adaboost produce intermediate results and tend to be more stable because their underlying principle is not to \"memorize\" the data.\n",
    "\n",
    "- Linear models like Logistic Regression are most likely to underfit on complex datasets due to their rigid boundaries."
   ]
  },
  {
   "cell_type": "markdown",
   "id": "cb139ad0",
   "metadata": {},
   "source": [
    "# VII Model Training"
   ]
  },
  {
   "cell_type": "code",
   "execution_count": 46,
   "id": "c8ecd4bb",
   "metadata": {},
   "outputs": [
    {
     "name": "stderr",
     "output_type": "stream",
     "text": [
      "c:\\Users\\THINKPAD\\anaconda3\\envs\\h8_env\\lib\\site-packages\\sklearn\\base.py:484: FutureWarning: `BaseEstimator._check_n_features` is deprecated in 1.6 and will be removed in 1.7. Use `sklearn.utils.validation._check_n_features` instead.\n",
      "  warnings.warn(\n",
      "c:\\Users\\THINKPAD\\anaconda3\\envs\\h8_env\\lib\\site-packages\\sklearn\\base.py:493: FutureWarning: `BaseEstimator._check_feature_names` is deprecated in 1.6 and will be removed in 1.7. Use `sklearn.utils.validation._check_feature_names` instead.\n",
      "  warnings.warn(\n",
      "c:\\Users\\THINKPAD\\anaconda3\\envs\\h8_env\\lib\\site-packages\\sklearn\\base.py:484: FutureWarning: `BaseEstimator._check_n_features` is deprecated in 1.6 and will be removed in 1.7. Use `sklearn.utils.validation._check_n_features` instead.\n",
      "  warnings.warn(\n",
      "c:\\Users\\THINKPAD\\anaconda3\\envs\\h8_env\\lib\\site-packages\\sklearn\\base.py:493: FutureWarning: `BaseEstimator._check_feature_names` is deprecated in 1.6 and will be removed in 1.7. Use `sklearn.utils.validation._check_feature_names` instead.\n",
      "  warnings.warn(\n",
      "c:\\Users\\THINKPAD\\anaconda3\\envs\\h8_env\\lib\\site-packages\\sklearn\\base.py:484: FutureWarning: `BaseEstimator._check_n_features` is deprecated in 1.6 and will be removed in 1.7. Use `sklearn.utils.validation._check_n_features` instead.\n",
      "  warnings.warn(\n",
      "c:\\Users\\THINKPAD\\anaconda3\\envs\\h8_env\\lib\\site-packages\\sklearn\\base.py:493: FutureWarning: `BaseEstimator._check_feature_names` is deprecated in 1.6 and will be removed in 1.7. Use `sklearn.utils.validation._check_feature_names` instead.\n",
      "  warnings.warn(\n",
      "c:\\Users\\THINKPAD\\anaconda3\\envs\\h8_env\\lib\\site-packages\\sklearn\\base.py:484: FutureWarning: `BaseEstimator._check_n_features` is deprecated in 1.6 and will be removed in 1.7. Use `sklearn.utils.validation._check_n_features` instead.\n",
      "  warnings.warn(\n",
      "c:\\Users\\THINKPAD\\anaconda3\\envs\\h8_env\\lib\\site-packages\\sklearn\\base.py:493: FutureWarning: `BaseEstimator._check_feature_names` is deprecated in 1.6 and will be removed in 1.7. Use `sklearn.utils.validation._check_feature_names` instead.\n",
      "  warnings.warn(\n",
      "c:\\Users\\THINKPAD\\anaconda3\\envs\\h8_env\\lib\\site-packages\\sklearn\\base.py:484: FutureWarning: `BaseEstimator._check_n_features` is deprecated in 1.6 and will be removed in 1.7. Use `sklearn.utils.validation._check_n_features` instead.\n",
      "  warnings.warn(\n",
      "c:\\Users\\THINKPAD\\anaconda3\\envs\\h8_env\\lib\\site-packages\\sklearn\\base.py:493: FutureWarning: `BaseEstimator._check_feature_names` is deprecated in 1.6 and will be removed in 1.7. Use `sklearn.utils.validation._check_feature_names` instead.\n",
      "  warnings.warn(\n",
      "c:\\Users\\THINKPAD\\anaconda3\\envs\\h8_env\\lib\\site-packages\\sklearn\\base.py:484: FutureWarning: `BaseEstimator._check_n_features` is deprecated in 1.6 and will be removed in 1.7. Use `sklearn.utils.validation._check_n_features` instead.\n",
      "  warnings.warn(\n",
      "c:\\Users\\THINKPAD\\anaconda3\\envs\\h8_env\\lib\\site-packages\\sklearn\\base.py:493: FutureWarning: `BaseEstimator._check_feature_names` is deprecated in 1.6 and will be removed in 1.7. Use `sklearn.utils.validation._check_feature_names` instead.\n",
      "  warnings.warn(\n",
      "c:\\Users\\THINKPAD\\anaconda3\\envs\\h8_env\\lib\\site-packages\\sklearn\\base.py:484: FutureWarning: `BaseEstimator._check_n_features` is deprecated in 1.6 and will be removed in 1.7. Use `sklearn.utils.validation._check_n_features` instead.\n",
      "  warnings.warn(\n",
      "c:\\Users\\THINKPAD\\anaconda3\\envs\\h8_env\\lib\\site-packages\\sklearn\\base.py:493: FutureWarning: `BaseEstimator._check_feature_names` is deprecated in 1.6 and will be removed in 1.7. Use `sklearn.utils.validation._check_feature_names` instead.\n",
      "  warnings.warn(\n",
      "c:\\Users\\THINKPAD\\anaconda3\\envs\\h8_env\\lib\\site-packages\\sklearn\\base.py:484: FutureWarning: `BaseEstimator._check_n_features` is deprecated in 1.6 and will be removed in 1.7. Use `sklearn.utils.validation._check_n_features` instead.\n",
      "  warnings.warn(\n",
      "c:\\Users\\THINKPAD\\anaconda3\\envs\\h8_env\\lib\\site-packages\\sklearn\\base.py:493: FutureWarning: `BaseEstimator._check_feature_names` is deprecated in 1.6 and will be removed in 1.7. Use `sklearn.utils.validation._check_feature_names` instead.\n",
      "  warnings.warn(\n"
     ]
    },
    {
     "data": {
      "text/html": [
       "<div>\n",
       "<style scoped>\n",
       "    .dataframe tbody tr th:only-of-type {\n",
       "        vertical-align: middle;\n",
       "    }\n",
       "\n",
       "    .dataframe tbody tr th {\n",
       "        vertical-align: top;\n",
       "    }\n",
       "\n",
       "    .dataframe thead th {\n",
       "        text-align: right;\n",
       "    }\n",
       "</style>\n",
       "<table border=\"1\" class=\"dataframe\">\n",
       "  <thead>\n",
       "    <tr style=\"text-align: right;\">\n",
       "      <th></th>\n",
       "      <th>Model</th>\n",
       "      <th>Dataset</th>\n",
       "      <th>Recall</th>\n",
       "      <th>AUC</th>\n",
       "    </tr>\n",
       "  </thead>\n",
       "  <tbody>\n",
       "    <tr>\n",
       "      <th>0</th>\n",
       "      <td>logreg</td>\n",
       "      <td>train</td>\n",
       "      <td>0.656085</td>\n",
       "      <td>0.817774</td>\n",
       "    </tr>\n",
       "    <tr>\n",
       "      <th>1</th>\n",
       "      <td>logreg</td>\n",
       "      <td>test</td>\n",
       "      <td>0.562500</td>\n",
       "      <td>0.808604</td>\n",
       "    </tr>\n",
       "    <tr>\n",
       "      <th>2</th>\n",
       "      <td>knn</td>\n",
       "      <td>train</td>\n",
       "      <td>0.846561</td>\n",
       "      <td>0.912843</td>\n",
       "    </tr>\n",
       "    <tr>\n",
       "      <th>3</th>\n",
       "      <td>knn</td>\n",
       "      <td>test</td>\n",
       "      <td>0.583333</td>\n",
       "      <td>0.716675</td>\n",
       "    </tr>\n",
       "    <tr>\n",
       "      <th>4</th>\n",
       "      <td>rf</td>\n",
       "      <td>train</td>\n",
       "      <td>1.000000</td>\n",
       "      <td>1.000000</td>\n",
       "    </tr>\n",
       "    <tr>\n",
       "      <th>5</th>\n",
       "      <td>rf</td>\n",
       "      <td>test</td>\n",
       "      <td>0.312500</td>\n",
       "      <td>0.779556</td>\n",
       "    </tr>\n",
       "    <tr>\n",
       "      <th>6</th>\n",
       "      <td>svm</td>\n",
       "      <td>train</td>\n",
       "      <td>0.703704</td>\n",
       "      <td>0.873295</td>\n",
       "    </tr>\n",
       "    <tr>\n",
       "      <th>7</th>\n",
       "      <td>svm</td>\n",
       "      <td>test</td>\n",
       "      <td>0.562500</td>\n",
       "      <td>0.827405</td>\n",
       "    </tr>\n",
       "    <tr>\n",
       "      <th>8</th>\n",
       "      <td>tree</td>\n",
       "      <td>train</td>\n",
       "      <td>1.000000</td>\n",
       "      <td>1.000000</td>\n",
       "    </tr>\n",
       "    <tr>\n",
       "      <th>9</th>\n",
       "      <td>tree</td>\n",
       "      <td>test</td>\n",
       "      <td>0.312500</td>\n",
       "      <td>0.581047</td>\n",
       "    </tr>\n",
       "    <tr>\n",
       "      <th>10</th>\n",
       "      <td>gradient</td>\n",
       "      <td>train</td>\n",
       "      <td>0.746032</td>\n",
       "      <td>0.949068</td>\n",
       "    </tr>\n",
       "    <tr>\n",
       "      <th>11</th>\n",
       "      <td>gradient</td>\n",
       "      <td>test</td>\n",
       "      <td>0.416667</td>\n",
       "      <td>0.784807</td>\n",
       "    </tr>\n",
       "    <tr>\n",
       "      <th>12</th>\n",
       "      <td>adaboost</td>\n",
       "      <td>train</td>\n",
       "      <td>0.703704</td>\n",
       "      <td>0.857218</td>\n",
       "    </tr>\n",
       "    <tr>\n",
       "      <th>13</th>\n",
       "      <td>adaboost</td>\n",
       "      <td>test</td>\n",
       "      <td>0.645833</td>\n",
       "      <td>0.810806</td>\n",
       "    </tr>\n",
       "    <tr>\n",
       "      <th>14</th>\n",
       "      <td>hist</td>\n",
       "      <td>train</td>\n",
       "      <td>1.000000</td>\n",
       "      <td>1.000000</td>\n",
       "    </tr>\n",
       "    <tr>\n",
       "      <th>15</th>\n",
       "      <td>hist</td>\n",
       "      <td>test</td>\n",
       "      <td>0.333333</td>\n",
       "      <td>0.794715</td>\n",
       "    </tr>\n",
       "  </tbody>\n",
       "</table>\n",
       "</div>"
      ],
      "text/plain": [
       "       Model Dataset    Recall       AUC\n",
       "0     logreg   train  0.656085  0.817774\n",
       "1     logreg    test  0.562500  0.808604\n",
       "2        knn   train  0.846561  0.912843\n",
       "3        knn    test  0.583333  0.716675\n",
       "4         rf   train  1.000000  1.000000\n",
       "5         rf    test  0.312500  0.779556\n",
       "6        svm   train  0.703704  0.873295\n",
       "7        svm    test  0.562500  0.827405\n",
       "8       tree   train  1.000000  1.000000\n",
       "9       tree    test  0.312500  0.581047\n",
       "10  gradient   train  0.746032  0.949068\n",
       "11  gradient    test  0.416667  0.784807\n",
       "12  adaboost   train  0.703704  0.857218\n",
       "13  adaboost    test  0.645833  0.810806\n",
       "14      hist   train  1.000000  1.000000\n",
       "15      hist    test  0.333333  0.794715"
      ]
     },
     "execution_count": 46,
     "metadata": {},
     "output_type": "execute_result"
    }
   ],
   "source": [
    "eval_results = []\n",
    "\n",
    "dataset = {\n",
    "    'train' : (X_train, y_train),\n",
    "    'test' : (X_test, y_test)\n",
    "}\n",
    "\n",
    "for name, model in models.items():\n",
    "    pipeline = ImbPipeline([\n",
    "        ('smotenc', smotenc),\n",
    "        ('preproses', preproses),\n",
    "        ('classifier', model)\n",
    "    ])\n",
    "    \n",
    "    pipeline.fit(X_train, y_train)\n",
    "\n",
    "    for data, (X, y) in dataset.items():\n",
    "        y_pred = pipeline.predict(X)\n",
    "        \n",
    "        y_prob = pipeline.predict_proba(X)[:, 1]\n",
    "        auc = roc_auc_score(y, y_prob)\n",
    "\n",
    "        report = classification_report(y, y_pred, output_dict=True)\n",
    "        eval_results.append({\n",
    "            'Model': name,\n",
    "            'Dataset': data,\n",
    "            'Recall': report['1']['recall'],\n",
    "            'AUC': auc\n",
    "        })\n",
    "\n",
    "df_results = pd.DataFrame(eval_results)\n",
    "df_results\n"
   ]
  },
  {
   "cell_type": "code",
   "execution_count": 47,
   "id": "ee4c51a6",
   "metadata": {},
   "outputs": [
    {
     "name": "stderr",
     "output_type": "stream",
     "text": [
      "C:\\Users\\THINKPAD\\AppData\\Local\\Temp\\ipykernel_6728\\2884248910.py:4: UserWarning: No artists with labels found to put in legend.  Note that artists whose label start with an underscore are ignored when legend() is called with no argument.\n",
      "  plt.legend(loc='upper left', bbox_to_anchor=(1, 1))\n"
     ]
    },
    {
     "data": {
      "image/png": "[encoded data removed]",
      "text/plain": [
       "<Figure size 640x480 with 1 Axes>"
      ]
     },
     "metadata": {},
     "output_type": "display_data"
    }
   ],
   "source": [
    "# Creating a barplot visualization\n",
    "sns.barplot(data=df_results[df_results['Dataset']=='test'], x='Model' , y='Recall', hue='Model')\n",
    "plt.title('Evaluation Matriks Recall Test')\n",
    "plt.legend(loc='upper left', bbox_to_anchor=(1, 1))\n",
    "plt.xlabel('Models')\n",
    "plt.ylabel('Recall')\n",
    "plt.show()"
   ]
  },
  {
   "cell_type": "code",
   "execution_count": 48,
   "id": "ec3b6785",
   "metadata": {},
   "outputs": [
    {
     "name": "stderr",
     "output_type": "stream",
     "text": [
      "C:\\Users\\THINKPAD\\AppData\\Local\\Temp\\ipykernel_6728\\2356032256.py:4: UserWarning: No artists with labels found to put in legend.  Note that artists whose label start with an underscore are ignored when legend() is called with no argument.\n",
      "  plt.legend(loc='upper left', bbox_to_anchor=(1, 1))\n"
     ]
    },
    {
     "data": {
      "image/png": "[encoded data removed]",
      "text/plain": [
       "<Figure size 640x480 with 1 Axes>"
      ]
     },
     "metadata": {},
     "output_type": "display_data"
    }
   ],
   "source": [
    "# Creating a barplot visualization\n",
    "sns.barplot(data=df_results[df_results['Dataset']=='test'], x='Model' , y='AUC', hue='Model')\n",
    "plt.title('Evaluation Matriks AUC')\n",
    "plt.legend(loc='upper left', bbox_to_anchor=(1, 1))\n",
    "plt.xlabel('Models')\n",
    "plt.ylabel('AUC')\n",
    "plt.show()"
   ]
  },
  {
   "cell_type": "markdown",
   "id": "6ec10e1a",
   "metadata": {},
   "source": [
    "| Model | Recall (Train vs Test) | AUC (Train vs Test) | Brief Analysis |\n",
    "| ------------ | ---------------------- | ------------------- | ----------------------------------------------------------------------------- |\n",
    "| logreg | 0.656 → 0.563 | 0.818 → 0.809 | Stable & balanced. Not overfit, although performance is limited. |\n",
    "| knn | 0.847 → 0.583 | 0.913 → 0.717 | Moderate overfit. KNN learns too locally on the train. |\n",
    "| rf | 1.000 → 0.313 | 1.000 → 0.780 | Severe overfit. On perfect train, test crashes. |\n",
    "| svm | 0.704 → 0.563 | 0.873 → 0.827 | Fairly stable performance. Generally not overfit, but limited recall. |\n",
    "| tree | 1,000 → 0.313 | 1,000 → 0.581 | Same as RF. High overfit because the tree learns too specifically. |\n",
    "| gradient | 0.746 → 0.417 | 0.949 → 0.785 | Fairly overfit. Flexible boosting, but still difficult to generalize. |\n",
    "| adaboost | 0.704 → 0.646 | 0.857 → 0.811 | Most stable! Fairly high recall, stable AUC. Best balance. |\n",
    "| hist | 1,000 → 0.333 | 1,000 → 0.795 | Extreme overfit, similar to RF & Tree. Only good on train. |"
   ]
  },
  {
   "cell_type": "markdown",
   "id": "9b129691",
   "metadata": {},
   "source": [
    "**Final Conclusion: Which is Better?**\n",
    "\n",
    "In terms of Recall (capturing positive cases):\n",
    "- High train but low test → rf, tree, hist, gradient: too overfit.\n",
    "- Best and most stable in recall → adaboost, capturing positives in the test (0.646).\n",
    "In terms of AUC (overall ability to distinguish between positive and negative classes):\n",
    "- High & stable → logreg, svm, adaboost → not only capturing positives but also avoiding false positives.\n",
    "\n",
    "adaboost excels on both counts."
   ]
  },
  {
   "cell_type": "markdown",
   "id": "19c2b8d4",
   "metadata": {},
   "source": [
    "🏆 Best Model: AdaBoost\n",
    "✅ Why is AdaBoost considered the best?\n",
    "- High recall in the test (0.646) — only slightly lower than the training.\n",
    "- High and stable AUC (0.857 → 0.811) — indicating the model is good at class differentiation.\n",
    "- No overfitting — test performance is close to the training.\n",
    "- Outperforms other models that overfit even with perfect training recall (RF, Tree, Hist).\n",
    "- Much better than LogReg and SVM in terms of recall (the main metric you're focusing on)"
   ]
  },
  {
   "cell_type": "markdown",
   "id": "68306174",
   "metadata": {},
   "source": [
    "Model Ranking (From Best to Worst, Based on Test Recall & AUC)\n",
    "1. 🥇 AdaBoost – Balanced, strong recall, stable AUC.\n",
    "2. 🥈 SVM – Stable & not overfit, but recall slightly lower than AdaBoost.\n",
    "3. 🥉 LogReg – Very stable, easy to explain, but low recall.\n",
    "4. Gradient Boosting – Powerful but moderate overfit.\n",
    "5. KNN – High recall in training, drops in testing. Moderate overfit.\n",
    "6. Random Forest – Severe overfit, poor test recall.\n",
    "7. Tree – Extreme overfit, very poor test results.\n",
    "8. HistGB – Equally bad as RF and Tree."
   ]
  },
  {
   "cell_type": "markdown",
   "id": "70854bb2",
   "metadata": {},
   "source": [
    "#  VII. Hyperparameter Tuning"
   ]
  },
  {
   "cell_type": "markdown",
   "id": "e865ee39",
   "metadata": {},
   "source": [
    "**Adabost Best Model ?**\n",
    "😈 other models: wait and see after hyper parameter tunning \n",
    "Model training is a step to try hyper parameter tuning, where you try variations of the parameters to get the best results."
   ]
  },
  {
   "cell_type": "markdown",
   "id": "31d40ecf",
   "metadata": {},
   "source": [
    "## Setup Parameter Model"
   ]
  },
  {
   "cell_type": "markdown",
   "id": "387192da",
   "metadata": {},
   "source": [
    "### Logreg"
   ]
  },
  {
   "cell_type": "code",
   "execution_count": 49,
   "id": "333779a4",
   "metadata": {},
   "outputs": [],
   "source": [
    "# Set parameter\n",
    "c = [float(x) for x in np.linspace(0.1, 5, 5)]\n",
    "penalty = ['l1', 'l2', 'elasticnet']\n",
    "random_state = [10]\n",
    "solver = ['saga']\n",
    "\n",
    "# Random search dictionary\n",
    "params_logreg = {\n",
    "    'classifier__C': c,\n",
    "    'classifier__penalty' : penalty,\n",
    "    'classifier__solver': solver,\n",
    "    'classifier__l1_ratio': [0.5],\n",
    "    'classifier__random_state' : random_state}"
   ]
  },
  {
   "cell_type": "markdown",
   "id": "b193958f",
   "metadata": {},
   "source": [
    "### KNN"
   ]
  },
  {
   "cell_type": "code",
   "execution_count": 50,
   "id": "cbf4f153",
   "metadata": {},
   "outputs": [],
   "source": [
    "# Set parameter\n",
    "n_neighbors = [3,5,7,9]\n",
    "weights = ['uniform', 'distance']\n",
    "algorithm = ['auto', 'ball_tree', 'kd_tree', 'brute']\n",
    "leaf_size = [15, 30, 45]\n",
    "\n",
    "# Random search dictionary\n",
    "params_knn = {\n",
    "    'classifier__n_neighbors': n_neighbors,\n",
    "    'classifier__weights' : weights,\n",
    "    'classifier__algorithm': algorithm,\n",
    "    'classifier__leaf_size': leaf_size\n",
    "}"
   ]
  },
  {
   "cell_type": "markdown",
   "id": "6303b3b7",
   "metadata": {},
   "source": [
    "### Random Forest"
   ]
  },
  {
   "cell_type": "code",
   "execution_count": 51,
   "id": "78990878",
   "metadata": {},
   "outputs": [],
   "source": [
    "# Set parameter\n",
    "n_estimators = [3,5,7,9]\n",
    "criterion = ['gini', 'entropy', 'log_loss']\n",
    "min_samples_split= [15, 30, 45]\n",
    "min_samples_leaf = [2, 4, 6, 8]\n",
    "max_features = ['sqrt', 'log2']\n",
    "\n",
    "# Random search dictionary\n",
    "params_rf = {\n",
    "    'classifier__n_estimators': n_estimators,\n",
    "    'classifier__criterion' : criterion,\n",
    "    'classifier__min_samples_split': min_samples_split,\n",
    "    'classifier__min_samples_leaf': min_samples_leaf,\n",
    "    'classifier__max_features': max_features\n",
    "}"
   ]
  },
  {
   "cell_type": "markdown",
   "id": "18139555",
   "metadata": {},
   "source": [
    "### SVM"
   ]
  },
  {
   "cell_type": "code",
   "execution_count": 66,
   "id": "b467e4e5",
   "metadata": {},
   "outputs": [],
   "source": [
    "# Set parameter\n",
    "c = [float(x) for x in np.linspace(0.1, 5, 5)]\n",
    "kernel = ['linear', 'poly', 'rbf', 'sigmoid']\n",
    "degree = [3,6,9,12,15,18]\n",
    "gamma = ['scale', 'auto']\n",
    "\n",
    "# Random search dictionary\n",
    "params_svm = {\n",
    "    'classifier__C': c,\n",
    "    'classifier__kernel' : kernel,\n",
    "    'classifier__degree': degree,\n",
    "    'classifier__gamma': gamma,\n",
    "    'classifier__random_state' : random_state}"
   ]
  },
  {
   "cell_type": "markdown",
   "id": "9fdfed5e",
   "metadata": {},
   "source": [
    "### Decision Tree"
   ]
  },
  {
   "cell_type": "code",
   "execution_count": 53,
   "id": "b4c8d4de",
   "metadata": {},
   "outputs": [],
   "source": [
    "# Set parameter\n",
    "splitter = ['best', 'random']\n",
    "criterion = ['gini', 'entropy', 'log_loss']\n",
    "min_samples_split= [15, 30, 45]\n",
    "min_samples_leaf = [2, 4, 6, 8]\n",
    "max_features = ['sqrt', 'log2']\n",
    "\n",
    "# Random search dictionary\n",
    "params_dc = {\n",
    "    'classifier__splitter': splitter,\n",
    "    'classifier__criterion' : criterion,\n",
    "    'classifier__min_samples_split': min_samples_split,\n",
    "    'classifier__min_samples_leaf': min_samples_leaf,\n",
    "    'classifier__max_features': max_features\n",
    "}"
   ]
  },
  {
   "cell_type": "markdown",
   "id": "0a8eb92d",
   "metadata": {},
   "source": [
    "### GradientBoost"
   ]
  },
  {
   "cell_type": "code",
   "execution_count": 54,
   "id": "c4766746",
   "metadata": {},
   "outputs": [],
   "source": [
    "# Set parameter\n",
    "loss = ['log_loss', 'exponential']\n",
    "learning_rate = [0.1, 0.2, 0.3]\n",
    "n_estimators= [3,5,7,9]\n",
    "criterion = ['friedman_mse', 'squared_error']\n",
    "\n",
    "# Random search dictionary\n",
    "params_gb = {\n",
    "    'classifier__loss': loss,\n",
    "    'classifier__learning_rate' : learning_rate,\n",
    "    'classifier__n_estimators': n_estimators,\n",
    "    'classifier__criterion': criterion\n",
    "}"
   ]
  },
  {
   "cell_type": "markdown",
   "id": "8742ac1e",
   "metadata": {},
   "source": [
    "### AdaBoost"
   ]
  },
  {
   "cell_type": "code",
   "execution_count": 55,
   "id": "c7cf9243",
   "metadata": {},
   "outputs": [],
   "source": [
    "# Set parameter\n",
    "learning_rate = [0.1, 0.2, 0.3]\n",
    "n_estimators= [3,5,7,9]\n",
    "\n",
    "# Random search dictionary\n",
    "params_ab = {\n",
    "    'classifier__learning_rate' : learning_rate,\n",
    "    'classifier__n_estimators': n_estimators\n",
    "}"
   ]
  },
  {
   "cell_type": "markdown",
   "id": "e7f3640e",
   "metadata": {},
   "source": [
    "### HistoBoost"
   ]
  },
  {
   "cell_type": "code",
   "execution_count": 56,
   "id": "06946445",
   "metadata": {},
   "outputs": [],
   "source": [
    "# Set parameter\n",
    "max_iter= [100, 150, 200]\n",
    "max_leaf_nodes = [31, 40, 50, 60]\n",
    "min_samples_leaf = [20, 40, 60]\n",
    "\n",
    "# Random search dictionary\n",
    "params_hb = {\n",
    "    'classifier__max_iter': max_iter,\n",
    "    'classifier__max_leaf_nodes': max_leaf_nodes,\n",
    "    'classifier__min_samples_leaf': min_samples_leaf\n",
    "}"
   ]
  },
  {
   "cell_type": "markdown",
   "id": "ad812917",
   "metadata": {},
   "source": [
    "## Model Training"
   ]
  },
  {
   "cell_type": "code",
   "execution_count": 67,
   "id": "2c3f2291",
   "metadata": {},
   "outputs": [],
   "source": [
    "models_hyperparameter = {\n",
    "    'logreg': (LogisticRegression(), params_logreg),\n",
    "    'knn': (KNeighborsClassifier(), params_knn),\n",
    "    'rf': (RandomForestClassifier(), params_rf),\n",
    "    'svm': (SVC(probability=True), params_svm),\n",
    "    'tree': (DecisionTreeClassifier(), params_dc),\n",
    "    'gradient': (GradientBoostingClassifier(), params_gb),\n",
    "    'adaboost' : (AdaBoostClassifier(), params_ab),\n",
    "    'hist' : (HistGradientBoostingClassifier(), params_hb)\n",
    "    }\n",
    "\n",
    "dataset = {\n",
    "    'train' : (X_train, y_train),\n",
    "    'test' : (X_test, y_test)\n",
    "}"
   ]
  },
  {
   "cell_type": "code",
   "execution_count": 68,
   "id": "69e8f07b",
   "metadata": {},
   "outputs": [
    {
     "name": "stderr",
     "output_type": "stream",
     "text": [
      "c:\\Users\\THINKPAD\\anaconda3\\envs\\h8_env\\lib\\site-packages\\sklearn\\model_selection\\_search.py:317: UserWarning: The total space of parameters 15 is smaller than n_iter=100. Running 15 iterations. For exhaustive searches, use GridSearchCV.\n",
      "  warnings.warn(\n"
     ]
    },
    {
     "name": "stdout",
     "output_type": "stream",
     "text": [
      "Fitting 5 folds for each of 15 candidates, totalling 75 fits\n"
     ]
    },
    {
     "name": "stderr",
     "output_type": "stream",
     "text": [
      "c:\\Users\\THINKPAD\\anaconda3\\envs\\h8_env\\lib\\site-packages\\sklearn\\base.py:484: FutureWarning: `BaseEstimator._check_n_features` is deprecated in 1.6 and will be removed in 1.7. Use `sklearn.utils.validation._check_n_features` instead.\n",
      "  warnings.warn(\n",
      "c:\\Users\\THINKPAD\\anaconda3\\envs\\h8_env\\lib\\site-packages\\sklearn\\base.py:493: FutureWarning: `BaseEstimator._check_feature_names` is deprecated in 1.6 and will be removed in 1.7. Use `sklearn.utils.validation._check_feature_names` instead.\n",
      "  warnings.warn(\n",
      "c:\\Users\\THINKPAD\\anaconda3\\envs\\h8_env\\lib\\site-packages\\sklearn\\linear_model\\_sag.py:348: ConvergenceWarning: The max_iter was reached which means the coef_ did not converge\n",
      "  warnings.warn(\n",
      "c:\\Users\\THINKPAD\\anaconda3\\envs\\h8_env\\lib\\site-packages\\sklearn\\model_selection\\_search.py:317: UserWarning: The total space of parameters 96 is smaller than n_iter=100. Running 96 iterations. For exhaustive searches, use GridSearchCV.\n",
      "  warnings.warn(\n"
     ]
    },
    {
     "name": "stdout",
     "output_type": "stream",
     "text": [
      "Fitting 5 folds for each of 96 candidates, totalling 480 fits\n"
     ]
    },
    {
     "name": "stderr",
     "output_type": "stream",
     "text": [
      "c:\\Users\\THINKPAD\\anaconda3\\envs\\h8_env\\lib\\site-packages\\sklearn\\base.py:484: FutureWarning: `BaseEstimator._check_n_features` is deprecated in 1.6 and will be removed in 1.7. Use `sklearn.utils.validation._check_n_features` instead.\n",
      "  warnings.warn(\n",
      "c:\\Users\\THINKPAD\\anaconda3\\envs\\h8_env\\lib\\site-packages\\sklearn\\base.py:493: FutureWarning: `BaseEstimator._check_feature_names` is deprecated in 1.6 and will be removed in 1.7. Use `sklearn.utils.validation._check_feature_names` instead.\n",
      "  warnings.warn(\n"
     ]
    },
    {
     "name": "stdout",
     "output_type": "stream",
     "text": [
      "Fitting 5 folds for each of 100 candidates, totalling 500 fits\n"
     ]
    },
    {
     "name": "stderr",
     "output_type": "stream",
     "text": [
      "c:\\Users\\THINKPAD\\anaconda3\\envs\\h8_env\\lib\\site-packages\\sklearn\\base.py:484: FutureWarning: `BaseEstimator._check_n_features` is deprecated in 1.6 and will be removed in 1.7. Use `sklearn.utils.validation._check_n_features` instead.\n",
      "  warnings.warn(\n",
      "c:\\Users\\THINKPAD\\anaconda3\\envs\\h8_env\\lib\\site-packages\\sklearn\\base.py:493: FutureWarning: `BaseEstimator._check_feature_names` is deprecated in 1.6 and will be removed in 1.7. Use `sklearn.utils.validation._check_feature_names` instead.\n",
      "  warnings.warn(\n"
     ]
    },
    {
     "name": "stdout",
     "output_type": "stream",
     "text": [
      "Fitting 5 folds for each of 100 candidates, totalling 500 fits\n"
     ]
    },
    {
     "name": "stderr",
     "output_type": "stream",
     "text": [
      "c:\\Users\\THINKPAD\\anaconda3\\envs\\h8_env\\lib\\site-packages\\sklearn\\base.py:484: FutureWarning: `BaseEstimator._check_n_features` is deprecated in 1.6 and will be removed in 1.7. Use `sklearn.utils.validation._check_n_features` instead.\n",
      "  warnings.warn(\n",
      "c:\\Users\\THINKPAD\\anaconda3\\envs\\h8_env\\lib\\site-packages\\sklearn\\base.py:493: FutureWarning: `BaseEstimator._check_feature_names` is deprecated in 1.6 and will be removed in 1.7. Use `sklearn.utils.validation._check_feature_names` instead.\n",
      "  warnings.warn(\n"
     ]
    },
    {
     "name": "stdout",
     "output_type": "stream",
     "text": [
      "Fitting 5 folds for each of 100 candidates, totalling 500 fits\n"
     ]
    },
    {
     "name": "stderr",
     "output_type": "stream",
     "text": [
      "c:\\Users\\THINKPAD\\anaconda3\\envs\\h8_env\\lib\\site-packages\\sklearn\\base.py:484: FutureWarning: `BaseEstimator._check_n_features` is deprecated in 1.6 and will be removed in 1.7. Use `sklearn.utils.validation._check_n_features` instead.\n",
      "  warnings.warn(\n",
      "c:\\Users\\THINKPAD\\anaconda3\\envs\\h8_env\\lib\\site-packages\\sklearn\\base.py:493: FutureWarning: `BaseEstimator._check_feature_names` is deprecated in 1.6 and will be removed in 1.7. Use `sklearn.utils.validation._check_feature_names` instead.\n",
      "  warnings.warn(\n",
      "c:\\Users\\THINKPAD\\anaconda3\\envs\\h8_env\\lib\\site-packages\\sklearn\\model_selection\\_search.py:317: UserWarning: The total space of parameters 48 is smaller than n_iter=100. Running 48 iterations. For exhaustive searches, use GridSearchCV.\n",
      "  warnings.warn(\n"
     ]
    },
    {
     "name": "stdout",
     "output_type": "stream",
     "text": [
      "Fitting 5 folds for each of 48 candidates, totalling 240 fits\n"
     ]
    },
    {
     "name": "stderr",
     "output_type": "stream",
     "text": [
      "c:\\Users\\THINKPAD\\anaconda3\\envs\\h8_env\\lib\\site-packages\\sklearn\\base.py:484: FutureWarning: `BaseEstimator._check_n_features` is deprecated in 1.6 and will be removed in 1.7. Use `sklearn.utils.validation._check_n_features` instead.\n",
      "  warnings.warn(\n",
      "c:\\Users\\THINKPAD\\anaconda3\\envs\\h8_env\\lib\\site-packages\\sklearn\\base.py:493: FutureWarning: `BaseEstimator._check_feature_names` is deprecated in 1.6 and will be removed in 1.7. Use `sklearn.utils.validation._check_feature_names` instead.\n",
      "  warnings.warn(\n",
      "c:\\Users\\THINKPAD\\anaconda3\\envs\\h8_env\\lib\\site-packages\\sklearn\\model_selection\\_search.py:317: UserWarning: The total space of parameters 12 is smaller than n_iter=100. Running 12 iterations. For exhaustive searches, use GridSearchCV.\n",
      "  warnings.warn(\n"
     ]
    },
    {
     "name": "stdout",
     "output_type": "stream",
     "text": [
      "Fitting 5 folds for each of 12 candidates, totalling 60 fits\n"
     ]
    },
    {
     "name": "stderr",
     "output_type": "stream",
     "text": [
      "c:\\Users\\THINKPAD\\anaconda3\\envs\\h8_env\\lib\\site-packages\\sklearn\\base.py:484: FutureWarning: `BaseEstimator._check_n_features` is deprecated in 1.6 and will be removed in 1.7. Use `sklearn.utils.validation._check_n_features` instead.\n",
      "  warnings.warn(\n",
      "c:\\Users\\THINKPAD\\anaconda3\\envs\\h8_env\\lib\\site-packages\\sklearn\\base.py:493: FutureWarning: `BaseEstimator._check_feature_names` is deprecated in 1.6 and will be removed in 1.7. Use `sklearn.utils.validation._check_feature_names` instead.\n",
      "  warnings.warn(\n",
      "c:\\Users\\THINKPAD\\anaconda3\\envs\\h8_env\\lib\\site-packages\\sklearn\\model_selection\\_search.py:317: UserWarning: The total space of parameters 36 is smaller than n_iter=100. Running 36 iterations. For exhaustive searches, use GridSearchCV.\n",
      "  warnings.warn(\n"
     ]
    },
    {
     "name": "stdout",
     "output_type": "stream",
     "text": [
      "Fitting 5 folds for each of 36 candidates, totalling 180 fits\n"
     ]
    },
    {
     "name": "stderr",
     "output_type": "stream",
     "text": [
      "c:\\Users\\THINKPAD\\anaconda3\\envs\\h8_env\\lib\\site-packages\\sklearn\\base.py:484: FutureWarning: `BaseEstimator._check_n_features` is deprecated in 1.6 and will be removed in 1.7. Use `sklearn.utils.validation._check_n_features` instead.\n",
      "  warnings.warn(\n",
      "c:\\Users\\THINKPAD\\anaconda3\\envs\\h8_env\\lib\\site-packages\\sklearn\\base.py:493: FutureWarning: `BaseEstimator._check_feature_names` is deprecated in 1.6 and will be removed in 1.7. Use `sklearn.utils.validation._check_feature_names` instead.\n",
      "  warnings.warn(\n"
     ]
    }
   ],
   "source": [
    "eval_hyper = []\n",
    "\n",
    "for name, (model, param) in models_hyperparameter.items():\n",
    "    pipeline = ImbPipeline([\n",
    "        ('smotenc', smotenc),\n",
    "        ('preproses', preproses),\n",
    "        ('classifier', model)\n",
    "    ])\n",
    "    \n",
    "    random = RandomizedSearchCV(estimator=pipeline, param_distributions=param, cv=5, scoring='recall', n_iter=100, n_jobs=-1, random_state=10, error_score='raise', verbose=1)\n",
    "    random.fit(X_train, y_train)\n",
    "\n",
    "    for data, (X, y) in dataset.items():\n",
    "        y_pred = random.predict(X)\n",
    "        \n",
    "        y_prob = random.predict_proba(X)[:, 1]\n",
    "        auc = roc_auc_score(y, y_prob)\n",
    "\n",
    "        report = classification_report(y, y_pred, output_dict=True)\n",
    "        eval_hyper.append({\n",
    "            'Model': name,\n",
    "            'Dataset': data,\n",
    "            'Recall': report['1']['recall'],\n",
    "            'AUC': auc,\n",
    "            'Best Parameter': random.best_params_\n",
    "        })\n"
   ]
  },
  {
   "cell_type": "markdown",
   "id": "361a7b48",
   "metadata": {},
   "source": [
    "Best parameters used to get the highest recall score"
   ]
  },
  {
   "cell_type": "markdown",
   "id": "949ff6bc",
   "metadata": {},
   "source": [
    "# VIII. Model Evaluation"
   ]
  },
  {
   "cell_type": "markdown",
   "id": "fbb0e105",
   "metadata": {},
   "source": [
    "Evaluate the model by looking at the recall score and comparing it to the test data."
   ]
  },
  {
   "cell_type": "code",
   "execution_count": 59,
   "id": "5a08ae9d",
   "metadata": {},
   "outputs": [
    {
     "data": {
      "text/html": [
       "<div>\n",
       "<style scoped>\n",
       "    .dataframe tbody tr th:only-of-type {\n",
       "        vertical-align: middle;\n",
       "    }\n",
       "\n",
       "    .dataframe tbody tr th {\n",
       "        vertical-align: top;\n",
       "    }\n",
       "\n",
       "    .dataframe thead th {\n",
       "        text-align: right;\n",
       "    }\n",
       "</style>\n",
       "<table border=\"1\" class=\"dataframe\">\n",
       "  <thead>\n",
       "    <tr style=\"text-align: right;\">\n",
       "      <th></th>\n",
       "      <th>Model</th>\n",
       "      <th>Dataset</th>\n",
       "      <th>Recall</th>\n",
       "      <th>AUC</th>\n",
       "      <th>Best Parameter</th>\n",
       "    </tr>\n",
       "  </thead>\n",
       "  <tbody>\n",
       "    <tr>\n",
       "      <th>0</th>\n",
       "      <td>logreg</td>\n",
       "      <td>train</td>\n",
       "      <td>0.698413</td>\n",
       "      <td>0.806468</td>\n",
       "      <td>{'classifier__solver': 'saga', 'classifier__random_state': 10, 'classifier__penalty': 'elasticnet', 'classifier__l1_ratio': 0.5, 'classifier__C': 0.1}</td>\n",
       "    </tr>\n",
       "    <tr>\n",
       "      <th>1</th>\n",
       "      <td>logreg</td>\n",
       "      <td>test</td>\n",
       "      <td>0.562500</td>\n",
       "      <td>0.812077</td>\n",
       "      <td>{'classifier__solver': 'saga', 'classifier__random_state': 10, 'classifier__penalty': 'elasticnet', 'classifier__l1_ratio': 0.5, 'classifier__C': 0.1}</td>\n",
       "    </tr>\n",
       "    <tr>\n",
       "      <th>2</th>\n",
       "      <td>knn</td>\n",
       "      <td>train</td>\n",
       "      <td>0.825397</td>\n",
       "      <td>0.884429</td>\n",
       "      <td>{'classifier__weights': 'uniform', 'classifier__n_neighbors': 9, 'classifier__leaf_size': 15, 'classifier__algorithm': 'auto'}</td>\n",
       "    </tr>\n",
       "    <tr>\n",
       "      <th>3</th>\n",
       "      <td>knn</td>\n",
       "      <td>test</td>\n",
       "      <td>0.666667</td>\n",
       "      <td>0.743394</td>\n",
       "      <td>{'classifier__weights': 'uniform', 'classifier__n_neighbors': 9, 'classifier__leaf_size': 15, 'classifier__algorithm': 'auto'}</td>\n",
       "    </tr>\n",
       "    <tr>\n",
       "      <th>4</th>\n",
       "      <td>rf</td>\n",
       "      <td>train</td>\n",
       "      <td>0.634921</td>\n",
       "      <td>0.882086</td>\n",
       "      <td>{'classifier__n_estimators': 9, 'classifier__min_samples_split': 45, 'classifier__min_samples_leaf': 8, 'classifier__max_features': 'sqrt', 'classifier__criterion': 'gini'}</td>\n",
       "    </tr>\n",
       "    <tr>\n",
       "      <th>5</th>\n",
       "      <td>rf</td>\n",
       "      <td>test</td>\n",
       "      <td>0.437500</td>\n",
       "      <td>0.784638</td>\n",
       "      <td>{'classifier__n_estimators': 9, 'classifier__min_samples_split': 45, 'classifier__min_samples_leaf': 8, 'classifier__max_features': 'sqrt', 'classifier__criterion': 'gini'}</td>\n",
       "    </tr>\n",
       "    <tr>\n",
       "      <th>6</th>\n",
       "      <td>svm</td>\n",
       "      <td>train</td>\n",
       "      <td>0.915344</td>\n",
       "      <td>0.798250</td>\n",
       "      <td>{'classifier__random_state': 10, 'classifier__kernel': 'poly', 'classifier__gamma': 'auto', 'classifier__degree': 9, 'classifier__C': 0.1}</td>\n",
       "    </tr>\n",
       "    <tr>\n",
       "      <th>7</th>\n",
       "      <td>svm</td>\n",
       "      <td>test</td>\n",
       "      <td>0.916667</td>\n",
       "      <td>0.789126</td>\n",
       "      <td>{'classifier__random_state': 10, 'classifier__kernel': 'poly', 'classifier__gamma': 'auto', 'classifier__degree': 9, 'classifier__C': 0.1}</td>\n",
       "    </tr>\n",
       "    <tr>\n",
       "      <th>8</th>\n",
       "      <td>tree</td>\n",
       "      <td>train</td>\n",
       "      <td>0.597884</td>\n",
       "      <td>0.808942</td>\n",
       "      <td>{'classifier__splitter': 'random', 'classifier__min_samples_split': 30, 'classifier__min_samples_leaf': 8, 'classifier__max_features': 'log2', 'classifier__criterion': 'log_loss'}</td>\n",
       "    </tr>\n",
       "    <tr>\n",
       "      <th>9</th>\n",
       "      <td>tree</td>\n",
       "      <td>test</td>\n",
       "      <td>0.500000</td>\n",
       "      <td>0.705200</td>\n",
       "      <td>{'classifier__splitter': 'random', 'classifier__min_samples_split': 30, 'classifier__min_samples_leaf': 8, 'classifier__max_features': 'log2', 'classifier__criterion': 'log_loss'}</td>\n",
       "    </tr>\n",
       "    <tr>\n",
       "      <th>10</th>\n",
       "      <td>gradient</td>\n",
       "      <td>train</td>\n",
       "      <td>0.677249</td>\n",
       "      <td>0.782136</td>\n",
       "      <td>{'classifier__n_estimators': 3, 'classifier__loss': 'log_loss', 'classifier__learning_rate': 0.3, 'classifier__criterion': 'friedman_mse'}</td>\n",
       "    </tr>\n",
       "    <tr>\n",
       "      <th>11</th>\n",
       "      <td>gradient</td>\n",
       "      <td>test</td>\n",
       "      <td>0.479167</td>\n",
       "      <td>0.688897</td>\n",
       "      <td>{'classifier__n_estimators': 3, 'classifier__loss': 'log_loss', 'classifier__learning_rate': 0.3, 'classifier__criterion': 'friedman_mse'}</td>\n",
       "    </tr>\n",
       "    <tr>\n",
       "      <th>12</th>\n",
       "      <td>adaboost</td>\n",
       "      <td>train</td>\n",
       "      <td>0.677249</td>\n",
       "      <td>0.697949</td>\n",
       "      <td>{'classifier__n_estimators': 3, 'classifier__learning_rate': 0.3}</td>\n",
       "    </tr>\n",
       "    <tr>\n",
       "      <th>13</th>\n",
       "      <td>adaboost</td>\n",
       "      <td>test</td>\n",
       "      <td>0.541667</td>\n",
       "      <td>0.641599</td>\n",
       "      <td>{'classifier__n_estimators': 3, 'classifier__learning_rate': 0.3}</td>\n",
       "    </tr>\n",
       "    <tr>\n",
       "      <th>14</th>\n",
       "      <td>hist</td>\n",
       "      <td>train</td>\n",
       "      <td>0.978836</td>\n",
       "      <td>0.999968</td>\n",
       "      <td>{'classifier__min_samples_leaf': 60, 'classifier__max_leaf_nodes': 31, 'classifier__max_iter': 100}</td>\n",
       "    </tr>\n",
       "    <tr>\n",
       "      <th>15</th>\n",
       "      <td>hist</td>\n",
       "      <td>test</td>\n",
       "      <td>0.458333</td>\n",
       "      <td>0.792598</td>\n",
       "      <td>{'classifier__min_samples_leaf': 60, 'classifier__max_leaf_nodes': 31, 'classifier__max_iter': 100}</td>\n",
       "    </tr>\n",
       "  </tbody>\n",
       "</table>\n",
       "</div>"
      ],
      "text/plain": [
       "       Model Dataset    Recall       AUC  \\\n",
       "0     logreg   train  0.698413  0.806468   \n",
       "1     logreg    test  0.562500  0.812077   \n",
       "2        knn   train  0.825397  0.884429   \n",
       "3        knn    test  0.666667  0.743394   \n",
       "4         rf   train  0.634921  0.882086   \n",
       "5         rf    test  0.437500  0.784638   \n",
       "6        svm   train  0.915344  0.798250   \n",
       "7        svm    test  0.916667  0.789126   \n",
       "8       tree   train  0.597884  0.808942   \n",
       "9       tree    test  0.500000  0.705200   \n",
       "10  gradient   train  0.677249  0.782136   \n",
       "11  gradient    test  0.479167  0.688897   \n",
       "12  adaboost   train  0.677249  0.697949   \n",
       "13  adaboost    test  0.541667  0.641599   \n",
       "14      hist   train  0.978836  0.999968   \n",
       "15      hist    test  0.458333  0.792598   \n",
       "\n",
       "                                                                                                                                                                         Best Parameter  \n",
       "0                                {'classifier__solver': 'saga', 'classifier__random_state': 10, 'classifier__penalty': 'elasticnet', 'classifier__l1_ratio': 0.5, 'classifier__C': 0.1}  \n",
       "1                                {'classifier__solver': 'saga', 'classifier__random_state': 10, 'classifier__penalty': 'elasticnet', 'classifier__l1_ratio': 0.5, 'classifier__C': 0.1}  \n",
       "2                                                        {'classifier__weights': 'uniform', 'classifier__n_neighbors': 9, 'classifier__leaf_size': 15, 'classifier__algorithm': 'auto'}  \n",
       "3                                                        {'classifier__weights': 'uniform', 'classifier__n_neighbors': 9, 'classifier__leaf_size': 15, 'classifier__algorithm': 'auto'}  \n",
       "4          {'classifier__n_estimators': 9, 'classifier__min_samples_split': 45, 'classifier__min_samples_leaf': 8, 'classifier__max_features': 'sqrt', 'classifier__criterion': 'gini'}  \n",
       "5          {'classifier__n_estimators': 9, 'classifier__min_samples_split': 45, 'classifier__min_samples_leaf': 8, 'classifier__max_features': 'sqrt', 'classifier__criterion': 'gini'}  \n",
       "6                                            {'classifier__random_state': 10, 'classifier__kernel': 'poly', 'classifier__gamma': 'auto', 'classifier__degree': 9, 'classifier__C': 0.1}  \n",
       "7                                            {'classifier__random_state': 10, 'classifier__kernel': 'poly', 'classifier__gamma': 'auto', 'classifier__degree': 9, 'classifier__C': 0.1}  \n",
       "8   {'classifier__splitter': 'random', 'classifier__min_samples_split': 30, 'classifier__min_samples_leaf': 8, 'classifier__max_features': 'log2', 'classifier__criterion': 'log_loss'}  \n",
       "9   {'classifier__splitter': 'random', 'classifier__min_samples_split': 30, 'classifier__min_samples_leaf': 8, 'classifier__max_features': 'log2', 'classifier__criterion': 'log_loss'}  \n",
       "10                                           {'classifier__n_estimators': 3, 'classifier__loss': 'log_loss', 'classifier__learning_rate': 0.3, 'classifier__criterion': 'friedman_mse'}  \n",
       "11                                           {'classifier__n_estimators': 3, 'classifier__loss': 'log_loss', 'classifier__learning_rate': 0.3, 'classifier__criterion': 'friedman_mse'}  \n",
       "12                                                                                                                    {'classifier__n_estimators': 3, 'classifier__learning_rate': 0.3}  \n",
       "13                                                                                                                    {'classifier__n_estimators': 3, 'classifier__learning_rate': 0.3}  \n",
       "14                                                                                  {'classifier__min_samples_leaf': 60, 'classifier__max_leaf_nodes': 31, 'classifier__max_iter': 100}  \n",
       "15                                                                                  {'classifier__min_samples_leaf': 60, 'classifier__max_leaf_nodes': 31, 'classifier__max_iter': 100}  "
      ]
     },
     "execution_count": 59,
     "metadata": {},
     "output_type": "execute_result"
    }
   ],
   "source": [
    "df_results = pd.DataFrame(eval_hyper)\n",
    "df_results"
   ]
  },
  {
   "cell_type": "code",
   "execution_count": 60,
   "id": "51221949",
   "metadata": {},
   "outputs": [
    {
     "name": "stderr",
     "output_type": "stream",
     "text": [
      "C:\\Users\\THINKPAD\\AppData\\Local\\Temp\\ipykernel_6728\\2884248910.py:4: UserWarning: No artists with labels found to put in legend.  Note that artists whose label start with an underscore are ignored when legend() is called with no argument.\n",
      "  plt.legend(loc='upper left', bbox_to_anchor=(1, 1))\n"
     ]
    },
    {
     "data": {
      "image/png": "[encoded data removed]",
      "text/plain": [
       "<Figure size 640x480 with 1 Axes>"
      ]
     },
     "metadata": {},
     "output_type": "display_data"
    }
   ],
   "source": [
    "# Creating a barplot visualization\n",
    "sns.barplot(data=df_results[df_results['Dataset']=='test'], x='Model' , y='Recall', hue='Model')\n",
    "plt.title('Evaluation Matriks Recall Test')\n",
    "plt.legend(loc='upper left', bbox_to_anchor=(1, 1))\n",
    "plt.xlabel('Models')\n",
    "plt.ylabel('Recall')\n",
    "plt.show()"
   ]
  },
  {
   "cell_type": "code",
   "execution_count": 61,
   "id": "30b56652",
   "metadata": {},
   "outputs": [
    {
     "name": "stderr",
     "output_type": "stream",
     "text": [
      "C:\\Users\\THINKPAD\\AppData\\Local\\Temp\\ipykernel_6728\\2356032256.py:4: UserWarning: No artists with labels found to put in legend.  Note that artists whose label start with an underscore are ignored when legend() is called with no argument.\n",
      "  plt.legend(loc='upper left', bbox_to_anchor=(1, 1))\n"
     ]
    },
    {
     "data": {
      "image/png": "[encoded data removed]",
      "text/plain": [
       "<Figure size 640x480 with 1 Axes>"
      ]
     },
     "metadata": {},
     "output_type": "display_data"
    }
   ],
   "source": [
    "# Creating a barplot visualization\n",
    "sns.barplot(data=df_results[df_results['Dataset']=='test'], x='Model' , y='AUC', hue='Model')\n",
    "plt.title('Evaluation Matriks AUC')\n",
    "plt.legend(loc='upper left', bbox_to_anchor=(1, 1))\n",
    "plt.xlabel('Models')\n",
    "plt.ylabel('AUC')\n",
    "plt.show()"
   ]
  },
  {
   "cell_type": "markdown",
   "id": "26e8fc88",
   "metadata": {},
   "source": [
    "| Model | Recall (Test) | AUC (Test) | Description |\n",
    "| ------------ | ------------- | ---------- | --------------------------------------------------------------- |\n",
    "| **SVM** | **0.917** | 0.789 | Highest test recall, fairly good AUC, although not the highest |\n",
    "| **KNN** | 0.667 | 0.743 | Good test recall, moderate AUC, still stable |\n",
    "| **LogReg** | 0.563 | 0.812 | High test AUC, somewhat low recall |\n",
    "| **HistGB** | 0.458 | 0.793 | Severe overfit (very high train, drastically reduced test) |\n",
    "| **RF** | 0.438 | 0.785 | Also overfits, but not as severely as HistGB |\n",
    "| **Gradient** | 0.479 | 0.689 | Performance drops significantly on the test set |\n",
    "| **Adaboost** | 0.542 | 0.642 | Lowest recall and AUC |\n",
    "| **Tree** | 0.500 | 0.705 | Most balanced model but not as prominent |\n"
   ]
  },
  {
   "cell_type": "markdown",
   "id": "5e1ed0fd",
   "metadata": {},
   "source": [
    "🔹 **Best Model: SVM**\n",
    "Because it has the highest recall in the test (0.917) with stability between train and test, making it the primary choice for cases where the positive class is crucial."
   ]
  },
  {
   "cell_type": "markdown",
   "id": "6cf826e5",
   "metadata": {},
   "source": [
    "> Based on these results, it exceeds the main standard of the evaluation matrix focus **80% of employees who leave** (recall ≥ 0.80), so it can be concluded that the model creation was successful."
   ]
  },
  {
   "cell_type": "markdown",
   "id": "e371066f",
   "metadata": {},
   "source": [
    "# IX. Model Saving"
   ]
  },
  {
   "cell_type": "markdown",
   "id": "8a7eab75",
   "metadata": {},
   "source": [
    "Due to the need for accountability for work and evaluation of input for the team, the best model will still be used for inference in Streamlit. The following is the process of saving the model into PKL format."
   ]
  },
  {
   "cell_type": "code",
   "execution_count": 62,
   "id": "d2780f6b",
   "metadata": {},
   "outputs": [],
   "source": [
    "# Model definition\n",
    "best_model = random.best_estimator_\n",
    "\n",
    "# Save to file\n",
    "pickle.dump(best_model, open('best_model.pkl', 'wb'))"
   ]
  },
  {
   "cell_type": "markdown",
   "id": "69314187",
   "metadata": {},
   "source": [
    "# X. Inference"
   ]
  },
  {
   "cell_type": "markdown",
   "id": "2ad135a6",
   "metadata": {},
   "source": [
    "Inference is a stage for predicting new data, inference is made in a different notebook file to see the results of loading data, namely in the file : `inference.ipynb`"
   ]
  },
  {
   "cell_type": "markdown",
   "id": "cd3dd6a6",
   "metadata": {},
   "source": [
    "Inference can also be used to predict data directly by visiting the Huggingface website with the following link:\n",
    "[Link EDA and Inference](https://huggingface.co/spaces/ifananwar/attrition-classifier)"
   ]
  },
  {
   "cell_type": "code",
   "execution_count": 63,
   "id": "2773ee99",
   "metadata": {},
   "outputs": [],
   "source": [
    "# Load model into best_model\n",
    "with open('best_model.pkl', 'rb') as file:\n",
    "    best_model = pickle.load(file)"
   ]
  },
  {
   "cell_type": "code",
   "execution_count": 64,
   "id": "4631d82a",
   "metadata": {},
   "outputs": [
    {
     "data": {
      "text/html": [
       "<div>\n",
       "<style scoped>\n",
       "    .dataframe tbody tr th:only-of-type {\n",
       "        vertical-align: middle;\n",
       "    }\n",
       "\n",
       "    .dataframe tbody tr th {\n",
       "        vertical-align: top;\n",
       "    }\n",
       "\n",
       "    .dataframe thead th {\n",
       "        text-align: right;\n",
       "    }\n",
       "</style>\n",
       "<table border=\"1\" class=\"dataframe\">\n",
       "  <thead>\n",
       "    <tr style=\"text-align: right;\">\n",
       "      <th></th>\n",
       "      <th>Age</th>\n",
       "      <th>Attrition</th>\n",
       "      <th>BusinessTravel</th>\n",
       "      <th>DailyRate</th>\n",
       "      <th>Department</th>\n",
       "      <th>DistanceFromHome</th>\n",
       "      <th>Education</th>\n",
       "      <th>EducationField</th>\n",
       "      <th>EmployeeNumber</th>\n",
       "      <th>EnvironmentSatisfaction</th>\n",
       "      <th>...</th>\n",
       "      <th>PerformanceRating</th>\n",
       "      <th>RelationshipSatisfaction</th>\n",
       "      <th>StockOptionLevel</th>\n",
       "      <th>TotalWorkingYears</th>\n",
       "      <th>TrainingTimesLastYear</th>\n",
       "      <th>WorkLifeBalance</th>\n",
       "      <th>YearsAtCompany</th>\n",
       "      <th>YearsInCurrentRole</th>\n",
       "      <th>YearsSinceLastPromotion</th>\n",
       "      <th>YearsWithCurrManager</th>\n",
       "    </tr>\n",
       "  </thead>\n",
       "  <tbody>\n",
       "    <tr>\n",
       "      <th>0</th>\n",
       "      <td>41</td>\n",
       "      <td>1</td>\n",
       "      <td>Travel_Rarely</td>\n",
       "      <td>1102</td>\n",
       "      <td>Sales</td>\n",
       "      <td>1</td>\n",
       "      <td>2</td>\n",
       "      <td>Life Sciences</td>\n",
       "      <td>1</td>\n",
       "      <td>2</td>\n",
       "      <td>...</td>\n",
       "      <td>3</td>\n",
       "      <td>1</td>\n",
       "      <td>0</td>\n",
       "      <td>8</td>\n",
       "      <td>0</td>\n",
       "      <td>1</td>\n",
       "      <td>6</td>\n",
       "      <td>4</td>\n",
       "      <td>0</td>\n",
       "      <td>5</td>\n",
       "    </tr>\n",
       "  </tbody>\n",
       "</table>\n",
       "<p>1 rows × 32 columns</p>\n",
       "</div>"
      ],
      "text/plain": [
       "   Age  Attrition BusinessTravel  DailyRate Department  DistanceFromHome  \\\n",
       "0   41          1  Travel_Rarely       1102      Sales                 1   \n",
       "\n",
       "   Education EducationField  EmployeeNumber  EnvironmentSatisfaction  ...  \\\n",
       "0          2  Life Sciences               1                        2  ...   \n",
       "\n",
       "  PerformanceRating  RelationshipSatisfaction  StockOptionLevel  \\\n",
       "0                 3                         1                 0   \n",
       "\n",
       "   TotalWorkingYears TrainingTimesLastYear  WorkLifeBalance YearsAtCompany  \\\n",
       "0                  8                     0                1              6   \n",
       "\n",
       "   YearsInCurrentRole  YearsSinceLastPromotion  YearsWithCurrManager  \n",
       "0                   4                        0                     5  \n",
       "\n",
       "[1 rows x 32 columns]"
      ]
     },
     "execution_count": 64,
     "metadata": {},
     "output_type": "execute_result"
    }
   ],
   "source": [
    "# Create new employee data\n",
    "data_inf = {\n",
    "    'Age' : 41,\n",
    "    'Attrition' : 1,\n",
    "    'BusinessTravel' : 'Travel_Rarely',\n",
    "    'DailyRate' : 1102,\n",
    "    'Department' : 'Sales',\n",
    "    'DistanceFromHome' : 1,\n",
    "    'Education' : 2,\n",
    "    'EducationField' : 'Life Sciences',\n",
    "    'EmployeeNumber' : 1,\n",
    "    'EnvironmentSatisfaction' : 2,\n",
    "    'Gender' : 'Female',\n",
    "    'HourlyRate' : 94,\n",
    "    'JobInvolvement' : 3,\n",
    "    'JobLevel' : 2,\n",
    "    'JobRole' : 'Sales Executive',\n",
    "    'JobSatisfaction' : 4,\n",
    "    'MaritalStatus' : 'Single',\n",
    "    'MonthlyIncome' : 6000,\n",
    "    'MonthlyRate' : 19500,\n",
    "    'NumCompaniesWorked' : 8,\n",
    "    'OverTime' : 'Yes',\n",
    "    'PercentSalaryHike' : 11,\n",
    "    'PerformanceRating' : 3,\n",
    "    'RelationshipSatisfaction' : 1,\n",
    "    'StockOptionLevel' : 0,\n",
    "    'TotalWorkingYears' : 8,\n",
    "    'TrainingTimesLastYear' : 0,\n",
    "    'WorkLifeBalance' : 1,\n",
    "    'YearsAtCompany' : 6,\n",
    "    'YearsInCurrentRole' : 4,\n",
    "    'YearsSinceLastPromotion' : 0,\n",
    "    'YearsWithCurrManager' : 5\n",
    "}\n",
    "\n",
    "# Ubah ke dataframe\n",
    "data_inf = pd.DataFrame([data_inf])\n",
    "data_inf"
   ]
  },
  {
   "cell_type": "code",
   "execution_count": 65,
   "id": "e942d1c4",
   "metadata": {},
   "outputs": [
    {
     "data": {
      "text/plain": [
       "array([1])"
      ]
     },
     "execution_count": 65,
     "metadata": {},
     "output_type": "execute_result"
    }
   ],
   "source": [
    "# Predicting new employee data\n",
    "y_pred_inf = best_model.predict(data_inf)\n",
    "y_pred_inf"
   ]
  },
  {
   "cell_type": "markdown",
   "id": "f304a795",
   "metadata": {},
   "source": [
    "It is found that employees who are predicted to potentially leave the workplace. However, this is not necessarily accurate, someone does not necessarily leave just because they are predicted to leave, therefore the company can conduct stay interviews or job satisfaction questionnaires for these employees."
   ]
  },
  {
   "cell_type": "markdown",
   "id": "5d2d70ee",
   "metadata": {},
   "source": [
    "# XI. ✅ Conclusion"
   ]
  },
  {
   "cell_type": "markdown",
   "id": "d0b2dc83",
   "metadata": {},
   "source": [
    "The following key insights and conclusions were drawn from the analysis:\n",
    "\n",
    "1. **Higher salaries and salary increases** motivate employees to stay longer with the company.\n",
    "2. A **balanced work environment and moderate work-life balance**—not too poor and not excessively comfortable—helps employees stay focused and reduces their intention to leave.\n",
    "3. **Departments with high workload and pressure** tend to have higher attrition rates, as employees seek roles with less stress and easier adaptation.\n",
    "4. Employees are more likely to leave during the **early stage of their career** at a company. However, once they adapt and find stability, they are more likely to stay.\n",
    "5. There is **no strong relationship** between the distance from home and employee attrition.\n",
    "6. The best-performing base model was **AdaBoost**, Balanced, strong recall, stable AUC.\n",
    "7. But after **Hyperparameter tuning** Best model was **SVM** Because it has the highest recall in the test (0.917) with stability between train and test, making it the primary choice for cases where the positive class is crucial.\n",
    "8. The best model will be **used for inference**, and successfully run on **different notebooks** and **websites with the Streamlit framework**.\n",
    "9. Future improvements may include:\n",
    "   - Adding more data and **new features**  \n",
    "   - Enhancing **feature engineering**  \n",
    "   - Maximizing **hyperparameter tuning** using approaches like `GridSearchCV`\n",
    "10. Some features, such as `PerformanceRating` and `Department`, may benefit from **greater variation** to provide more informative insights.\n",
    "11. Inference results **should not be treated as absolute**—an employee predicted to leave may not actually do so. Therefore, it is recommended that the company conduct **stay interviews or job satisfaction surveys** with at-risk employees.\n",
    "> These conclusions can guide future HR policies and model improvement efforts to reduce turnover and strengthen employee retention.\n"
   ]
  }
 ],
 "metadata": {
  "kernelspec": {
   "display_name": "h8_env",
   "language": "python",
   "name": "python3"
  },
  "language_info": {
   "codemirror_mode": {
    "name": "ipython",
    "version": 3
   },
   "file_extension": ".py",
   "mimetype": "text/x-python",
   "name": "python",
   "nbconvert_exporter": "python",
   "pygments_lexer": "ipython3",
   "version": "3.9.23"
  }
 },
 "nbformat": 4,
 "nbformat_minor": 5
}
